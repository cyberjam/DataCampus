{
 "cells": [
  {
   "cell_type": "markdown",
   "metadata": {},
   "source": [
    "# Machine Learning ( 2020.08.06 )"
   ]
  },
  {
   "cell_type": "markdown",
   "metadata": {},
   "source": [
    "## 1. Intro"
   ]
  },
  {
   "cell_type": "markdown",
   "metadata": {},
   "source": [
    "yo!"
   ]
  },
  {
   "cell_type": "markdown",
   "metadata": {},
   "source": [
    "## 2. EDA"
   ]
  },
  {
   "cell_type": "code",
   "execution_count": 64,
   "metadata": {},
   "outputs": [],
   "source": [
    "import easygui\n",
    "import pandas as pd"
   ]
  },
  {
   "cell_type": "code",
   "execution_count": 3,
   "metadata": {},
   "outputs": [
    {
     "data": {
      "text/plain": [
       "'C:\\\\Python\\\\Project\\\\rawdata\\\\우리동네 대기 정보(한남대학교).csv'"
      ]
     },
     "execution_count": 3,
     "metadata": {},
     "output_type": "execute_result"
    }
   ],
   "source": [
    "data_file = easygui.fileopenbox()\n",
    "data_file"
   ]
  },
  {
   "cell_type": "code",
   "execution_count": 4,
   "metadata": {},
   "outputs": [
    {
     "data": {
      "text/plain": [
       "(24, 7)"
      ]
     },
     "execution_count": 4,
     "metadata": {},
     "output_type": "execute_result"
    }
   ],
   "source": [
    "data_raw = pd.read_csv(data_file)\n",
    "data_raw.shape"
   ]
  },
  {
   "cell_type": "code",
   "execution_count": 5,
   "metadata": {},
   "outputs": [
    {
     "data": {
      "text/html": [
       "<div>\n",
       "<style scoped>\n",
       "    .dataframe tbody tr th:only-of-type {\n",
       "        vertical-align: middle;\n",
       "    }\n",
       "\n",
       "    .dataframe tbody tr th {\n",
       "        vertical-align: top;\n",
       "    }\n",
       "\n",
       "    .dataframe thead th {\n",
       "        text-align: right;\n",
       "    }\n",
       "</style>\n",
       "<table border=\"1\" class=\"dataframe\">\n",
       "  <thead>\n",
       "    <tr style=\"text-align: right;\">\n",
       "      <th></th>\n",
       "      <th>YMDH</th>\n",
       "      <th>PM10</th>\n",
       "      <th>PM2.5</th>\n",
       "      <th>O3</th>\n",
       "      <th>NO2</th>\n",
       "      <th>CO</th>\n",
       "      <th>SO2</th>\n",
       "    </tr>\n",
       "  </thead>\n",
       "  <tbody>\n",
       "    <tr>\n",
       "      <th>0</th>\n",
       "      <td>2020-07-06:24</td>\n",
       "      <td>25</td>\n",
       "      <td>5.0</td>\n",
       "      <td>0.046</td>\n",
       "      <td>0.005</td>\n",
       "      <td>0.3</td>\n",
       "      <td>0.002</td>\n",
       "    </tr>\n",
       "    <tr>\n",
       "      <th>1</th>\n",
       "      <td>2020-07-06:23</td>\n",
       "      <td>30</td>\n",
       "      <td>13.0</td>\n",
       "      <td>0.050</td>\n",
       "      <td>0.005</td>\n",
       "      <td>0.3</td>\n",
       "      <td>0.002</td>\n",
       "    </tr>\n",
       "    <tr>\n",
       "      <th>2</th>\n",
       "      <td>2020-07-06:22</td>\n",
       "      <td>18</td>\n",
       "      <td>12.0</td>\n",
       "      <td>0.051</td>\n",
       "      <td>0.005</td>\n",
       "      <td>0.4</td>\n",
       "      <td>0.002</td>\n",
       "    </tr>\n",
       "    <tr>\n",
       "      <th>3</th>\n",
       "      <td>2020-07-06:21</td>\n",
       "      <td>8</td>\n",
       "      <td>6.0</td>\n",
       "      <td>0.049</td>\n",
       "      <td>0.006</td>\n",
       "      <td>0.4</td>\n",
       "      <td>0.002</td>\n",
       "    </tr>\n",
       "    <tr>\n",
       "      <th>4</th>\n",
       "      <td>2020-07-06:20</td>\n",
       "      <td>14</td>\n",
       "      <td>NaN</td>\n",
       "      <td>0.042</td>\n",
       "      <td>0.008</td>\n",
       "      <td>0.4</td>\n",
       "      <td>0.002</td>\n",
       "    </tr>\n",
       "  </tbody>\n",
       "</table>\n",
       "</div>"
      ],
      "text/plain": [
       "            YMDH  PM10  PM2.5     O3    NO2   CO    SO2\n",
       "0  2020-07-06:24    25    5.0  0.046  0.005  0.3  0.002\n",
       "1  2020-07-06:23    30   13.0  0.050  0.005  0.3  0.002\n",
       "2  2020-07-06:22    18   12.0  0.051  0.005  0.4  0.002\n",
       "3  2020-07-06:21     8    6.0  0.049  0.006  0.4  0.002\n",
       "4  2020-07-06:20    14    NaN  0.042  0.008  0.4  0.002"
      ]
     },
     "execution_count": 5,
     "metadata": {},
     "output_type": "execute_result"
    }
   ],
   "source": [
    "data_raw.head()"
   ]
  },
  {
   "cell_type": "code",
   "execution_count": 8,
   "metadata": {},
   "outputs": [
    {
     "data": {
      "text/html": [
       "<div>\n",
       "<style scoped>\n",
       "    .dataframe tbody tr th:only-of-type {\n",
       "        vertical-align: middle;\n",
       "    }\n",
       "\n",
       "    .dataframe tbody tr th {\n",
       "        vertical-align: top;\n",
       "    }\n",
       "\n",
       "    .dataframe thead th {\n",
       "        text-align: right;\n",
       "    }\n",
       "</style>\n",
       "<table border=\"1\" class=\"dataframe\">\n",
       "  <thead>\n",
       "    <tr style=\"text-align: right;\">\n",
       "      <th></th>\n",
       "      <th>PM10</th>\n",
       "      <th>PM2.5</th>\n",
       "      <th>O3</th>\n",
       "      <th>NO2</th>\n",
       "      <th>CO</th>\n",
       "      <th>SO2</th>\n",
       "    </tr>\n",
       "  </thead>\n",
       "  <tbody>\n",
       "    <tr>\n",
       "      <th>count</th>\n",
       "      <td>24.000000</td>\n",
       "      <td>16.000000</td>\n",
       "      <td>24.000000</td>\n",
       "      <td>24.000000</td>\n",
       "      <td>24.000000</td>\n",
       "      <td>24.000</td>\n",
       "    </tr>\n",
       "    <tr>\n",
       "      <th>mean</th>\n",
       "      <td>13.291667</td>\n",
       "      <td>8.000000</td>\n",
       "      <td>0.037125</td>\n",
       "      <td>0.007292</td>\n",
       "      <td>0.316667</td>\n",
       "      <td>0.002</td>\n",
       "    </tr>\n",
       "    <tr>\n",
       "      <th>std</th>\n",
       "      <td>6.610132</td>\n",
       "      <td>4.396969</td>\n",
       "      <td>0.020187</td>\n",
       "      <td>0.002866</td>\n",
       "      <td>0.038069</td>\n",
       "      <td>0.000</td>\n",
       "    </tr>\n",
       "    <tr>\n",
       "      <th>min</th>\n",
       "      <td>5.000000</td>\n",
       "      <td>2.000000</td>\n",
       "      <td>0.008000</td>\n",
       "      <td>0.004000</td>\n",
       "      <td>0.300000</td>\n",
       "      <td>0.002</td>\n",
       "    </tr>\n",
       "    <tr>\n",
       "      <th>25%</th>\n",
       "      <td>8.000000</td>\n",
       "      <td>5.000000</td>\n",
       "      <td>0.016250</td>\n",
       "      <td>0.005000</td>\n",
       "      <td>0.300000</td>\n",
       "      <td>0.002</td>\n",
       "    </tr>\n",
       "    <tr>\n",
       "      <th>50%</th>\n",
       "      <td>13.500000</td>\n",
       "      <td>6.500000</td>\n",
       "      <td>0.044000</td>\n",
       "      <td>0.007000</td>\n",
       "      <td>0.300000</td>\n",
       "      <td>0.002</td>\n",
       "    </tr>\n",
       "    <tr>\n",
       "      <th>75%</th>\n",
       "      <td>17.000000</td>\n",
       "      <td>10.500000</td>\n",
       "      <td>0.051000</td>\n",
       "      <td>0.008250</td>\n",
       "      <td>0.300000</td>\n",
       "      <td>0.002</td>\n",
       "    </tr>\n",
       "    <tr>\n",
       "      <th>max</th>\n",
       "      <td>30.000000</td>\n",
       "      <td>16.000000</td>\n",
       "      <td>0.067000</td>\n",
       "      <td>0.014000</td>\n",
       "      <td>0.400000</td>\n",
       "      <td>0.002</td>\n",
       "    </tr>\n",
       "  </tbody>\n",
       "</table>\n",
       "</div>"
      ],
      "text/plain": [
       "            PM10      PM2.5         O3        NO2         CO     SO2\n",
       "count  24.000000  16.000000  24.000000  24.000000  24.000000  24.000\n",
       "mean   13.291667   8.000000   0.037125   0.007292   0.316667   0.002\n",
       "std     6.610132   4.396969   0.020187   0.002866   0.038069   0.000\n",
       "min     5.000000   2.000000   0.008000   0.004000   0.300000   0.002\n",
       "25%     8.000000   5.000000   0.016250   0.005000   0.300000   0.002\n",
       "50%    13.500000   6.500000   0.044000   0.007000   0.300000   0.002\n",
       "75%    17.000000  10.500000   0.051000   0.008250   0.300000   0.002\n",
       "max    30.000000  16.000000   0.067000   0.014000   0.400000   0.002"
      ]
     },
     "execution_count": 8,
     "metadata": {},
     "output_type": "execute_result"
    }
   ],
   "source": [
    "# 연속형 data만 요약\n",
    "data_raw.describe() "
   ]
  },
  {
   "cell_type": "markdown",
   "metadata": {},
   "source": [
    "### 2-1. 변수 제거 "
   ]
  },
  {
   "cell_type": "markdown",
   "metadata": {},
   "source": [
    "    * 숫자형만 추출 (describe 이용)\n",
    "    * 같은 값 가지는 변수 제거 ( sklearn 분산 , 표준편차) \n",
    "    * 중복변수 제거"
   ]
  },
  {
   "cell_type": "markdown",
   "metadata": {},
   "source": [
    "#### 2-1-1. 숫자형 추출 방법 2가지"
   ]
  },
  {
   "cell_type": "markdown",
   "metadata": {},
   "source": [
    "##### 2-1-1-1. 직접 확인해서 제거"
   ]
  },
  {
   "cell_type": "code",
   "execution_count": 10,
   "metadata": {},
   "outputs": [
    {
     "data": {
      "text/html": [
       "<div>\n",
       "<style scoped>\n",
       "    .dataframe tbody tr th:only-of-type {\n",
       "        vertical-align: middle;\n",
       "    }\n",
       "\n",
       "    .dataframe tbody tr th {\n",
       "        vertical-align: top;\n",
       "    }\n",
       "\n",
       "    .dataframe thead th {\n",
       "        text-align: right;\n",
       "    }\n",
       "</style>\n",
       "<table border=\"1\" class=\"dataframe\">\n",
       "  <thead>\n",
       "    <tr style=\"text-align: right;\">\n",
       "      <th></th>\n",
       "      <th>PM10</th>\n",
       "      <th>PM2.5</th>\n",
       "      <th>O3</th>\n",
       "      <th>NO2</th>\n",
       "      <th>CO</th>\n",
       "      <th>SO2</th>\n",
       "    </tr>\n",
       "  </thead>\n",
       "  <tbody>\n",
       "    <tr>\n",
       "      <th>0</th>\n",
       "      <td>25</td>\n",
       "      <td>5.0</td>\n",
       "      <td>0.046</td>\n",
       "      <td>0.005</td>\n",
       "      <td>0.3</td>\n",
       "      <td>0.002</td>\n",
       "    </tr>\n",
       "    <tr>\n",
       "      <th>1</th>\n",
       "      <td>30</td>\n",
       "      <td>13.0</td>\n",
       "      <td>0.050</td>\n",
       "      <td>0.005</td>\n",
       "      <td>0.3</td>\n",
       "      <td>0.002</td>\n",
       "    </tr>\n",
       "    <tr>\n",
       "      <th>2</th>\n",
       "      <td>18</td>\n",
       "      <td>12.0</td>\n",
       "      <td>0.051</td>\n",
       "      <td>0.005</td>\n",
       "      <td>0.4</td>\n",
       "      <td>0.002</td>\n",
       "    </tr>\n",
       "    <tr>\n",
       "      <th>3</th>\n",
       "      <td>8</td>\n",
       "      <td>6.0</td>\n",
       "      <td>0.049</td>\n",
       "      <td>0.006</td>\n",
       "      <td>0.4</td>\n",
       "      <td>0.002</td>\n",
       "    </tr>\n",
       "    <tr>\n",
       "      <th>4</th>\n",
       "      <td>14</td>\n",
       "      <td>NaN</td>\n",
       "      <td>0.042</td>\n",
       "      <td>0.008</td>\n",
       "      <td>0.4</td>\n",
       "      <td>0.002</td>\n",
       "    </tr>\n",
       "  </tbody>\n",
       "</table>\n",
       "</div>"
      ],
      "text/plain": [
       "   PM10  PM2.5     O3    NO2   CO    SO2\n",
       "0    25    5.0  0.046  0.005  0.3  0.002\n",
       "1    30   13.0  0.050  0.005  0.3  0.002\n",
       "2    18   12.0  0.051  0.005  0.4  0.002\n",
       "3     8    6.0  0.049  0.006  0.4  0.002\n",
       "4    14    NaN  0.042  0.008  0.4  0.002"
      ]
     },
     "execution_count": 10,
     "metadata": {},
     "output_type": "execute_result"
    }
   ],
   "source": [
    "# 한개의 값만 가지는 변수 제거\n",
    "# 분산이 0 -> 숫자형만\n",
    "# 그러므로 숫자형이 아닌 0열 제거 # 수동\n",
    "\n",
    "data_num = data_raw.iloc[:,1:]\n",
    "data_num.head()"
   ]
  },
  {
   "cell_type": "markdown",
   "metadata": {},
   "source": [
    "##### 2-1-1-2. descibe()은 숫자형만 되는 걸 이용"
   ]
  },
  {
   "cell_type": "code",
   "execution_count": 11,
   "metadata": {},
   "outputs": [
    {
     "data": {
      "text/html": [
       "<div>\n",
       "<style scoped>\n",
       "    .dataframe tbody tr th:only-of-type {\n",
       "        vertical-align: middle;\n",
       "    }\n",
       "\n",
       "    .dataframe tbody tr th {\n",
       "        vertical-align: top;\n",
       "    }\n",
       "\n",
       "    .dataframe thead th {\n",
       "        text-align: right;\n",
       "    }\n",
       "</style>\n",
       "<table border=\"1\" class=\"dataframe\">\n",
       "  <thead>\n",
       "    <tr style=\"text-align: right;\">\n",
       "      <th></th>\n",
       "      <th>PM10</th>\n",
       "      <th>PM2.5</th>\n",
       "      <th>O3</th>\n",
       "      <th>NO2</th>\n",
       "      <th>CO</th>\n",
       "      <th>SO2</th>\n",
       "    </tr>\n",
       "  </thead>\n",
       "  <tbody>\n",
       "    <tr>\n",
       "      <th>0</th>\n",
       "      <td>25</td>\n",
       "      <td>5.0</td>\n",
       "      <td>0.046</td>\n",
       "      <td>0.005</td>\n",
       "      <td>0.3</td>\n",
       "      <td>0.002</td>\n",
       "    </tr>\n",
       "    <tr>\n",
       "      <th>1</th>\n",
       "      <td>30</td>\n",
       "      <td>13.0</td>\n",
       "      <td>0.050</td>\n",
       "      <td>0.005</td>\n",
       "      <td>0.3</td>\n",
       "      <td>0.002</td>\n",
       "    </tr>\n",
       "    <tr>\n",
       "      <th>2</th>\n",
       "      <td>18</td>\n",
       "      <td>12.0</td>\n",
       "      <td>0.051</td>\n",
       "      <td>0.005</td>\n",
       "      <td>0.4</td>\n",
       "      <td>0.002</td>\n",
       "    </tr>\n",
       "    <tr>\n",
       "      <th>3</th>\n",
       "      <td>8</td>\n",
       "      <td>6.0</td>\n",
       "      <td>0.049</td>\n",
       "      <td>0.006</td>\n",
       "      <td>0.4</td>\n",
       "      <td>0.002</td>\n",
       "    </tr>\n",
       "    <tr>\n",
       "      <th>4</th>\n",
       "      <td>14</td>\n",
       "      <td>NaN</td>\n",
       "      <td>0.042</td>\n",
       "      <td>0.008</td>\n",
       "      <td>0.4</td>\n",
       "      <td>0.002</td>\n",
       "    </tr>\n",
       "  </tbody>\n",
       "</table>\n",
       "</div>"
      ],
      "text/plain": [
       "   PM10  PM2.5     O3    NO2   CO    SO2\n",
       "0    25    5.0  0.046  0.005  0.3  0.002\n",
       "1    30   13.0  0.050  0.005  0.3  0.002\n",
       "2    18   12.0  0.051  0.005  0.4  0.002\n",
       "3     8    6.0  0.049  0.006  0.4  0.002\n",
       "4    14    NaN  0.042  0.008  0.4  0.002"
      ]
     },
     "execution_count": 11,
     "metadata": {},
     "output_type": "execute_result"
    }
   ],
   "source": [
    "## 숫자형 변수 저장 - describe() 결과 이용 #자동\n",
    "\n",
    "data_raw_desc = data_raw.describe()\n",
    "num_col_names = data_raw_desc.columns #describe 열이름 \n",
    "data_num = data_raw[num_col_names] # 숫자형만 추출\n",
    "data_num.head()"
   ]
  },
  {
   "cell_type": "code",
   "execution_count": 15,
   "metadata": {},
   "outputs": [
    {
     "name": "stdout",
     "output_type": "stream",
     "text": [
      "\n",
      "Note: you may need to restart the kernel to use updated packages.\n"
     ]
    },
    {
     "name": "stderr",
     "output_type": "stream",
     "text": [
      "Traceback (most recent call last):\n",
      "  File \"C:\\Users\\gkrxo\\anaconda3\\Scripts\\conda-script.py\", line 11, in <module>\n",
      "    from conda.cli import main\n",
      "ModuleNotFoundError: No module named 'conda'\n"
     ]
    },
    {
     "name": "stdout",
     "output_type": "stream",
     "text": [
      "Collecting sklearn\n",
      "  Downloading sklearn-0.0.tar.gz (1.1 kB)\n",
      "Collecting scikit-learn\n",
      "  Downloading scikit_learn-0.23.2-cp38-cp38-win_amd64.whl (6.8 MB)\n",
      "Requirement already satisfied: scipy>=0.19.1 in c:\\users\\gkrxo\\anaconda3\\envs\\datacampus\\lib\\site-packages (from scikit-learn->sklearn) (1.5.0)\n",
      "Collecting threadpoolctl>=2.0.0\n",
      "  Downloading threadpoolctl-2.1.0-py3-none-any.whl (12 kB)\n",
      "Requirement already satisfied: numpy>=1.13.3 in c:\\users\\gkrxo\\anaconda3\\envs\\datacampus\\lib\\site-packages (from scikit-learn->sklearn) (1.18.5)\n",
      "Collecting joblib>=0.11\n",
      "  Downloading joblib-0.16.0-py3-none-any.whl (300 kB)\n",
      "Building wheels for collected packages: sklearn\n",
      "  Building wheel for sklearn (setup.py): started\n",
      "  Building wheel for sklearn (setup.py): finished with status 'done'\n",
      "  Created wheel for sklearn: filename=sklearn-0.0-py2.py3-none-any.whl size=1320 sha256=455aee57387666e8ff2cd3946adb21df38e848eb7d144376a34ad8d91f076ec8\n",
      "  Stored in directory: c:\\users\\gkrxo\\appdata\\local\\pip\\cache\\wheels\\22\\0b\\40\\fd3f795caaa1fb4c6cb738bc1f56100be1e57da95849bfc897\n",
      "Successfully built sklearn\n",
      "Installing collected packages: threadpoolctl, joblib, scikit-learn, sklearn\n",
      "Successfully installed joblib-0.16.0 scikit-learn-0.23.2 sklearn-0.0 threadpoolctl-2.1.0\n"
     ]
    }
   ],
   "source": [
    "# conda install -c anaconda scikit-learn"
   ]
  },
  {
   "cell_type": "markdown",
   "metadata": {},
   "source": [
    "#### 2-1-2. 같은 값 가지는 변수 제거 ( sklearn 분산 , 표준편차) "
   ]
  },
  {
   "cell_type": "markdown",
   "metadata": {},
   "source": [
    "##### 2-1-2-1. 분산을 이용한 열 선택"
   ]
  },
  {
   "cell_type": "code",
   "execution_count": 16,
   "metadata": {},
   "outputs": [],
   "source": [
    "# package\n",
    "\n",
    "from sklearn.feature_selection import VarianceThreshold"
   ]
  },
  {
   "cell_type": "code",
   "execution_count": 17,
   "metadata": {},
   "outputs": [],
   "source": [
    "\n",
    "constant_filter = VarianceThreshold(threshold=0)"
   ]
  },
  {
   "cell_type": "code",
   "execution_count": 18,
   "metadata": {},
   "outputs": [
    {
     "data": {
      "text/plain": [
       "VarianceThreshold(threshold=0)"
      ]
     },
     "execution_count": 18,
     "metadata": {},
     "output_type": "execute_result"
    }
   ],
   "source": [
    "# 각 변수별 분산 계산\n",
    "constant_filter.fit(data_num)"
   ]
  },
  {
   "cell_type": "code",
   "execution_count": 22,
   "metadata": {},
   "outputs": [
    {
     "data": {
      "text/plain": [
       "array([ True,  True,  True,  True,  True, False])"
      ]
     },
     "execution_count": 22,
     "metadata": {},
     "output_type": "execute_result"
    }
   ],
   "source": [
    "constant_filter.get_support() # SO2는 분산이 0"
   ]
  },
  {
   "cell_type": "code",
   "execution_count": 20,
   "metadata": {},
   "outputs": [
    {
     "data": {
      "text/plain": [
       "Index(['PM10', 'PM2.5', 'O3', 'NO2', 'CO'], dtype='object')"
      ]
     },
     "execution_count": 20,
     "metadata": {},
     "output_type": "execute_result"
    }
   ],
   "source": [
    "col_index = data_num.columns[constant_filter.get_support()]\n",
    "col_index"
   ]
  },
  {
   "cell_type": "code",
   "execution_count": 54,
   "metadata": {},
   "outputs": [
    {
     "data": {
      "text/html": [
       "<div>\n",
       "<style scoped>\n",
       "    .dataframe tbody tr th:only-of-type {\n",
       "        vertical-align: middle;\n",
       "    }\n",
       "\n",
       "    .dataframe tbody tr th {\n",
       "        vertical-align: top;\n",
       "    }\n",
       "\n",
       "    .dataframe thead th {\n",
       "        text-align: right;\n",
       "    }\n",
       "</style>\n",
       "<table border=\"1\" class=\"dataframe\">\n",
       "  <thead>\n",
       "    <tr style=\"text-align: right;\">\n",
       "      <th></th>\n",
       "      <th>PM10</th>\n",
       "      <th>PM2.5</th>\n",
       "      <th>O3</th>\n",
       "      <th>NO2</th>\n",
       "      <th>CO</th>\n",
       "    </tr>\n",
       "  </thead>\n",
       "  <tbody>\n",
       "    <tr>\n",
       "      <th>0</th>\n",
       "      <td>25.0</td>\n",
       "      <td>5.0</td>\n",
       "      <td>0.046</td>\n",
       "      <td>0.005</td>\n",
       "      <td>0.3</td>\n",
       "    </tr>\n",
       "    <tr>\n",
       "      <th>1</th>\n",
       "      <td>30.0</td>\n",
       "      <td>13.0</td>\n",
       "      <td>0.050</td>\n",
       "      <td>0.005</td>\n",
       "      <td>0.3</td>\n",
       "    </tr>\n",
       "    <tr>\n",
       "      <th>2</th>\n",
       "      <td>18.0</td>\n",
       "      <td>12.0</td>\n",
       "      <td>0.051</td>\n",
       "      <td>0.005</td>\n",
       "      <td>0.4</td>\n",
       "    </tr>\n",
       "    <tr>\n",
       "      <th>3</th>\n",
       "      <td>8.0</td>\n",
       "      <td>6.0</td>\n",
       "      <td>0.049</td>\n",
       "      <td>0.006</td>\n",
       "      <td>0.4</td>\n",
       "    </tr>\n",
       "    <tr>\n",
       "      <th>4</th>\n",
       "      <td>14.0</td>\n",
       "      <td>NaN</td>\n",
       "      <td>0.042</td>\n",
       "      <td>0.008</td>\n",
       "      <td>0.4</td>\n",
       "    </tr>\n",
       "  </tbody>\n",
       "</table>\n",
       "</div>"
      ],
      "text/plain": [
       "   PM10  PM2.5     O3    NO2   CO\n",
       "0  25.0    5.0  0.046  0.005  0.3\n",
       "1  30.0   13.0  0.050  0.005  0.3\n",
       "2  18.0   12.0  0.051  0.005  0.4\n",
       "3   8.0    6.0  0.049  0.006  0.4\n",
       "4  14.0    NaN  0.042  0.008  0.4"
      ]
     },
     "execution_count": 54,
     "metadata": {},
     "output_type": "execute_result"
    }
   ],
   "source": [
    "## 분산이 0보다 큰 변수 선택\n",
    "\n",
    "data_arr = constant_filter.transform(data_num)\n",
    "data_use = pd.DataFrame(data_arr, columns = col_index)\n",
    "data_use.head()"
   ]
  },
  {
   "cell_type": "markdown",
   "metadata": {},
   "source": [
    "##### 2-1-2-2. 표준편차를 이용한 열 선택"
   ]
  },
  {
   "cell_type": "code",
   "execution_count": 23,
   "metadata": {},
   "outputs": [
    {
     "data": {
      "text/plain": [
       "PM10     6.610132\n",
       "PM2.5    4.396969\n",
       "O3       0.020187\n",
       "NO2      0.002866\n",
       "CO       0.038069\n",
       "SO2      0.000000\n",
       "Name: std, dtype: float64"
      ]
     },
     "execution_count": 23,
     "metadata": {},
     "output_type": "execute_result"
    }
   ],
   "source": [
    "# or 표준편차를 이용한 열 선택\n",
    "data_num_desc = data_num.describe()\n",
    "data_num_std = data_num_desc.loc['std']\n",
    "data_num_std"
   ]
  },
  {
   "cell_type": "code",
   "execution_count": 25,
   "metadata": {},
   "outputs": [
    {
     "data": {
      "text/html": [
       "<div>\n",
       "<style scoped>\n",
       "    .dataframe tbody tr th:only-of-type {\n",
       "        vertical-align: middle;\n",
       "    }\n",
       "\n",
       "    .dataframe tbody tr th {\n",
       "        vertical-align: top;\n",
       "    }\n",
       "\n",
       "    .dataframe thead th {\n",
       "        text-align: right;\n",
       "    }\n",
       "</style>\n",
       "<table border=\"1\" class=\"dataframe\">\n",
       "  <thead>\n",
       "    <tr style=\"text-align: right;\">\n",
       "      <th></th>\n",
       "      <th>YMDH</th>\n",
       "      <th>PM10</th>\n",
       "      <th>PM2.5</th>\n",
       "      <th>O3</th>\n",
       "      <th>NO2</th>\n",
       "      <th>CO</th>\n",
       "    </tr>\n",
       "  </thead>\n",
       "  <tbody>\n",
       "    <tr>\n",
       "      <th>0</th>\n",
       "      <td>2020-07-06:24</td>\n",
       "      <td>25</td>\n",
       "      <td>5.0</td>\n",
       "      <td>0.046</td>\n",
       "      <td>0.005</td>\n",
       "      <td>0.3</td>\n",
       "    </tr>\n",
       "    <tr>\n",
       "      <th>1</th>\n",
       "      <td>2020-07-06:23</td>\n",
       "      <td>30</td>\n",
       "      <td>13.0</td>\n",
       "      <td>0.050</td>\n",
       "      <td>0.005</td>\n",
       "      <td>0.3</td>\n",
       "    </tr>\n",
       "    <tr>\n",
       "      <th>2</th>\n",
       "      <td>2020-07-06:22</td>\n",
       "      <td>18</td>\n",
       "      <td>12.0</td>\n",
       "      <td>0.051</td>\n",
       "      <td>0.005</td>\n",
       "      <td>0.4</td>\n",
       "    </tr>\n",
       "    <tr>\n",
       "      <th>3</th>\n",
       "      <td>2020-07-06:21</td>\n",
       "      <td>8</td>\n",
       "      <td>6.0</td>\n",
       "      <td>0.049</td>\n",
       "      <td>0.006</td>\n",
       "      <td>0.4</td>\n",
       "    </tr>\n",
       "    <tr>\n",
       "      <th>4</th>\n",
       "      <td>2020-07-06:20</td>\n",
       "      <td>14</td>\n",
       "      <td>NaN</td>\n",
       "      <td>0.042</td>\n",
       "      <td>0.008</td>\n",
       "      <td>0.4</td>\n",
       "    </tr>\n",
       "  </tbody>\n",
       "</table>\n",
       "</div>"
      ],
      "text/plain": [
       "            YMDH  PM10  PM2.5     O3    NO2   CO\n",
       "0  2020-07-06:24    25    5.0  0.046  0.005  0.3\n",
       "1  2020-07-06:23    30   13.0  0.050  0.005  0.3\n",
       "2  2020-07-06:22    18   12.0  0.051  0.005  0.4\n",
       "3  2020-07-06:21     8    6.0  0.049  0.006  0.4\n",
       "4  2020-07-06:20    14    NaN  0.042  0.008  0.4"
      ]
     },
     "execution_count": 25,
     "metadata": {},
     "output_type": "execute_result"
    }
   ],
   "source": [
    "# 기준값 이라 분산 가지는 변수 제거\n",
    "condition = data_num_std < 0.00001\n",
    "condition_index = condition.index[condition]\n",
    "data_use_0= data_raw.drop(condition_index, axis=1) # SO2 제거\n",
    "data_use_0.head()"
   ]
  },
  {
   "cell_type": "code",
   "execution_count": 28,
   "metadata": {},
   "outputs": [
    {
     "data": {
      "text/plain": [
       "PM10     False\n",
       "PM2.5    False\n",
       "O3       False\n",
       "NO2      False\n",
       "CO       False\n",
       "SO2       True\n",
       "Name: std, dtype: bool"
      ]
     },
     "execution_count": 28,
     "metadata": {},
     "output_type": "execute_result"
    }
   ],
   "source": [
    "condition"
   ]
  },
  {
   "cell_type": "code",
   "execution_count": 27,
   "metadata": {
    "scrolled": true
   },
   "outputs": [
    {
     "data": {
      "text/plain": [
       "Index(['PM10', 'PM2.5', 'O3', 'NO2', 'CO', 'SO2'], dtype='object')"
      ]
     },
     "execution_count": 27,
     "metadata": {},
     "output_type": "execute_result"
    }
   ],
   "source": [
    "condition.index"
   ]
  },
  {
   "cell_type": "code",
   "execution_count": 26,
   "metadata": {},
   "outputs": [
    {
     "data": {
      "text/plain": [
       "Index(['SO2'], dtype='object')"
      ]
     },
     "execution_count": 26,
     "metadata": {},
     "output_type": "execute_result"
    }
   ],
   "source": [
    "condition.index[condition]"
   ]
  },
  {
   "cell_type": "markdown",
   "metadata": {},
   "source": [
    "#### 2-1-3 중복변수 제거"
   ]
  },
  {
   "cell_type": "markdown",
   "metadata": {},
   "source": [
    "    * 상관계수가 1이면 중복"
   ]
  },
  {
   "cell_type": "code",
   "execution_count": 38,
   "metadata": {},
   "outputs": [
    {
     "data": {
      "text/html": [
       "<div>\n",
       "<style scoped>\n",
       "    .dataframe tbody tr th:only-of-type {\n",
       "        vertical-align: middle;\n",
       "    }\n",
       "\n",
       "    .dataframe tbody tr th {\n",
       "        vertical-align: top;\n",
       "    }\n",
       "\n",
       "    .dataframe thead th {\n",
       "        text-align: right;\n",
       "    }\n",
       "</style>\n",
       "<table border=\"1\" class=\"dataframe\">\n",
       "  <thead>\n",
       "    <tr style=\"text-align: right;\">\n",
       "      <th></th>\n",
       "      <th>PM10</th>\n",
       "      <th>PM2.5</th>\n",
       "      <th>O3</th>\n",
       "      <th>NO2</th>\n",
       "      <th>CO</th>\n",
       "    </tr>\n",
       "  </thead>\n",
       "  <tbody>\n",
       "    <tr>\n",
       "      <th>PM10</th>\n",
       "      <td>1.000000</td>\n",
       "      <td>0.559308</td>\n",
       "      <td>0.736098</td>\n",
       "      <td>-0.654111</td>\n",
       "      <td>0.066231</td>\n",
       "    </tr>\n",
       "    <tr>\n",
       "      <th>PM2.5</th>\n",
       "      <td>0.559308</td>\n",
       "      <td>1.000000</td>\n",
       "      <td>0.654725</td>\n",
       "      <td>-0.347637</td>\n",
       "      <td>0.376122</td>\n",
       "    </tr>\n",
       "    <tr>\n",
       "      <th>O3</th>\n",
       "      <td>0.736098</td>\n",
       "      <td>0.654725</td>\n",
       "      <td>1.000000</td>\n",
       "      <td>-0.800926</td>\n",
       "      <td>0.251762</td>\n",
       "    </tr>\n",
       "    <tr>\n",
       "      <th>NO2</th>\n",
       "      <td>-0.654111</td>\n",
       "      <td>-0.347637</td>\n",
       "      <td>-0.800926</td>\n",
       "      <td>1.000000</td>\n",
       "      <td>-0.086332</td>\n",
       "    </tr>\n",
       "    <tr>\n",
       "      <th>CO</th>\n",
       "      <td>0.066231</td>\n",
       "      <td>0.376122</td>\n",
       "      <td>0.251762</td>\n",
       "      <td>-0.086332</td>\n",
       "      <td>1.000000</td>\n",
       "    </tr>\n",
       "  </tbody>\n",
       "</table>\n",
       "</div>"
      ],
      "text/plain": [
       "           PM10     PM2.5        O3       NO2        CO\n",
       "PM10   1.000000  0.559308  0.736098 -0.654111  0.066231\n",
       "PM2.5  0.559308  1.000000  0.654725 -0.347637  0.376122\n",
       "O3     0.736098  0.654725  1.000000 -0.800926  0.251762\n",
       "NO2   -0.654111 -0.347637 -0.800926  1.000000 -0.086332\n",
       "CO     0.066231  0.376122  0.251762 -0.086332  1.000000"
      ]
     },
     "execution_count": 38,
     "metadata": {},
     "output_type": "execute_result"
    }
   ],
   "source": [
    "data_use.corr()"
   ]
  },
  {
   "cell_type": "code",
   "execution_count": 46,
   "metadata": {
    "scrolled": true
   },
   "outputs": [
    {
     "data": {
      "text/html": [
       "<div>\n",
       "<style scoped>\n",
       "    .dataframe tbody tr th:only-of-type {\n",
       "        vertical-align: middle;\n",
       "    }\n",
       "\n",
       "    .dataframe tbody tr th {\n",
       "        vertical-align: top;\n",
       "    }\n",
       "\n",
       "    .dataframe thead th {\n",
       "        text-align: right;\n",
       "    }\n",
       "</style>\n",
       "<table border=\"1\" class=\"dataframe\">\n",
       "  <thead>\n",
       "    <tr style=\"text-align: right;\">\n",
       "      <th></th>\n",
       "      <th>PM10</th>\n",
       "      <th>PM2.5</th>\n",
       "      <th>O3</th>\n",
       "      <th>NO2</th>\n",
       "      <th>CO</th>\n",
       "    </tr>\n",
       "  </thead>\n",
       "  <tbody>\n",
       "    <tr>\n",
       "      <th>PM10</th>\n",
       "      <td>1.000000</td>\n",
       "      <td>NaN</td>\n",
       "      <td>0.736098</td>\n",
       "      <td>NaN</td>\n",
       "      <td>NaN</td>\n",
       "    </tr>\n",
       "    <tr>\n",
       "      <th>PM2.5</th>\n",
       "      <td>NaN</td>\n",
       "      <td>1.0</td>\n",
       "      <td>NaN</td>\n",
       "      <td>NaN</td>\n",
       "      <td>NaN</td>\n",
       "    </tr>\n",
       "    <tr>\n",
       "      <th>O3</th>\n",
       "      <td>0.736098</td>\n",
       "      <td>NaN</td>\n",
       "      <td>1.000000</td>\n",
       "      <td>-0.800926</td>\n",
       "      <td>NaN</td>\n",
       "    </tr>\n",
       "    <tr>\n",
       "      <th>NO2</th>\n",
       "      <td>NaN</td>\n",
       "      <td>NaN</td>\n",
       "      <td>-0.800926</td>\n",
       "      <td>1.000000</td>\n",
       "      <td>NaN</td>\n",
       "    </tr>\n",
       "    <tr>\n",
       "      <th>CO</th>\n",
       "      <td>NaN</td>\n",
       "      <td>NaN</td>\n",
       "      <td>NaN</td>\n",
       "      <td>NaN</td>\n",
       "      <td>1.0</td>\n",
       "    </tr>\n",
       "  </tbody>\n",
       "</table>\n",
       "</div>"
      ],
      "text/plain": [
       "           PM10  PM2.5        O3       NO2   CO\n",
       "PM10   1.000000    NaN  0.736098       NaN  NaN\n",
       "PM2.5       NaN    1.0       NaN       NaN  NaN\n",
       "O3     0.736098    NaN  1.000000 -0.800926  NaN\n",
       "NO2         NaN    NaN -0.800926  1.000000  NaN\n",
       "CO          NaN    NaN       NaN       NaN  1.0"
      ]
     },
     "execution_count": 46,
     "metadata": {},
     "output_type": "execute_result"
    }
   ],
   "source": [
    "data_use.corr()[abs(data_use.corr())>=0.7]"
   ]
  },
  {
   "cell_type": "code",
   "execution_count": 55,
   "metadata": {},
   "outputs": [],
   "source": [
    "col_drop = set()\n",
    "cor_matrix = data_use.corr()\n",
    "cutoff = 0.7"
   ]
  },
  {
   "cell_type": "code",
   "execution_count": 56,
   "metadata": {},
   "outputs": [
    {
     "data": {
      "text/plain": [
       "{'O3'}"
      ]
     },
     "execution_count": 56,
     "metadata": {},
     "output_type": "execute_result"
    }
   ],
   "source": [
    "col_names = cor_matrix.columns\n",
    "for i in range(len(col_names)):\n",
    "    for j in range(i):\n",
    "        col_set = set([col_names[i],col_names[j]])\n",
    "        if abs(cor_matrix.iloc[i,j]) > cutoff:\n",
    "            if len(col_drop & col_set) == 0:\n",
    "                col_drop.add(col_names[i])\n",
    "col_drop"
   ]
  },
  {
   "cell_type": "code",
   "execution_count": 59,
   "metadata": {},
   "outputs": [
    {
     "data": {
      "text/html": [
       "<div>\n",
       "<style scoped>\n",
       "    .dataframe tbody tr th:only-of-type {\n",
       "        vertical-align: middle;\n",
       "    }\n",
       "\n",
       "    .dataframe tbody tr th {\n",
       "        vertical-align: top;\n",
       "    }\n",
       "\n",
       "    .dataframe thead th {\n",
       "        text-align: right;\n",
       "    }\n",
       "</style>\n",
       "<table border=\"1\" class=\"dataframe\">\n",
       "  <thead>\n",
       "    <tr style=\"text-align: right;\">\n",
       "      <th></th>\n",
       "      <th>PM10</th>\n",
       "      <th>PM2.5</th>\n",
       "      <th>NO2</th>\n",
       "      <th>CO</th>\n",
       "    </tr>\n",
       "  </thead>\n",
       "  <tbody>\n",
       "    <tr>\n",
       "      <th>0</th>\n",
       "      <td>25.0</td>\n",
       "      <td>5.0</td>\n",
       "      <td>0.005</td>\n",
       "      <td>0.3</td>\n",
       "    </tr>\n",
       "    <tr>\n",
       "      <th>1</th>\n",
       "      <td>30.0</td>\n",
       "      <td>13.0</td>\n",
       "      <td>0.005</td>\n",
       "      <td>0.3</td>\n",
       "    </tr>\n",
       "    <tr>\n",
       "      <th>2</th>\n",
       "      <td>18.0</td>\n",
       "      <td>12.0</td>\n",
       "      <td>0.005</td>\n",
       "      <td>0.4</td>\n",
       "    </tr>\n",
       "    <tr>\n",
       "      <th>3</th>\n",
       "      <td>8.0</td>\n",
       "      <td>6.0</td>\n",
       "      <td>0.006</td>\n",
       "      <td>0.4</td>\n",
       "    </tr>\n",
       "    <tr>\n",
       "      <th>4</th>\n",
       "      <td>14.0</td>\n",
       "      <td>NaN</td>\n",
       "      <td>0.008</td>\n",
       "      <td>0.4</td>\n",
       "    </tr>\n",
       "  </tbody>\n",
       "</table>\n",
       "</div>"
      ],
      "text/plain": [
       "   PM10  PM2.5    NO2   CO\n",
       "0  25.0    5.0  0.005  0.3\n",
       "1  30.0   13.0  0.005  0.3\n",
       "2  18.0   12.0  0.005  0.4\n",
       "3   8.0    6.0  0.006  0.4\n",
       "4  14.0    NaN  0.008  0.4"
      ]
     },
     "execution_count": 59,
     "metadata": {},
     "output_type": "execute_result"
    }
   ],
   "source": [
    "## 상관계수 cutoff 0.7이상인 열 제거\n",
    "# i have epilepsy\n",
    "data_use_2 = data_use.drop(labels=col_drop,axis=1)\n",
    "data_use_2.head()"
   ]
  },
  {
   "cell_type": "markdown",
   "metadata": {},
   "source": [
    "### 2-2. 변수의 스케일 변환"
   ]
  },
  {
   "cell_type": "markdown",
   "metadata": {},
   "source": [
    "#### 2-2-1. 표준화 변환"
   ]
  },
  {
   "cell_type": "code",
   "execution_count": 61,
   "metadata": {},
   "outputs": [],
   "source": [
    "from sklearn.preprocessing import StandardScaler"
   ]
  },
  {
   "cell_type": "code",
   "execution_count": 63,
   "metadata": {},
   "outputs": [],
   "source": [
    "# 표준화 변환\n",
    "scaler = StandardScaler()\n",
    "data_use_2_std = scaler.fit(data_use_2).transform(data_use_2)\n"
   ]
  },
  {
   "cell_type": "code",
   "execution_count": 66,
   "metadata": {},
   "outputs": [
    {
     "data": {
      "text/html": [
       "<div>\n",
       "<style scoped>\n",
       "    .dataframe tbody tr th:only-of-type {\n",
       "        vertical-align: middle;\n",
       "    }\n",
       "\n",
       "    .dataframe tbody tr th {\n",
       "        vertical-align: top;\n",
       "    }\n",
       "\n",
       "    .dataframe thead th {\n",
       "        text-align: right;\n",
       "    }\n",
       "</style>\n",
       "<table border=\"1\" class=\"dataframe\">\n",
       "  <thead>\n",
       "    <tr style=\"text-align: right;\">\n",
       "      <th></th>\n",
       "      <th>PM10</th>\n",
       "      <th>PM2.5</th>\n",
       "      <th>NO2</th>\n",
       "      <th>CO</th>\n",
       "    </tr>\n",
       "  </thead>\n",
       "  <tbody>\n",
       "    <tr>\n",
       "      <th>count</th>\n",
       "      <td>2.400000e+01</td>\n",
       "      <td>16.000000</td>\n",
       "      <td>2.400000e+01</td>\n",
       "      <td>2.400000e+01</td>\n",
       "    </tr>\n",
       "    <tr>\n",
       "      <th>mean</th>\n",
       "      <td>1.295260e-16</td>\n",
       "      <td>0.000000</td>\n",
       "      <td>-3.238150e-16</td>\n",
       "      <td>2.590520e-16</td>\n",
       "    </tr>\n",
       "    <tr>\n",
       "      <th>std</th>\n",
       "      <td>1.021508e+00</td>\n",
       "      <td>1.032796</td>\n",
       "      <td>1.021508e+00</td>\n",
       "      <td>1.021508e+00</td>\n",
       "    </tr>\n",
       "    <tr>\n",
       "      <th>min</th>\n",
       "      <td>-1.281367e+00</td>\n",
       "      <td>-1.409329</td>\n",
       "      <td>-1.173109e+00</td>\n",
       "      <td>-4.472136e-01</td>\n",
       "    </tr>\n",
       "    <tr>\n",
       "      <th>25%</th>\n",
       "      <td>-8.177566e-01</td>\n",
       "      <td>-0.704664</td>\n",
       "      <td>-8.167216e-01</td>\n",
       "      <td>-4.472136e-01</td>\n",
       "    </tr>\n",
       "    <tr>\n",
       "      <th>50%</th>\n",
       "      <td>3.219514e-02</td>\n",
       "      <td>-0.352332</td>\n",
       "      <td>-1.039464e-01</td>\n",
       "      <td>-4.472136e-01</td>\n",
       "    </tr>\n",
       "    <tr>\n",
       "      <th>75%</th>\n",
       "      <td>5.730735e-01</td>\n",
       "      <td>0.587220</td>\n",
       "      <td>3.415381e-01</td>\n",
       "      <td>-4.472136e-01</td>\n",
       "    </tr>\n",
       "    <tr>\n",
       "      <th>max</th>\n",
       "      <td>2.582050e+00</td>\n",
       "      <td>1.879105</td>\n",
       "      <td>2.390767e+00</td>\n",
       "      <td>2.236068e+00</td>\n",
       "    </tr>\n",
       "  </tbody>\n",
       "</table>\n",
       "</div>"
      ],
      "text/plain": [
       "               PM10      PM2.5           NO2            CO\n",
       "count  2.400000e+01  16.000000  2.400000e+01  2.400000e+01\n",
       "mean   1.295260e-16   0.000000 -3.238150e-16  2.590520e-16\n",
       "std    1.021508e+00   1.032796  1.021508e+00  1.021508e+00\n",
       "min   -1.281367e+00  -1.409329 -1.173109e+00 -4.472136e-01\n",
       "25%   -8.177566e-01  -0.704664 -8.167216e-01 -4.472136e-01\n",
       "50%    3.219514e-02  -0.352332 -1.039464e-01 -4.472136e-01\n",
       "75%    5.730735e-01   0.587220  3.415381e-01 -4.472136e-01\n",
       "max    2.582050e+00   1.879105  2.390767e+00  2.236068e+00"
      ]
     },
     "execution_count": 66,
     "metadata": {},
     "output_type": "execute_result"
    }
   ],
   "source": [
    "#DataFrame\n",
    "data_use_2_std = pd.DataFrame(data_use_2_std, columns = data_use_2.columns)\n",
    "data_use_2_std.describe()"
   ]
  },
  {
   "cell_type": "markdown",
   "metadata": {},
   "source": [
    "#### 2-2-2. 범위 변환 - 최대 최소 변환"
   ]
  },
  {
   "cell_type": "markdown",
   "metadata": {},
   "source": [
    "    * 0과 1사이의 값"
   ]
  },
  {
   "cell_type": "code",
   "execution_count": 67,
   "metadata": {},
   "outputs": [],
   "source": [
    "from sklearn.preprocessing import MinMaxScaler"
   ]
  },
  {
   "cell_type": "code",
   "execution_count": 68,
   "metadata": {},
   "outputs": [
    {
     "data": {
      "text/html": [
       "<div>\n",
       "<style scoped>\n",
       "    .dataframe tbody tr th:only-of-type {\n",
       "        vertical-align: middle;\n",
       "    }\n",
       "\n",
       "    .dataframe tbody tr th {\n",
       "        vertical-align: top;\n",
       "    }\n",
       "\n",
       "    .dataframe thead th {\n",
       "        text-align: right;\n",
       "    }\n",
       "</style>\n",
       "<table border=\"1\" class=\"dataframe\">\n",
       "  <thead>\n",
       "    <tr style=\"text-align: right;\">\n",
       "      <th></th>\n",
       "      <th>PM10</th>\n",
       "      <th>PM2.5</th>\n",
       "      <th>NO2</th>\n",
       "      <th>CO</th>\n",
       "    </tr>\n",
       "  </thead>\n",
       "  <tbody>\n",
       "    <tr>\n",
       "      <th>count</th>\n",
       "      <td>24.000000</td>\n",
       "      <td>16.000000</td>\n",
       "      <td>24.000000</td>\n",
       "      <td>24.000000</td>\n",
       "    </tr>\n",
       "    <tr>\n",
       "      <th>mean</th>\n",
       "      <td>0.331667</td>\n",
       "      <td>0.428571</td>\n",
       "      <td>0.329167</td>\n",
       "      <td>0.166667</td>\n",
       "    </tr>\n",
       "    <tr>\n",
       "      <th>std</th>\n",
       "      <td>0.264405</td>\n",
       "      <td>0.314069</td>\n",
       "      <td>0.286628</td>\n",
       "      <td>0.380693</td>\n",
       "    </tr>\n",
       "    <tr>\n",
       "      <th>min</th>\n",
       "      <td>0.000000</td>\n",
       "      <td>0.000000</td>\n",
       "      <td>0.000000</td>\n",
       "      <td>0.000000</td>\n",
       "    </tr>\n",
       "    <tr>\n",
       "      <th>25%</th>\n",
       "      <td>0.120000</td>\n",
       "      <td>0.214286</td>\n",
       "      <td>0.100000</td>\n",
       "      <td>0.000000</td>\n",
       "    </tr>\n",
       "    <tr>\n",
       "      <th>50%</th>\n",
       "      <td>0.340000</td>\n",
       "      <td>0.321429</td>\n",
       "      <td>0.300000</td>\n",
       "      <td>0.000000</td>\n",
       "    </tr>\n",
       "    <tr>\n",
       "      <th>75%</th>\n",
       "      <td>0.480000</td>\n",
       "      <td>0.607143</td>\n",
       "      <td>0.425000</td>\n",
       "      <td>0.000000</td>\n",
       "    </tr>\n",
       "    <tr>\n",
       "      <th>max</th>\n",
       "      <td>1.000000</td>\n",
       "      <td>1.000000</td>\n",
       "      <td>1.000000</td>\n",
       "      <td>1.000000</td>\n",
       "    </tr>\n",
       "  </tbody>\n",
       "</table>\n",
       "</div>"
      ],
      "text/plain": [
       "            PM10      PM2.5        NO2         CO\n",
       "count  24.000000  16.000000  24.000000  24.000000\n",
       "mean    0.331667   0.428571   0.329167   0.166667\n",
       "std     0.264405   0.314069   0.286628   0.380693\n",
       "min     0.000000   0.000000   0.000000   0.000000\n",
       "25%     0.120000   0.214286   0.100000   0.000000\n",
       "50%     0.340000   0.321429   0.300000   0.000000\n",
       "75%     0.480000   0.607143   0.425000   0.000000\n",
       "max     1.000000   1.000000   1.000000   1.000000"
      ]
     },
     "execution_count": 68,
     "metadata": {},
     "output_type": "execute_result"
    }
   ],
   "source": [
    "#범위 변환\n",
    "scaler = MinMaxScaler()\n",
    "data_use_2_std = scaler.fit(data_use_2).transform(data_use_2)\n",
    "## DataFrame\n",
    "data_use_2_std = pd.DataFrame(data_use_2_std, columns = data_use_2.columns)\n",
    "data_use_2_std.describe()"
   ]
  },
  {
   "cell_type": "markdown",
   "metadata": {},
   "source": [
    "### 2-3. 결측값 처리"
   ]
  },
  {
   "cell_type": "markdown",
   "metadata": {},
   "source": [
    "#### 2-3-1. 결측값"
   ]
  },
  {
   "cell_type": "markdown",
   "metadata": {},
   "source": [
    "##### 2-3-1-1. 제거"
   ]
  },
  {
   "cell_type": "code",
   "execution_count": 70,
   "metadata": {
    "scrolled": true
   },
   "outputs": [
    {
     "data": {
      "text/html": [
       "<div>\n",
       "<style scoped>\n",
       "    .dataframe tbody tr th:only-of-type {\n",
       "        vertical-align: middle;\n",
       "    }\n",
       "\n",
       "    .dataframe tbody tr th {\n",
       "        vertical-align: top;\n",
       "    }\n",
       "\n",
       "    .dataframe thead th {\n",
       "        text-align: right;\n",
       "    }\n",
       "</style>\n",
       "<table border=\"1\" class=\"dataframe\">\n",
       "  <thead>\n",
       "    <tr style=\"text-align: right;\">\n",
       "      <th></th>\n",
       "      <th>PM10</th>\n",
       "      <th>PM2.5</th>\n",
       "      <th>NO2</th>\n",
       "      <th>CO</th>\n",
       "    </tr>\n",
       "  </thead>\n",
       "  <tbody>\n",
       "    <tr>\n",
       "      <th>0</th>\n",
       "      <td>25.0</td>\n",
       "      <td>5.0</td>\n",
       "      <td>0.005</td>\n",
       "      <td>0.3</td>\n",
       "    </tr>\n",
       "    <tr>\n",
       "      <th>1</th>\n",
       "      <td>30.0</td>\n",
       "      <td>13.0</td>\n",
       "      <td>0.005</td>\n",
       "      <td>0.3</td>\n",
       "    </tr>\n",
       "    <tr>\n",
       "      <th>2</th>\n",
       "      <td>18.0</td>\n",
       "      <td>12.0</td>\n",
       "      <td>0.005</td>\n",
       "      <td>0.4</td>\n",
       "    </tr>\n",
       "    <tr>\n",
       "      <th>3</th>\n",
       "      <td>8.0</td>\n",
       "      <td>6.0</td>\n",
       "      <td>0.006</td>\n",
       "      <td>0.4</td>\n",
       "    </tr>\n",
       "    <tr>\n",
       "      <th>7</th>\n",
       "      <td>17.0</td>\n",
       "      <td>16.0</td>\n",
       "      <td>0.008</td>\n",
       "      <td>0.4</td>\n",
       "    </tr>\n",
       "    <tr>\n",
       "      <th>8</th>\n",
       "      <td>19.0</td>\n",
       "      <td>16.0</td>\n",
       "      <td>0.004</td>\n",
       "      <td>0.3</td>\n",
       "    </tr>\n",
       "    <tr>\n",
       "      <th>9</th>\n",
       "      <td>13.0</td>\n",
       "      <td>10.0</td>\n",
       "      <td>0.004</td>\n",
       "      <td>0.3</td>\n",
       "    </tr>\n",
       "    <tr>\n",
       "      <th>10</th>\n",
       "      <td>21.0</td>\n",
       "      <td>10.0</td>\n",
       "      <td>0.004</td>\n",
       "      <td>0.3</td>\n",
       "    </tr>\n",
       "    <tr>\n",
       "      <th>11</th>\n",
       "      <td>14.0</td>\n",
       "      <td>8.0</td>\n",
       "      <td>0.005</td>\n",
       "      <td>0.3</td>\n",
       "    </tr>\n",
       "    <tr>\n",
       "      <th>12</th>\n",
       "      <td>17.0</td>\n",
       "      <td>7.0</td>\n",
       "      <td>0.005</td>\n",
       "      <td>0.3</td>\n",
       "    </tr>\n",
       "    <tr>\n",
       "      <th>13</th>\n",
       "      <td>17.0</td>\n",
       "      <td>6.0</td>\n",
       "      <td>0.004</td>\n",
       "      <td>0.3</td>\n",
       "    </tr>\n",
       "    <tr>\n",
       "      <th>14</th>\n",
       "      <td>12.0</td>\n",
       "      <td>2.0</td>\n",
       "      <td>0.006</td>\n",
       "      <td>0.3</td>\n",
       "    </tr>\n",
       "    <tr>\n",
       "      <th>15</th>\n",
       "      <td>8.0</td>\n",
       "      <td>3.0</td>\n",
       "      <td>0.007</td>\n",
       "      <td>0.3</td>\n",
       "    </tr>\n",
       "    <tr>\n",
       "      <th>16</th>\n",
       "      <td>8.0</td>\n",
       "      <td>5.0</td>\n",
       "      <td>0.012</td>\n",
       "      <td>0.3</td>\n",
       "    </tr>\n",
       "    <tr>\n",
       "      <th>22</th>\n",
       "      <td>8.0</td>\n",
       "      <td>4.0</td>\n",
       "      <td>0.009</td>\n",
       "      <td>0.3</td>\n",
       "    </tr>\n",
       "    <tr>\n",
       "      <th>23</th>\n",
       "      <td>6.0</td>\n",
       "      <td>5.0</td>\n",
       "      <td>0.014</td>\n",
       "      <td>0.3</td>\n",
       "    </tr>\n",
       "  </tbody>\n",
       "</table>\n",
       "</div>"
      ],
      "text/plain": [
       "    PM10  PM2.5    NO2   CO\n",
       "0   25.0    5.0  0.005  0.3\n",
       "1   30.0   13.0  0.005  0.3\n",
       "2   18.0   12.0  0.005  0.4\n",
       "3    8.0    6.0  0.006  0.4\n",
       "7   17.0   16.0  0.008  0.4\n",
       "8   19.0   16.0  0.004  0.3\n",
       "9   13.0   10.0  0.004  0.3\n",
       "10  21.0   10.0  0.004  0.3\n",
       "11  14.0    8.0  0.005  0.3\n",
       "12  17.0    7.0  0.005  0.3\n",
       "13  17.0    6.0  0.004  0.3\n",
       "14  12.0    2.0  0.006  0.3\n",
       "15   8.0    3.0  0.007  0.3\n",
       "16   8.0    5.0  0.012  0.3\n",
       "22   8.0    4.0  0.009  0.3\n",
       "23   6.0    5.0  0.014  0.3"
      ]
     },
     "execution_count": 70,
     "metadata": {},
     "output_type": "execute_result"
    }
   ],
   "source": [
    "data_use_2.dropna() #실 데이터 적용 X"
   ]
  },
  {
   "cell_type": "markdown",
   "metadata": {},
   "source": [
    "##### 2-3-1-2. 대체 (평균)"
   ]
  },
  {
   "cell_type": "code",
   "execution_count": 71,
   "metadata": {
    "scrolled": true
   },
   "outputs": [
    {
     "data": {
      "text/html": [
       "<div>\n",
       "<style scoped>\n",
       "    .dataframe tbody tr th:only-of-type {\n",
       "        vertical-align: middle;\n",
       "    }\n",
       "\n",
       "    .dataframe tbody tr th {\n",
       "        vertical-align: top;\n",
       "    }\n",
       "\n",
       "    .dataframe thead th {\n",
       "        text-align: right;\n",
       "    }\n",
       "</style>\n",
       "<table border=\"1\" class=\"dataframe\">\n",
       "  <thead>\n",
       "    <tr style=\"text-align: right;\">\n",
       "      <th></th>\n",
       "      <th>PM10</th>\n",
       "      <th>PM2.5</th>\n",
       "      <th>NO2</th>\n",
       "      <th>CO</th>\n",
       "    </tr>\n",
       "  </thead>\n",
       "  <tbody>\n",
       "    <tr>\n",
       "      <th>0</th>\n",
       "      <td>25.0</td>\n",
       "      <td>5.0</td>\n",
       "      <td>0.005</td>\n",
       "      <td>0.3</td>\n",
       "    </tr>\n",
       "    <tr>\n",
       "      <th>1</th>\n",
       "      <td>30.0</td>\n",
       "      <td>13.0</td>\n",
       "      <td>0.005</td>\n",
       "      <td>0.3</td>\n",
       "    </tr>\n",
       "    <tr>\n",
       "      <th>2</th>\n",
       "      <td>18.0</td>\n",
       "      <td>12.0</td>\n",
       "      <td>0.005</td>\n",
       "      <td>0.4</td>\n",
       "    </tr>\n",
       "    <tr>\n",
       "      <th>3</th>\n",
       "      <td>8.0</td>\n",
       "      <td>6.0</td>\n",
       "      <td>0.006</td>\n",
       "      <td>0.4</td>\n",
       "    </tr>\n",
       "    <tr>\n",
       "      <th>4</th>\n",
       "      <td>14.0</td>\n",
       "      <td>8.0</td>\n",
       "      <td>0.008</td>\n",
       "      <td>0.4</td>\n",
       "    </tr>\n",
       "    <tr>\n",
       "      <th>5</th>\n",
       "      <td>15.0</td>\n",
       "      <td>8.0</td>\n",
       "      <td>0.008</td>\n",
       "      <td>0.3</td>\n",
       "    </tr>\n",
       "    <tr>\n",
       "      <th>6</th>\n",
       "      <td>17.0</td>\n",
       "      <td>8.0</td>\n",
       "      <td>0.008</td>\n",
       "      <td>0.3</td>\n",
       "    </tr>\n",
       "    <tr>\n",
       "      <th>7</th>\n",
       "      <td>17.0</td>\n",
       "      <td>16.0</td>\n",
       "      <td>0.008</td>\n",
       "      <td>0.4</td>\n",
       "    </tr>\n",
       "    <tr>\n",
       "      <th>8</th>\n",
       "      <td>19.0</td>\n",
       "      <td>16.0</td>\n",
       "      <td>0.004</td>\n",
       "      <td>0.3</td>\n",
       "    </tr>\n",
       "    <tr>\n",
       "      <th>9</th>\n",
       "      <td>13.0</td>\n",
       "      <td>10.0</td>\n",
       "      <td>0.004</td>\n",
       "      <td>0.3</td>\n",
       "    </tr>\n",
       "    <tr>\n",
       "      <th>10</th>\n",
       "      <td>21.0</td>\n",
       "      <td>10.0</td>\n",
       "      <td>0.004</td>\n",
       "      <td>0.3</td>\n",
       "    </tr>\n",
       "    <tr>\n",
       "      <th>11</th>\n",
       "      <td>14.0</td>\n",
       "      <td>8.0</td>\n",
       "      <td>0.005</td>\n",
       "      <td>0.3</td>\n",
       "    </tr>\n",
       "    <tr>\n",
       "      <th>12</th>\n",
       "      <td>17.0</td>\n",
       "      <td>7.0</td>\n",
       "      <td>0.005</td>\n",
       "      <td>0.3</td>\n",
       "    </tr>\n",
       "    <tr>\n",
       "      <th>13</th>\n",
       "      <td>17.0</td>\n",
       "      <td>6.0</td>\n",
       "      <td>0.004</td>\n",
       "      <td>0.3</td>\n",
       "    </tr>\n",
       "    <tr>\n",
       "      <th>14</th>\n",
       "      <td>12.0</td>\n",
       "      <td>2.0</td>\n",
       "      <td>0.006</td>\n",
       "      <td>0.3</td>\n",
       "    </tr>\n",
       "    <tr>\n",
       "      <th>15</th>\n",
       "      <td>8.0</td>\n",
       "      <td>3.0</td>\n",
       "      <td>0.007</td>\n",
       "      <td>0.3</td>\n",
       "    </tr>\n",
       "    <tr>\n",
       "      <th>16</th>\n",
       "      <td>8.0</td>\n",
       "      <td>5.0</td>\n",
       "      <td>0.012</td>\n",
       "      <td>0.3</td>\n",
       "    </tr>\n",
       "    <tr>\n",
       "      <th>17</th>\n",
       "      <td>9.0</td>\n",
       "      <td>8.0</td>\n",
       "      <td>0.010</td>\n",
       "      <td>0.3</td>\n",
       "    </tr>\n",
       "    <tr>\n",
       "      <th>18</th>\n",
       "      <td>7.0</td>\n",
       "      <td>8.0</td>\n",
       "      <td>0.011</td>\n",
       "      <td>0.3</td>\n",
       "    </tr>\n",
       "    <tr>\n",
       "      <th>19</th>\n",
       "      <td>5.0</td>\n",
       "      <td>8.0</td>\n",
       "      <td>0.012</td>\n",
       "      <td>0.3</td>\n",
       "    </tr>\n",
       "    <tr>\n",
       "      <th>20</th>\n",
       "      <td>5.0</td>\n",
       "      <td>8.0</td>\n",
       "      <td>0.008</td>\n",
       "      <td>0.3</td>\n",
       "    </tr>\n",
       "    <tr>\n",
       "      <th>21</th>\n",
       "      <td>6.0</td>\n",
       "      <td>8.0</td>\n",
       "      <td>0.007</td>\n",
       "      <td>0.3</td>\n",
       "    </tr>\n",
       "    <tr>\n",
       "      <th>22</th>\n",
       "      <td>8.0</td>\n",
       "      <td>4.0</td>\n",
       "      <td>0.009</td>\n",
       "      <td>0.3</td>\n",
       "    </tr>\n",
       "    <tr>\n",
       "      <th>23</th>\n",
       "      <td>6.0</td>\n",
       "      <td>5.0</td>\n",
       "      <td>0.014</td>\n",
       "      <td>0.3</td>\n",
       "    </tr>\n",
       "  </tbody>\n",
       "</table>\n",
       "</div>"
      ],
      "text/plain": [
       "    PM10  PM2.5    NO2   CO\n",
       "0   25.0    5.0  0.005  0.3\n",
       "1   30.0   13.0  0.005  0.3\n",
       "2   18.0   12.0  0.005  0.4\n",
       "3    8.0    6.0  0.006  0.4\n",
       "4   14.0    8.0  0.008  0.4\n",
       "5   15.0    8.0  0.008  0.3\n",
       "6   17.0    8.0  0.008  0.3\n",
       "7   17.0   16.0  0.008  0.4\n",
       "8   19.0   16.0  0.004  0.3\n",
       "9   13.0   10.0  0.004  0.3\n",
       "10  21.0   10.0  0.004  0.3\n",
       "11  14.0    8.0  0.005  0.3\n",
       "12  17.0    7.0  0.005  0.3\n",
       "13  17.0    6.0  0.004  0.3\n",
       "14  12.0    2.0  0.006  0.3\n",
       "15   8.0    3.0  0.007  0.3\n",
       "16   8.0    5.0  0.012  0.3\n",
       "17   9.0    8.0  0.010  0.3\n",
       "18   7.0    8.0  0.011  0.3\n",
       "19   5.0    8.0  0.012  0.3\n",
       "20   5.0    8.0  0.008  0.3\n",
       "21   6.0    8.0  0.007  0.3\n",
       "22   8.0    4.0  0.009  0.3\n",
       "23   6.0    5.0  0.014  0.3"
      ]
     },
     "execution_count": 71,
     "metadata": {},
     "output_type": "execute_result"
    }
   ],
   "source": [
    "data_use_2.fillna(data_use_2.mean())"
   ]
  },
  {
   "cell_type": "markdown",
   "metadata": {},
   "source": [
    "#### 2-3-2. 더미변수\n"
   ]
  },
  {
   "cell_type": "code",
   "execution_count": 73,
   "metadata": {},
   "outputs": [
    {
     "data": {
      "text/plain": [
       "'C:\\\\Python\\\\Project\\\\rawdata\\\\PlantGrowth.csv'"
      ]
     },
     "execution_count": 73,
     "metadata": {},
     "output_type": "execute_result"
    }
   ],
   "source": [
    "# 자료파일 \n",
    "data_file = easygui.fileopenbox()\n",
    "data_file"
   ]
  },
  {
   "cell_type": "code",
   "execution_count": 76,
   "metadata": {},
   "outputs": [
    {
     "data": {
      "text/html": [
       "<div>\n",
       "<style scoped>\n",
       "    .dataframe tbody tr th:only-of-type {\n",
       "        vertical-align: middle;\n",
       "    }\n",
       "\n",
       "    .dataframe tbody tr th {\n",
       "        vertical-align: top;\n",
       "    }\n",
       "\n",
       "    .dataframe thead th {\n",
       "        text-align: right;\n",
       "    }\n",
       "</style>\n",
       "<table border=\"1\" class=\"dataframe\">\n",
       "  <thead>\n",
       "    <tr style=\"text-align: right;\">\n",
       "      <th></th>\n",
       "      <th>weight</th>\n",
       "      <th>group</th>\n",
       "    </tr>\n",
       "  </thead>\n",
       "  <tbody>\n",
       "    <tr>\n",
       "      <th>0</th>\n",
       "      <td>4.17</td>\n",
       "      <td>ctrl</td>\n",
       "    </tr>\n",
       "    <tr>\n",
       "      <th>1</th>\n",
       "      <td>5.58</td>\n",
       "      <td>ctrl</td>\n",
       "    </tr>\n",
       "    <tr>\n",
       "      <th>2</th>\n",
       "      <td>5.18</td>\n",
       "      <td>ctrl</td>\n",
       "    </tr>\n",
       "    <tr>\n",
       "      <th>3</th>\n",
       "      <td>6.11</td>\n",
       "      <td>ctrl</td>\n",
       "    </tr>\n",
       "    <tr>\n",
       "      <th>4</th>\n",
       "      <td>4.50</td>\n",
       "      <td>ctrl</td>\n",
       "    </tr>\n",
       "    <tr>\n",
       "      <th>5</th>\n",
       "      <td>4.61</td>\n",
       "      <td>ctrl</td>\n",
       "    </tr>\n",
       "    <tr>\n",
       "      <th>6</th>\n",
       "      <td>5.17</td>\n",
       "      <td>ctrl</td>\n",
       "    </tr>\n",
       "    <tr>\n",
       "      <th>7</th>\n",
       "      <td>4.53</td>\n",
       "      <td>ctrl</td>\n",
       "    </tr>\n",
       "    <tr>\n",
       "      <th>8</th>\n",
       "      <td>5.33</td>\n",
       "      <td>ctrl</td>\n",
       "    </tr>\n",
       "    <tr>\n",
       "      <th>9</th>\n",
       "      <td>5.14</td>\n",
       "      <td>ctrl</td>\n",
       "    </tr>\n",
       "    <tr>\n",
       "      <th>10</th>\n",
       "      <td>4.81</td>\n",
       "      <td>trt1</td>\n",
       "    </tr>\n",
       "    <tr>\n",
       "      <th>11</th>\n",
       "      <td>4.17</td>\n",
       "      <td>trt1</td>\n",
       "    </tr>\n",
       "    <tr>\n",
       "      <th>12</th>\n",
       "      <td>4.41</td>\n",
       "      <td>trt1</td>\n",
       "    </tr>\n",
       "    <tr>\n",
       "      <th>13</th>\n",
       "      <td>3.59</td>\n",
       "      <td>trt1</td>\n",
       "    </tr>\n",
       "    <tr>\n",
       "      <th>14</th>\n",
       "      <td>5.87</td>\n",
       "      <td>trt1</td>\n",
       "    </tr>\n",
       "    <tr>\n",
       "      <th>15</th>\n",
       "      <td>3.83</td>\n",
       "      <td>trt1</td>\n",
       "    </tr>\n",
       "    <tr>\n",
       "      <th>16</th>\n",
       "      <td>6.03</td>\n",
       "      <td>trt1</td>\n",
       "    </tr>\n",
       "    <tr>\n",
       "      <th>17</th>\n",
       "      <td>4.89</td>\n",
       "      <td>trt1</td>\n",
       "    </tr>\n",
       "    <tr>\n",
       "      <th>18</th>\n",
       "      <td>4.32</td>\n",
       "      <td>trt1</td>\n",
       "    </tr>\n",
       "    <tr>\n",
       "      <th>19</th>\n",
       "      <td>4.69</td>\n",
       "      <td>trt1</td>\n",
       "    </tr>\n",
       "    <tr>\n",
       "      <th>20</th>\n",
       "      <td>6.31</td>\n",
       "      <td>trt2</td>\n",
       "    </tr>\n",
       "    <tr>\n",
       "      <th>21</th>\n",
       "      <td>5.12</td>\n",
       "      <td>trt2</td>\n",
       "    </tr>\n",
       "    <tr>\n",
       "      <th>22</th>\n",
       "      <td>5.54</td>\n",
       "      <td>trt2</td>\n",
       "    </tr>\n",
       "    <tr>\n",
       "      <th>23</th>\n",
       "      <td>5.50</td>\n",
       "      <td>trt2</td>\n",
       "    </tr>\n",
       "    <tr>\n",
       "      <th>24</th>\n",
       "      <td>5.37</td>\n",
       "      <td>trt2</td>\n",
       "    </tr>\n",
       "    <tr>\n",
       "      <th>25</th>\n",
       "      <td>5.29</td>\n",
       "      <td>trt2</td>\n",
       "    </tr>\n",
       "    <tr>\n",
       "      <th>26</th>\n",
       "      <td>4.92</td>\n",
       "      <td>trt2</td>\n",
       "    </tr>\n",
       "    <tr>\n",
       "      <th>27</th>\n",
       "      <td>6.15</td>\n",
       "      <td>trt2</td>\n",
       "    </tr>\n",
       "    <tr>\n",
       "      <th>28</th>\n",
       "      <td>5.80</td>\n",
       "      <td>trt2</td>\n",
       "    </tr>\n",
       "    <tr>\n",
       "      <th>29</th>\n",
       "      <td>5.26</td>\n",
       "      <td>trt2</td>\n",
       "    </tr>\n",
       "  </tbody>\n",
       "</table>\n",
       "</div>"
      ],
      "text/plain": [
       "    weight group\n",
       "0     4.17  ctrl\n",
       "1     5.58  ctrl\n",
       "2     5.18  ctrl\n",
       "3     6.11  ctrl\n",
       "4     4.50  ctrl\n",
       "5     4.61  ctrl\n",
       "6     5.17  ctrl\n",
       "7     4.53  ctrl\n",
       "8     5.33  ctrl\n",
       "9     5.14  ctrl\n",
       "10    4.81  trt1\n",
       "11    4.17  trt1\n",
       "12    4.41  trt1\n",
       "13    3.59  trt1\n",
       "14    5.87  trt1\n",
       "15    3.83  trt1\n",
       "16    6.03  trt1\n",
       "17    4.89  trt1\n",
       "18    4.32  trt1\n",
       "19    4.69  trt1\n",
       "20    6.31  trt2\n",
       "21    5.12  trt2\n",
       "22    5.54  trt2\n",
       "23    5.50  trt2\n",
       "24    5.37  trt2\n",
       "25    5.29  trt2\n",
       "26    4.92  trt2\n",
       "27    6.15  trt2\n",
       "28    5.80  trt2\n",
       "29    5.26  trt2"
      ]
     },
     "execution_count": 76,
     "metadata": {},
     "output_type": "execute_result"
    }
   ],
   "source": [
    "## csv 파일 읽기 : PlantGrowth.csv\n",
    "PlantGrowth = pd.read_csv(data_file)\n",
    "PlantGrowth"
   ]
  },
  {
   "cell_type": "code",
   "execution_count": 75,
   "metadata": {},
   "outputs": [
    {
     "data": {
      "text/html": [
       "<div>\n",
       "<style scoped>\n",
       "    .dataframe tbody tr th:only-of-type {\n",
       "        vertical-align: middle;\n",
       "    }\n",
       "\n",
       "    .dataframe tbody tr th {\n",
       "        vertical-align: top;\n",
       "    }\n",
       "\n",
       "    .dataframe thead th {\n",
       "        text-align: right;\n",
       "    }\n",
       "</style>\n",
       "<table border=\"1\" class=\"dataframe\">\n",
       "  <thead>\n",
       "    <tr style=\"text-align: right;\">\n",
       "      <th></th>\n",
       "      <th>trt1</th>\n",
       "      <th>trt2</th>\n",
       "    </tr>\n",
       "  </thead>\n",
       "  <tbody>\n",
       "    <tr>\n",
       "      <th>0</th>\n",
       "      <td>0</td>\n",
       "      <td>0</td>\n",
       "    </tr>\n",
       "    <tr>\n",
       "      <th>1</th>\n",
       "      <td>0</td>\n",
       "      <td>0</td>\n",
       "    </tr>\n",
       "    <tr>\n",
       "      <th>2</th>\n",
       "      <td>0</td>\n",
       "      <td>0</td>\n",
       "    </tr>\n",
       "    <tr>\n",
       "      <th>3</th>\n",
       "      <td>0</td>\n",
       "      <td>0</td>\n",
       "    </tr>\n",
       "    <tr>\n",
       "      <th>4</th>\n",
       "      <td>0</td>\n",
       "      <td>0</td>\n",
       "    </tr>\n",
       "    <tr>\n",
       "      <th>5</th>\n",
       "      <td>0</td>\n",
       "      <td>0</td>\n",
       "    </tr>\n",
       "    <tr>\n",
       "      <th>6</th>\n",
       "      <td>0</td>\n",
       "      <td>0</td>\n",
       "    </tr>\n",
       "    <tr>\n",
       "      <th>7</th>\n",
       "      <td>0</td>\n",
       "      <td>0</td>\n",
       "    </tr>\n",
       "    <tr>\n",
       "      <th>8</th>\n",
       "      <td>0</td>\n",
       "      <td>0</td>\n",
       "    </tr>\n",
       "    <tr>\n",
       "      <th>9</th>\n",
       "      <td>0</td>\n",
       "      <td>0</td>\n",
       "    </tr>\n",
       "    <tr>\n",
       "      <th>10</th>\n",
       "      <td>1</td>\n",
       "      <td>0</td>\n",
       "    </tr>\n",
       "    <tr>\n",
       "      <th>11</th>\n",
       "      <td>1</td>\n",
       "      <td>0</td>\n",
       "    </tr>\n",
       "    <tr>\n",
       "      <th>12</th>\n",
       "      <td>1</td>\n",
       "      <td>0</td>\n",
       "    </tr>\n",
       "    <tr>\n",
       "      <th>13</th>\n",
       "      <td>1</td>\n",
       "      <td>0</td>\n",
       "    </tr>\n",
       "    <tr>\n",
       "      <th>14</th>\n",
       "      <td>1</td>\n",
       "      <td>0</td>\n",
       "    </tr>\n",
       "    <tr>\n",
       "      <th>15</th>\n",
       "      <td>1</td>\n",
       "      <td>0</td>\n",
       "    </tr>\n",
       "    <tr>\n",
       "      <th>16</th>\n",
       "      <td>1</td>\n",
       "      <td>0</td>\n",
       "    </tr>\n",
       "    <tr>\n",
       "      <th>17</th>\n",
       "      <td>1</td>\n",
       "      <td>0</td>\n",
       "    </tr>\n",
       "    <tr>\n",
       "      <th>18</th>\n",
       "      <td>1</td>\n",
       "      <td>0</td>\n",
       "    </tr>\n",
       "    <tr>\n",
       "      <th>19</th>\n",
       "      <td>1</td>\n",
       "      <td>0</td>\n",
       "    </tr>\n",
       "    <tr>\n",
       "      <th>20</th>\n",
       "      <td>0</td>\n",
       "      <td>1</td>\n",
       "    </tr>\n",
       "    <tr>\n",
       "      <th>21</th>\n",
       "      <td>0</td>\n",
       "      <td>1</td>\n",
       "    </tr>\n",
       "    <tr>\n",
       "      <th>22</th>\n",
       "      <td>0</td>\n",
       "      <td>1</td>\n",
       "    </tr>\n",
       "    <tr>\n",
       "      <th>23</th>\n",
       "      <td>0</td>\n",
       "      <td>1</td>\n",
       "    </tr>\n",
       "    <tr>\n",
       "      <th>24</th>\n",
       "      <td>0</td>\n",
       "      <td>1</td>\n",
       "    </tr>\n",
       "    <tr>\n",
       "      <th>25</th>\n",
       "      <td>0</td>\n",
       "      <td>1</td>\n",
       "    </tr>\n",
       "    <tr>\n",
       "      <th>26</th>\n",
       "      <td>0</td>\n",
       "      <td>1</td>\n",
       "    </tr>\n",
       "    <tr>\n",
       "      <th>27</th>\n",
       "      <td>0</td>\n",
       "      <td>1</td>\n",
       "    </tr>\n",
       "    <tr>\n",
       "      <th>28</th>\n",
       "      <td>0</td>\n",
       "      <td>1</td>\n",
       "    </tr>\n",
       "    <tr>\n",
       "      <th>29</th>\n",
       "      <td>0</td>\n",
       "      <td>1</td>\n",
       "    </tr>\n",
       "  </tbody>\n",
       "</table>\n",
       "</div>"
      ],
      "text/plain": [
       "    trt1  trt2\n",
       "0      0     0\n",
       "1      0     0\n",
       "2      0     0\n",
       "3      0     0\n",
       "4      0     0\n",
       "5      0     0\n",
       "6      0     0\n",
       "7      0     0\n",
       "8      0     0\n",
       "9      0     0\n",
       "10     1     0\n",
       "11     1     0\n",
       "12     1     0\n",
       "13     1     0\n",
       "14     1     0\n",
       "15     1     0\n",
       "16     1     0\n",
       "17     1     0\n",
       "18     1     0\n",
       "19     1     0\n",
       "20     0     1\n",
       "21     0     1\n",
       "22     0     1\n",
       "23     0     1\n",
       "24     0     1\n",
       "25     0     1\n",
       "26     0     1\n",
       "27     0     1\n",
       "28     0     1\n",
       "29     0     1"
      ]
     },
     "execution_count": 75,
     "metadata": {},
     "output_type": "execute_result"
    }
   ],
   "source": [
    "## group 변수로 더미변수 생성 - 첫번째 더미변수 제거\n",
    "results = pd.get_dummies(PlantGrowth.group, drop_first=True) #ctrl 제거\n",
    "results"
   ]
  },
  {
   "cell_type": "markdown",
   "metadata": {},
   "source": [
    "## 3. 모형평가 "
   ]
  },
  {
   "cell_type": "markdown",
   "metadata": {},
   "source": [
    "### 3-1. 연속형 출력변수"
   ]
  },
  {
   "cell_type": "markdown",
   "metadata": {},
   "source": [
    "    * 실제값 - 예측값\n",
    "    차이를 구하려니 결과는 + -가 됨\n",
    "    \n",
    "    1. 절대값 MAE\n",
    "    2. 제곱 MSE\n",
    "    3. 제곱근 RMSE"
   ]
  },
  {
   "cell_type": "code",
   "execution_count": 77,
   "metadata": {},
   "outputs": [],
   "source": [
    "import numpy as np"
   ]
  },
  {
   "cell_type": "code",
   "execution_count": 80,
   "metadata": {},
   "outputs": [],
   "source": [
    "# 실제값\n",
    "true_value = PlantGrowth.weight\n",
    "# 예측 값\n",
    "pred_value = np.random.randn(30)* 0.7 +5\n",
    "## 오차\n",
    "error_value = true_value - pred_value"
   ]
  },
  {
   "cell_type": "code",
   "execution_count": 81,
   "metadata": {},
   "outputs": [
    {
     "data": {
      "text/plain": [
       "0.6782204331750317"
      ]
     },
     "execution_count": 81,
     "metadata": {},
     "output_type": "execute_result"
    }
   ],
   "source": [
    "## MAE\n",
    "abs(error_value).mean()"
   ]
  },
  {
   "cell_type": "code",
   "execution_count": 83,
   "metadata": {},
   "outputs": [
    {
     "data": {
      "text/plain": [
       "0.8670261648739337"
      ]
     },
     "execution_count": 83,
     "metadata": {},
     "output_type": "execute_result"
    }
   ],
   "source": [
    "## MSE \n",
    "MSE = (error_value**2).mean()\n",
    "MSE"
   ]
  },
  {
   "cell_type": "code",
   "execution_count": 84,
   "metadata": {},
   "outputs": [
    {
     "data": {
      "text/plain": [
       "0.9311423977426512"
      ]
     },
     "execution_count": 84,
     "metadata": {},
     "output_type": "execute_result"
    }
   ],
   "source": [
    "## RMSE\n",
    "np.sqrt(MSE)"
   ]
  },
  {
   "cell_type": "markdown",
   "metadata": {},
   "source": [
    "### 범주형 출력 변수"
   ]
  },
  {
   "cell_type": "code",
   "execution_count": 85,
   "metadata": {},
   "outputs": [
    {
     "data": {
      "text/html": [
       "<div>\n",
       "<style scoped>\n",
       "    .dataframe tbody tr th:only-of-type {\n",
       "        vertical-align: middle;\n",
       "    }\n",
       "\n",
       "    .dataframe tbody tr th {\n",
       "        vertical-align: top;\n",
       "    }\n",
       "\n",
       "    .dataframe thead th {\n",
       "        text-align: right;\n",
       "    }\n",
       "</style>\n",
       "<table border=\"1\" class=\"dataframe\">\n",
       "  <thead>\n",
       "    <tr style=\"text-align: right;\">\n",
       "      <th>col_0</th>\n",
       "      <th>1</th>\n",
       "      <th>2</th>\n",
       "      <th>3</th>\n",
       "    </tr>\n",
       "    <tr>\n",
       "      <th>row_0</th>\n",
       "      <th></th>\n",
       "      <th></th>\n",
       "      <th></th>\n",
       "    </tr>\n",
       "  </thead>\n",
       "  <tbody>\n",
       "    <tr>\n",
       "      <th>1</th>\n",
       "      <td>6</td>\n",
       "      <td>4</td>\n",
       "      <td>1</td>\n",
       "    </tr>\n",
       "    <tr>\n",
       "      <th>2</th>\n",
       "      <td>2</td>\n",
       "      <td>5</td>\n",
       "      <td>1</td>\n",
       "    </tr>\n",
       "    <tr>\n",
       "      <th>3</th>\n",
       "      <td>4</td>\n",
       "      <td>5</td>\n",
       "      <td>2</td>\n",
       "    </tr>\n",
       "  </tbody>\n",
       "</table>\n",
       "</div>"
      ],
      "text/plain": [
       "col_0  1  2  3\n",
       "row_0         \n",
       "1      6  4  1\n",
       "2      2  5  1\n",
       "3      4  5  2"
      ]
     },
     "execution_count": 85,
     "metadata": {},
     "output_type": "execute_result"
    }
   ],
   "source": [
    "##범주\n",
    "cat_var = np.array([1,2,3])\n",
    "## 실제값\n",
    "true_value = np.random.choice(cat_var, 30)\n",
    "## 예측값\n",
    "pred_value = np.random.choice(cat_var, 30)\n",
    "## 교차표\n",
    "pd.crosstab(true_value,pred_value)\n",
    "# row 1이 실제 값인데 col 1로 맞춘것 6개, 2로 잘못한것 4, 3으로 잘못한것 1개"
   ]
  },
  {
   "cell_type": "code",
   "execution_count": 88,
   "metadata": {},
   "outputs": [],
   "source": [
    "## library\n",
    "from sklearn.metrics import classification_report\n"
   ]
  },
  {
   "cell_type": "code",
   "execution_count": 89,
   "metadata": {},
   "outputs": [
    {
     "name": "stdout",
     "output_type": "stream",
     "text": [
      "              precision    recall  f1-score   support\n",
      "\n",
      "           1       0.50      0.55      0.52        11\n",
      "           2       0.36      0.62      0.45         8\n",
      "           3       0.50      0.18      0.27        11\n",
      "\n",
      "    accuracy                           0.43        30\n",
      "   macro avg       0.45      0.45      0.41        30\n",
      "weighted avg       0.46      0.43      0.41        30\n",
      "\n"
     ]
    }
   ],
   "source": [
    "## 분류 성능 평가\n",
    "print(classification_report(true_value, pred_value))"
   ]
  },
  {
   "cell_type": "markdown",
   "metadata": {},
   "source": [
    "-------------------------\n"
   ]
  },
  {
   "cell_type": "markdown",
   "metadata": {},
   "source": [
    "## 4. 지도학습"
   ]
  },
  {
   "cell_type": "markdown",
   "metadata": {},
   "source": [
    "### 4-1. 로지스틱"
   ]
  },
  {
   "cell_type": "markdown",
   "metadata": {},
   "source": [
    "    * R에서는 범주형 변수를 더미변수로 바꿔줘야하지만,\n",
    "     Python에서는 알아서 변수 제외해줌? 더미변수로 바꿔줌\n",
    "     모든 모델이?\n",
    "    * Scale이 필요 없음 ( 해석을 위해 하기도 함)\n",
    "    \n",
    "    어떤 모델에서는 scale을 해야하는가?"
   ]
  },
  {
   "cell_type": "code",
   "execution_count": 90,
   "metadata": {},
   "outputs": [
    {
     "data": {
      "text/plain": [
       "(955, 12)"
      ]
     },
     "execution_count": 90,
     "metadata": {},
     "output_type": "execute_result"
    }
   ],
   "source": [
    "data_file = easygui.fileopenbox('Training data')\n",
    "data_train = pd.read_csv(data_file)\n",
    "data_train.shape"
   ]
  },
  {
   "cell_type": "code",
   "execution_count": 91,
   "metadata": {},
   "outputs": [
    {
     "data": {
      "text/html": [
       "<div>\n",
       "<style scoped>\n",
       "    .dataframe tbody tr th:only-of-type {\n",
       "        vertical-align: middle;\n",
       "    }\n",
       "\n",
       "    .dataframe tbody tr th {\n",
       "        vertical-align: top;\n",
       "    }\n",
       "\n",
       "    .dataframe thead th {\n",
       "        text-align: right;\n",
       "    }\n",
       "</style>\n",
       "<table border=\"1\" class=\"dataframe\">\n",
       "  <thead>\n",
       "    <tr style=\"text-align: right;\">\n",
       "      <th></th>\n",
       "      <th>fixed.acidity</th>\n",
       "      <th>volatile.acidity</th>\n",
       "      <th>citric.acid</th>\n",
       "      <th>residual.sugar</th>\n",
       "      <th>chlorides</th>\n",
       "      <th>free.sulfur.dioxide</th>\n",
       "      <th>total.sulfur.dioxide</th>\n",
       "      <th>density</th>\n",
       "      <th>pH</th>\n",
       "      <th>sulphates</th>\n",
       "      <th>alcohol</th>\n",
       "      <th>quality</th>\n",
       "    </tr>\n",
       "  </thead>\n",
       "  <tbody>\n",
       "    <tr>\n",
       "      <th>0</th>\n",
       "      <td>7.4</td>\n",
       "      <td>0.70</td>\n",
       "      <td>0.00</td>\n",
       "      <td>1.9</td>\n",
       "      <td>0.076</td>\n",
       "      <td>11.0</td>\n",
       "      <td>34.0</td>\n",
       "      <td>0.9978</td>\n",
       "      <td>3.51</td>\n",
       "      <td>0.56</td>\n",
       "      <td>9.4</td>\n",
       "      <td>Bad</td>\n",
       "    </tr>\n",
       "    <tr>\n",
       "      <th>1</th>\n",
       "      <td>7.8</td>\n",
       "      <td>0.88</td>\n",
       "      <td>0.00</td>\n",
       "      <td>2.6</td>\n",
       "      <td>0.098</td>\n",
       "      <td>25.0</td>\n",
       "      <td>67.0</td>\n",
       "      <td>0.9968</td>\n",
       "      <td>3.20</td>\n",
       "      <td>0.68</td>\n",
       "      <td>9.8</td>\n",
       "      <td>Bad</td>\n",
       "    </tr>\n",
       "    <tr>\n",
       "      <th>2</th>\n",
       "      <td>7.8</td>\n",
       "      <td>0.76</td>\n",
       "      <td>0.04</td>\n",
       "      <td>2.3</td>\n",
       "      <td>0.092</td>\n",
       "      <td>15.0</td>\n",
       "      <td>54.0</td>\n",
       "      <td>0.9970</td>\n",
       "      <td>3.26</td>\n",
       "      <td>0.65</td>\n",
       "      <td>9.8</td>\n",
       "      <td>Bad</td>\n",
       "    </tr>\n",
       "    <tr>\n",
       "      <th>3</th>\n",
       "      <td>11.2</td>\n",
       "      <td>0.28</td>\n",
       "      <td>0.56</td>\n",
       "      <td>1.9</td>\n",
       "      <td>0.075</td>\n",
       "      <td>17.0</td>\n",
       "      <td>60.0</td>\n",
       "      <td>0.9980</td>\n",
       "      <td>3.16</td>\n",
       "      <td>0.58</td>\n",
       "      <td>9.8</td>\n",
       "      <td>Good</td>\n",
       "    </tr>\n",
       "    <tr>\n",
       "      <th>4</th>\n",
       "      <td>7.4</td>\n",
       "      <td>0.66</td>\n",
       "      <td>0.00</td>\n",
       "      <td>1.8</td>\n",
       "      <td>0.075</td>\n",
       "      <td>13.0</td>\n",
       "      <td>40.0</td>\n",
       "      <td>0.9978</td>\n",
       "      <td>3.51</td>\n",
       "      <td>0.56</td>\n",
       "      <td>9.4</td>\n",
       "      <td>Bad</td>\n",
       "    </tr>\n",
       "  </tbody>\n",
       "</table>\n",
       "</div>"
      ],
      "text/plain": [
       "   fixed.acidity  volatile.acidity  citric.acid  residual.sugar  chlorides  \\\n",
       "0            7.4              0.70         0.00             1.9      0.076   \n",
       "1            7.8              0.88         0.00             2.6      0.098   \n",
       "2            7.8              0.76         0.04             2.3      0.092   \n",
       "3           11.2              0.28         0.56             1.9      0.075   \n",
       "4            7.4              0.66         0.00             1.8      0.075   \n",
       "\n",
       "   free.sulfur.dioxide  total.sulfur.dioxide  density    pH  sulphates  \\\n",
       "0                 11.0                  34.0   0.9978  3.51       0.56   \n",
       "1                 25.0                  67.0   0.9968  3.20       0.68   \n",
       "2                 15.0                  54.0   0.9970  3.26       0.65   \n",
       "3                 17.0                  60.0   0.9980  3.16       0.58   \n",
       "4                 13.0                  40.0   0.9978  3.51       0.56   \n",
       "\n",
       "   alcohol quality  \n",
       "0      9.4     Bad  \n",
       "1      9.8     Bad  \n",
       "2      9.8     Bad  \n",
       "3      9.8    Good  \n",
       "4      9.4     Bad  "
      ]
     },
     "execution_count": 91,
     "metadata": {},
     "output_type": "execute_result"
    }
   ],
   "source": [
    "data_train.head()"
   ]
  },
  {
   "cell_type": "code",
   "execution_count": 92,
   "metadata": {},
   "outputs": [
    {
     "data": {
      "text/html": [
       "<div>\n",
       "<style scoped>\n",
       "    .dataframe tbody tr th:only-of-type {\n",
       "        vertical-align: middle;\n",
       "    }\n",
       "\n",
       "    .dataframe tbody tr th {\n",
       "        vertical-align: top;\n",
       "    }\n",
       "\n",
       "    .dataframe thead th {\n",
       "        text-align: right;\n",
       "    }\n",
       "</style>\n",
       "<table border=\"1\" class=\"dataframe\">\n",
       "  <thead>\n",
       "    <tr style=\"text-align: right;\">\n",
       "      <th></th>\n",
       "      <th>fixed.acidity</th>\n",
       "      <th>volatile.acidity</th>\n",
       "      <th>citric.acid</th>\n",
       "      <th>residual.sugar</th>\n",
       "      <th>chlorides</th>\n",
       "      <th>free.sulfur.dioxide</th>\n",
       "      <th>total.sulfur.dioxide</th>\n",
       "      <th>density</th>\n",
       "      <th>pH</th>\n",
       "      <th>sulphates</th>\n",
       "      <th>alcohol</th>\n",
       "    </tr>\n",
       "  </thead>\n",
       "  <tbody>\n",
       "    <tr>\n",
       "      <th>count</th>\n",
       "      <td>955.000000</td>\n",
       "      <td>955.000000</td>\n",
       "      <td>955.000000</td>\n",
       "      <td>955.000000</td>\n",
       "      <td>955.000000</td>\n",
       "      <td>955.000000</td>\n",
       "      <td>955.000000</td>\n",
       "      <td>955.000000</td>\n",
       "      <td>955.000000</td>\n",
       "      <td>955.000000</td>\n",
       "      <td>955.000000</td>\n",
       "    </tr>\n",
       "    <tr>\n",
       "      <th>mean</th>\n",
       "      <td>8.273089</td>\n",
       "      <td>0.530712</td>\n",
       "      <td>0.269246</td>\n",
       "      <td>2.518586</td>\n",
       "      <td>0.088063</td>\n",
       "      <td>15.762304</td>\n",
       "      <td>46.840314</td>\n",
       "      <td>0.996711</td>\n",
       "      <td>3.316356</td>\n",
       "      <td>0.657613</td>\n",
       "      <td>10.438517</td>\n",
       "    </tr>\n",
       "    <tr>\n",
       "      <th>std</th>\n",
       "      <td>1.736372</td>\n",
       "      <td>0.176862</td>\n",
       "      <td>0.194575</td>\n",
       "      <td>1.414153</td>\n",
       "      <td>0.049589</td>\n",
       "      <td>10.420662</td>\n",
       "      <td>34.002295</td>\n",
       "      <td>0.001922</td>\n",
       "      <td>0.155503</td>\n",
       "      <td>0.171136</td>\n",
       "      <td>1.076876</td>\n",
       "    </tr>\n",
       "    <tr>\n",
       "      <th>min</th>\n",
       "      <td>4.700000</td>\n",
       "      <td>0.120000</td>\n",
       "      <td>0.000000</td>\n",
       "      <td>0.900000</td>\n",
       "      <td>0.012000</td>\n",
       "      <td>2.000000</td>\n",
       "      <td>6.000000</td>\n",
       "      <td>0.990070</td>\n",
       "      <td>2.740000</td>\n",
       "      <td>0.370000</td>\n",
       "      <td>8.400000</td>\n",
       "    </tr>\n",
       "    <tr>\n",
       "      <th>25%</th>\n",
       "      <td>7.100000</td>\n",
       "      <td>0.400000</td>\n",
       "      <td>0.090000</td>\n",
       "      <td>1.900000</td>\n",
       "      <td>0.070000</td>\n",
       "      <td>7.000000</td>\n",
       "      <td>22.000000</td>\n",
       "      <td>0.995575</td>\n",
       "      <td>3.210000</td>\n",
       "      <td>0.550000</td>\n",
       "      <td>9.500000</td>\n",
       "    </tr>\n",
       "    <tr>\n",
       "      <th>50%</th>\n",
       "      <td>7.900000</td>\n",
       "      <td>0.520000</td>\n",
       "      <td>0.260000</td>\n",
       "      <td>2.200000</td>\n",
       "      <td>0.079000</td>\n",
       "      <td>14.000000</td>\n",
       "      <td>37.000000</td>\n",
       "      <td>0.996660</td>\n",
       "      <td>3.310000</td>\n",
       "      <td>0.620000</td>\n",
       "      <td>10.200000</td>\n",
       "    </tr>\n",
       "    <tr>\n",
       "      <th>75%</th>\n",
       "      <td>9.100000</td>\n",
       "      <td>0.640000</td>\n",
       "      <td>0.425000</td>\n",
       "      <td>2.600000</td>\n",
       "      <td>0.090000</td>\n",
       "      <td>21.000000</td>\n",
       "      <td>62.000000</td>\n",
       "      <td>0.997800</td>\n",
       "      <td>3.410000</td>\n",
       "      <td>0.730000</td>\n",
       "      <td>11.100000</td>\n",
       "    </tr>\n",
       "    <tr>\n",
       "      <th>max</th>\n",
       "      <td>15.900000</td>\n",
       "      <td>1.330000</td>\n",
       "      <td>1.000000</td>\n",
       "      <td>15.500000</td>\n",
       "      <td>0.611000</td>\n",
       "      <td>72.000000</td>\n",
       "      <td>289.000000</td>\n",
       "      <td>1.003690</td>\n",
       "      <td>4.010000</td>\n",
       "      <td>2.000000</td>\n",
       "      <td>14.900000</td>\n",
       "    </tr>\n",
       "  </tbody>\n",
       "</table>\n",
       "</div>"
      ],
      "text/plain": [
       "       fixed.acidity  volatile.acidity  citric.acid  residual.sugar  \\\n",
       "count     955.000000        955.000000   955.000000      955.000000   \n",
       "mean        8.273089          0.530712     0.269246        2.518586   \n",
       "std         1.736372          0.176862     0.194575        1.414153   \n",
       "min         4.700000          0.120000     0.000000        0.900000   \n",
       "25%         7.100000          0.400000     0.090000        1.900000   \n",
       "50%         7.900000          0.520000     0.260000        2.200000   \n",
       "75%         9.100000          0.640000     0.425000        2.600000   \n",
       "max        15.900000          1.330000     1.000000       15.500000   \n",
       "\n",
       "        chlorides  free.sulfur.dioxide  total.sulfur.dioxide     density  \\\n",
       "count  955.000000           955.000000            955.000000  955.000000   \n",
       "mean     0.088063            15.762304             46.840314    0.996711   \n",
       "std      0.049589            10.420662             34.002295    0.001922   \n",
       "min      0.012000             2.000000              6.000000    0.990070   \n",
       "25%      0.070000             7.000000             22.000000    0.995575   \n",
       "50%      0.079000            14.000000             37.000000    0.996660   \n",
       "75%      0.090000            21.000000             62.000000    0.997800   \n",
       "max      0.611000            72.000000            289.000000    1.003690   \n",
       "\n",
       "               pH   sulphates     alcohol  \n",
       "count  955.000000  955.000000  955.000000  \n",
       "mean     3.316356    0.657613   10.438517  \n",
       "std      0.155503    0.171136    1.076876  \n",
       "min      2.740000    0.370000    8.400000  \n",
       "25%      3.210000    0.550000    9.500000  \n",
       "50%      3.310000    0.620000   10.200000  \n",
       "75%      3.410000    0.730000   11.100000  \n",
       "max      4.010000    2.000000   14.900000  "
      ]
     },
     "execution_count": 92,
     "metadata": {},
     "output_type": "execute_result"
    }
   ],
   "source": [
    "data_train.describe()"
   ]
  },
  {
   "cell_type": "code",
   "execution_count": 93,
   "metadata": {},
   "outputs": [
    {
     "data": {
      "text/html": [
       "<div>\n",
       "<style scoped>\n",
       "    .dataframe tbody tr th:only-of-type {\n",
       "        vertical-align: middle;\n",
       "    }\n",
       "\n",
       "    .dataframe tbody tr th {\n",
       "        vertical-align: top;\n",
       "    }\n",
       "\n",
       "    .dataframe thead th {\n",
       "        text-align: right;\n",
       "    }\n",
       "</style>\n",
       "<table border=\"1\" class=\"dataframe\">\n",
       "  <thead>\n",
       "    <tr style=\"text-align: right;\">\n",
       "      <th></th>\n",
       "      <th>fixed.acidity</th>\n",
       "      <th>volatile.acidity</th>\n",
       "      <th>citric.acid</th>\n",
       "      <th>residual.sugar</th>\n",
       "      <th>chlorides</th>\n",
       "      <th>free.sulfur.dioxide</th>\n",
       "      <th>total.sulfur.dioxide</th>\n",
       "      <th>density</th>\n",
       "      <th>pH</th>\n",
       "      <th>sulphates</th>\n",
       "      <th>alcohol</th>\n",
       "      <th>quality</th>\n",
       "    </tr>\n",
       "  </thead>\n",
       "  <tbody>\n",
       "    <tr>\n",
       "      <th>0</th>\n",
       "      <td>7.4</td>\n",
       "      <td>0.700</td>\n",
       "      <td>0.00</td>\n",
       "      <td>1.9</td>\n",
       "      <td>0.076</td>\n",
       "      <td>11</td>\n",
       "      <td>34.0</td>\n",
       "      <td>0.9978</td>\n",
       "      <td>3.51</td>\n",
       "      <td>0.56</td>\n",
       "      <td>9.4</td>\n",
       "      <td>Bad</td>\n",
       "    </tr>\n",
       "    <tr>\n",
       "      <th>1</th>\n",
       "      <td>5.6</td>\n",
       "      <td>0.615</td>\n",
       "      <td>0.00</td>\n",
       "      <td>1.6</td>\n",
       "      <td>0.089</td>\n",
       "      <td>16</td>\n",
       "      <td>59.0</td>\n",
       "      <td>0.9943</td>\n",
       "      <td>3.58</td>\n",
       "      <td>0.52</td>\n",
       "      <td>9.9</td>\n",
       "      <td>Bad</td>\n",
       "    </tr>\n",
       "    <tr>\n",
       "      <th>2</th>\n",
       "      <td>7.8</td>\n",
       "      <td>0.610</td>\n",
       "      <td>0.29</td>\n",
       "      <td>1.6</td>\n",
       "      <td>0.114</td>\n",
       "      <td>9</td>\n",
       "      <td>29.0</td>\n",
       "      <td>0.9974</td>\n",
       "      <td>3.26</td>\n",
       "      <td>1.56</td>\n",
       "      <td>9.1</td>\n",
       "      <td>Bad</td>\n",
       "    </tr>\n",
       "    <tr>\n",
       "      <th>3</th>\n",
       "      <td>8.1</td>\n",
       "      <td>0.560</td>\n",
       "      <td>0.28</td>\n",
       "      <td>1.7</td>\n",
       "      <td>0.368</td>\n",
       "      <td>16</td>\n",
       "      <td>56.0</td>\n",
       "      <td>0.9968</td>\n",
       "      <td>3.11</td>\n",
       "      <td>1.28</td>\n",
       "      <td>9.3</td>\n",
       "      <td>Bad</td>\n",
       "    </tr>\n",
       "    <tr>\n",
       "      <th>4</th>\n",
       "      <td>7.4</td>\n",
       "      <td>0.590</td>\n",
       "      <td>0.08</td>\n",
       "      <td>4.4</td>\n",
       "      <td>0.086</td>\n",
       "      <td>6</td>\n",
       "      <td>29.0</td>\n",
       "      <td>0.9974</td>\n",
       "      <td>3.38</td>\n",
       "      <td>0.50</td>\n",
       "      <td>9.0</td>\n",
       "      <td>Bad</td>\n",
       "    </tr>\n",
       "  </tbody>\n",
       "</table>\n",
       "</div>"
      ],
      "text/plain": [
       "   fixed.acidity  volatile.acidity  citric.acid  residual.sugar  chlorides  \\\n",
       "0            7.4             0.700         0.00             1.9      0.076   \n",
       "1            5.6             0.615         0.00             1.6      0.089   \n",
       "2            7.8             0.610         0.29             1.6      0.114   \n",
       "3            8.1             0.560         0.28             1.7      0.368   \n",
       "4            7.4             0.590         0.08             4.4      0.086   \n",
       "\n",
       "   free.sulfur.dioxide  total.sulfur.dioxide  density    pH  sulphates  \\\n",
       "0                   11                  34.0   0.9978  3.51       0.56   \n",
       "1                   16                  59.0   0.9943  3.58       0.52   \n",
       "2                    9                  29.0   0.9974  3.26       1.56   \n",
       "3                   16                  56.0   0.9968  3.11       1.28   \n",
       "4                    6                  29.0   0.9974  3.38       0.50   \n",
       "\n",
       "   alcohol quality  \n",
       "0      9.4     Bad  \n",
       "1      9.9     Bad  \n",
       "2      9.1     Bad  \n",
       "3      9.3     Bad  \n",
       "4      9.0     Bad  "
      ]
     },
     "execution_count": 93,
     "metadata": {},
     "output_type": "execute_result"
    }
   ],
   "source": [
    "## 검정 자료 : winequality_red_test.csv\n",
    "data_file = easygui.fileopenbox(\"Test data\")\n",
    "data_test = pd.read_csv(data_file)\n",
    "data_test.head()"
   ]
  },
  {
   "cell_type": "code",
   "execution_count": 94,
   "metadata": {},
   "outputs": [
    {
     "data": {
      "text/plain": [
       "0       Bad\n",
       "1       Bad\n",
       "2       Bad\n",
       "3      Good\n",
       "4       Bad\n",
       "       ... \n",
       "950    Good\n",
       "951    Good\n",
       "952     Bad\n",
       "953    Good\n",
       "954    Good\n",
       "Name: quality, Length: 955, dtype: object"
      ]
     },
     "execution_count": 94,
     "metadata": {},
     "output_type": "execute_result"
    }
   ],
   "source": [
    "data_train.quality"
   ]
  },
  {
   "cell_type": "code",
   "execution_count": 97,
   "metadata": {},
   "outputs": [],
   "source": [
    "## 훈련 및 검정자료의 입력 출력 나누기\n",
    "\n",
    "# 훈련자료\n",
    "x_train = data_train.iloc[:,0:11] #입력\n",
    "y_train = data_train.quality # 출력\n",
    "\n",
    "# 검정자료\n",
    "x_test = data_train.iloc[:,0:11] #입력\n",
    "y_test = data_train.quality #출력\n",
    "\n"
   ]
  },
  {
   "cell_type": "code",
   "execution_count": 98,
   "metadata": {},
   "outputs": [],
   "source": [
    "# library\n",
    "\n",
    "from sklearn.linear_model import LogisticRegression\n"
   ]
  },
  {
   "cell_type": "markdown",
   "metadata": {},
   "source": [
    "#### 모형 적합"
   ]
  },
  {
   "cell_type": "code",
   "execution_count": 99,
   "metadata": {},
   "outputs": [
    {
     "name": "stderr",
     "output_type": "stream",
     "text": [
      "C:\\Users\\gkrxo\\anaconda3\\envs\\DataCampus\\lib\\site-packages\\sklearn\\linear_model\\_logistic.py:762: ConvergenceWarning: lbfgs failed to converge (status=1):\n",
      "STOP: TOTAL NO. of ITERATIONS REACHED LIMIT.\n",
      "\n",
      "Increase the number of iterations (max_iter) or scale the data as shown in:\n",
      "    https://scikit-learn.org/stable/modules/preprocessing.html\n",
      "Please also refer to the documentation for alternative solver options:\n",
      "    https://scikit-learn.org/stable/modules/linear_model.html#logistic-regression\n",
      "  n_iter_i = _check_optimize_result(\n"
     ]
    }
   ],
   "source": [
    "logistic = LogisticRegression()\n",
    "fit_logistic = logistic.fit(x_train, y_train)"
   ]
  },
  {
   "cell_type": "markdown",
   "metadata": {},
   "source": [
    "#### 정오분류표"
   ]
  },
  {
   "cell_type": "code",
   "execution_count": 101,
   "metadata": {},
   "outputs": [],
   "source": [
    "## 검정자료 예측 \n",
    "#  만든 모델 (fit_logistic)에 새로운 데이터 넣어볼까 (x_test)\n",
    "pred_logistic = fit_logistic.predict(x_test)"
   ]
  },
  {
   "cell_type": "code",
   "execution_count": 103,
   "metadata": {},
   "outputs": [
    {
     "data": {
      "text/html": [
       "<div>\n",
       "<style scoped>\n",
       "    .dataframe tbody tr th:only-of-type {\n",
       "        vertical-align: middle;\n",
       "    }\n",
       "\n",
       "    .dataframe tbody tr th {\n",
       "        vertical-align: top;\n",
       "    }\n",
       "\n",
       "    .dataframe thead th {\n",
       "        text-align: right;\n",
       "    }\n",
       "</style>\n",
       "<table border=\"1\" class=\"dataframe\">\n",
       "  <thead>\n",
       "    <tr style=\"text-align: right;\">\n",
       "      <th>col_0</th>\n",
       "      <th>Bad</th>\n",
       "      <th>Good</th>\n",
       "    </tr>\n",
       "    <tr>\n",
       "      <th>quality</th>\n",
       "      <th></th>\n",
       "      <th></th>\n",
       "    </tr>\n",
       "  </thead>\n",
       "  <tbody>\n",
       "    <tr>\n",
       "      <th>Bad</th>\n",
       "      <td>334</td>\n",
       "      <td>119</td>\n",
       "    </tr>\n",
       "    <tr>\n",
       "      <th>Good</th>\n",
       "      <td>126</td>\n",
       "      <td>376</td>\n",
       "    </tr>\n",
       "  </tbody>\n",
       "</table>\n",
       "</div>"
      ],
      "text/plain": [
       "col_0    Bad  Good\n",
       "quality           \n",
       "Bad      334   119\n",
       "Good     126   376"
      ]
     },
     "execution_count": 103,
     "metadata": {},
     "output_type": "execute_result"
    }
   ],
   "source": [
    "pd.crosstab(y_test,pred_logistic)"
   ]
  },
  {
   "cell_type": "code",
   "execution_count": 104,
   "metadata": {},
   "outputs": [
    {
     "name": "stdout",
     "output_type": "stream",
     "text": [
      "              precision    recall  f1-score   support\n",
      "\n",
      "         Bad       0.73      0.74      0.73       453\n",
      "        Good       0.76      0.75      0.75       502\n",
      "\n",
      "    accuracy                           0.74       955\n",
      "   macro avg       0.74      0.74      0.74       955\n",
      "weighted avg       0.74      0.74      0.74       955\n",
      "\n"
     ]
    }
   ],
   "source": [
    "## confusion Matrix and Statistics\n",
    "# from sklearn.metrics import classification_report\n",
    "print(classification_report(y_test,pred_logistic))"
   ]
  },
  {
   "cell_type": "code",
   "execution_count": 106,
   "metadata": {},
   "outputs": [],
   "source": [
    "## ROC curve & AUC\n",
    "\n",
    "## library\n",
    "from sklearn.metrics import roc_curve,auc\n",
    "import matplotlib.pyplot as plt"
   ]
  },
  {
   "cell_type": "code",
   "execution_count": 108,
   "metadata": {
    "scrolled": true
   },
   "outputs": [
    {
     "data": {
      "image/png": "[encoded data removed]",
      "text/plain": [
       "<Figure size 432x288 with 1 Axes>"
      ]
     },
     "metadata": {
      "needs_background": "light"
     },
     "output_type": "display_data"
    }
   ],
   "source": [
    "## ROC curve\n",
    "\n",
    "#실제값 \n",
    "\n",
    "y_test_fac, y_test_levels = pd.factorize(y_test) # 범주화 factor \n",
    "#y_test_fac GET!\n",
    "\n",
    "# 예측한값\n",
    "### decision_fuction() 또는 predict_proba() | bad good 예측한값(predict value)\n",
    "# predict value 예측값이 아니라 decision_fuction() predict_proba() 확률을 이용하는 이유\n",
    "# 값은 예측값이더라도 얼마나 확신하는 지에 따라 모델 성능이 다름\n",
    "\n",
    "# https://subinium.github.io/MLwithPython-2-4/\n",
    "# .decision_function 0에 가까울수록 판단 흘미\n",
    "# . prob  0-1 \n",
    "d_func = fit_logistic.decision_function(x_test) \n",
    "#d_fuc GET!\n",
    "\n",
    "# 양성으로 판단하는 기준(threshold) 여기서 사용하진 않음\n",
    "fpr, tpr, thresholds = roc_curve(y_test_fac, d_func) \n",
    "# fpr, tpr은 False Positive Rate, True Positive rate 즉 좌표\n",
    "\n",
    "## ROC curve\n",
    "plt.plot(fpr,tpr,'o-') # 점선\n",
    "plt.plot([0,1],[0,1],'k--') # 선\n",
    "plt.show()\n"
   ]
  },
  {
   "cell_type": "code",
   "execution_count": 127,
   "metadata": {},
   "outputs": [
    {
     "data": {
      "text/plain": [
       "array([-1.49415644e+00, -1.10887027e+00, -9.60277508e-01,  5.61696423e-02,\n",
       "       -1.43526071e+00, -1.37034668e+00, -4.70608005e-01, -6.04753853e-01,\n",
       "       -2.75219957e-01, -1.38070244e+00, -2.75219957e-01, -1.30603575e+00,\n",
       "       -1.29772037e+00,  5.63106381e-01, -2.56675240e-01,  4.03666518e-01,\n",
       "       -1.01618507e+00, -4.15980095e-02, -2.63075367e-01, -2.07092357e-02,\n",
       "        4.03666518e-01, -5.04807733e-01, -8.77866781e-02, -1.45476918e+00,\n",
       "       -1.34750925e+00,  4.58914624e-01, -2.32261286e+00, -1.20485796e+00,\n",
       "        1.19003290e+00, -1.06779367e+00, -2.72772693e+00, -3.49055329e-01,\n",
       "       -1.20674571e+00, -7.07170757e-01, -4.13021631e-01, -1.15400299e+00,\n",
       "        2.52824138e-01, -8.93440003e-01, -7.15784528e-01, -8.20145762e-01,\n",
       "       -1.57610800e-01,  1.94572284e-02,  1.14161267e+00,  6.25643466e-01,\n",
       "       -2.06348145e+00, -1.56837158e+00, -7.10253930e-02, -2.44137579e-02,\n",
       "       -2.44137579e-02, -1.55718916e+00, -6.84341911e-01, -2.29312303e-01,\n",
       "        5.72162140e-01, -1.70326179e-01, -4.54883917e-01,  1.41589801e-01,\n",
       "        1.54823244e+00,  4.64029787e-01, -3.16924930e-01, -5.68222249e-01,\n",
       "       -1.25081651e+00, -6.32021090e-01,  3.19228335e-01, -1.05962180e+00,\n",
       "       -1.59120499e+00, -9.62109272e-01, -1.59120499e+00, -1.31208789e+00,\n",
       "       -1.25913428e+00,  1.71781705e-01, -4.34129224e-01, -1.02237223e+00,\n",
       "        4.72806546e-01, -2.02709814e+00, -3.45886357e+00,  4.72806546e-01,\n",
       "       -1.53338627e+00, -1.39182089e+00, -1.07244819e+00, -1.90738923e+00,\n",
       "       -2.33859155e+00,  1.37323865e+00,  1.37323865e+00, -9.24354981e-01,\n",
       "       -1.82666759e+00, -8.25812696e-01,  3.72879370e+00, -2.15046012e+00,\n",
       "       -9.43157326e-01,  4.72160362e-02,  6.82029984e-01,  2.08786530e+00,\n",
       "       -1.09290181e+00, -5.46340903e-01, -5.46340903e-01, -1.35992026e+00,\n",
       "        1.08191552e-01, -2.82010886e-02, -1.99151183e+00, -1.98111689e+00,\n",
       "       -1.61899429e+00, -1.29373755e+00, -1.33632405e+00,  7.00267098e-01,\n",
       "        9.22343617e-01, -5.36774407e-01, -5.36774407e-01, -3.17186099e-01,\n",
       "       -7.75966974e-01, -1.10553754e+00, -1.62860097e+00, -1.87157581e+00,\n",
       "       -1.88040227e+00, -1.12188288e+00, -2.01075038e+00, -2.06828208e+00,\n",
       "       -4.83091915e-01, -6.32619962e-01,  1.46640964e+00, -9.26300022e-01,\n",
       "        1.23416950e+00, -3.40972594e-01, -3.00046892e-01, -7.15006810e-01,\n",
       "        1.36007796e+00,  1.36007796e+00, -9.88699756e-01,  1.36008105e+00,\n",
       "       -1.30325243e+00,  4.72128574e-01, -5.99511998e-01,  4.97980062e-01,\n",
       "       -1.78319320e+00, -7.12791302e-01, -2.05249131e+00, -9.54975338e-01,\n",
       "       -4.30034439e-01,  3.58840781e-01,  8.34848585e-01, -1.11707233e+00,\n",
       "        3.58840781e-01,  8.17035965e-01,  2.81342452e-01, -2.53540213e+00,\n",
       "       -1.23750480e+00, -4.24127707e-01, -1.04653104e+00, -3.17596976e-01,\n",
       "       -1.35765238e+00, -6.84537046e-01,  7.87549912e-01, -2.08364778e+00,\n",
       "       -1.70578952e+00,  4.58564912e-01,  1.07745954e+00, -1.28749465e-01,\n",
       "       -2.38336915e+00,  1.17982405e+00, -1.61747077e+00,  3.21356954e+00,\n",
       "       -6.98243752e-01,  1.38146824e+00,  1.38146824e+00,  2.74093544e-01,\n",
       "       -1.21908645e+00, -1.39778295e+00, -6.98243752e-01,  1.38146824e+00,\n",
       "        3.32321842e+00,  5.33828213e-01, -1.29512260e+00,  7.85824813e-01,\n",
       "        6.71096300e-01,  7.84203001e-01, -5.39426356e-01,  7.84203001e-01,\n",
       "        2.54195293e-01, -1.98612945e-01, -1.02652041e+00, -1.30743890e+00,\n",
       "       -6.52487315e-01, -1.19902731e+00, -1.58800272e+00, -9.79017108e-02,\n",
       "       -1.31030096e-01, -2.42791492e-01, -5.97979030e-01, -1.75234020e+00,\n",
       "       -1.86131369e+00,  9.29598180e-01,  6.08922777e-01, -7.35657135e-01,\n",
       "        1.78060141e+00,  1.89612701e+00,  4.12316562e-01, -9.07050327e-02,\n",
       "       -1.82336623e+00,  7.77721107e-01,  1.36919081e+00,  1.85488471e+00,\n",
       "        2.54906241e+00,  1.89960987e+00,  9.72225510e-01,  3.07145548e-01,\n",
       "        2.64469436e+00,  4.95368048e-01,  1.04163252e-01, -9.40313501e-01,\n",
       "        1.12750974e+00,  1.61262436e+00,  1.47420350e+00,  1.88662061e+00,\n",
       "        1.03562606e+00, -3.60071189e-01,  2.36744458e+00, -6.86218177e-01,\n",
       "        6.31677583e-02,  1.70749971e+00,  8.36845890e-01,  6.24630612e-01,\n",
       "        6.24630612e-01, -8.24796977e-01, -9.71477412e-01,  8.81861874e-01,\n",
       "        5.57172306e-01, -2.24707536e+00, -2.88254369e-01,  4.27681283e-01,\n",
       "        4.27681283e-01,  2.28668203e-01,  6.72970290e-02, -1.02930956e+00,\n",
       "        7.91481631e-01,  9.86272353e-01, -9.95082688e-01, -1.74534704e+00,\n",
       "       -1.64627205e+00, -1.66682079e+00,  1.53877885e+00, -9.69853870e-01,\n",
       "        9.66154414e-01, -1.18747638e+00,  2.23709548e+00,  9.66154414e-01,\n",
       "        2.80848786e-01, -4.33420694e-01, -6.87781541e-01, -5.93743856e-01,\n",
       "       -1.20687611e+00, -3.40829097e-01,  6.17046160e-01, -3.40829097e-01,\n",
       "       -2.16492013e-01,  1.29256026e+00,  6.17046160e-01, -8.84247214e-01,\n",
       "        5.09132276e-01,  2.13021170e+00,  1.48514573e+00,  1.21437049e-01,\n",
       "        1.11379933e+00,  1.11379933e+00,  4.54406807e-01,  2.79944868e+00,\n",
       "        1.63046153e+00, -1.65079517e+00,  2.27946668e+00, -2.47575423e+00,\n",
       "        3.97883851e-01,  1.54231231e+00, -3.28951346e-01, -6.20741617e-01,\n",
       "        1.34647928e+00, -2.07383020e-01,  5.70532691e-01,  2.53118310e+00,\n",
       "       -1.83483932e-01,  1.82343795e-01,  2.85650362e+00, -4.89823486e-01,\n",
       "       -3.02658790e-01,  3.45813120e+00,  3.81598162e+00,  2.43545081e-01,\n",
       "        1.34527733e+00,  1.11925751e+00,  1.55120461e+00,  2.43545081e-01,\n",
       "       -1.14692959e+00,  2.28719867e+00,  2.26452280e+00,  2.67055325e+00,\n",
       "       -8.30565049e-03, -1.02651148e-01, -1.60528382e+00,  1.59609889e+00,\n",
       "       -1.62173355e+00,  8.42889742e-01, -9.67887497e-01, -1.28092866e+00,\n",
       "        8.42889742e-01, -7.70409131e-01, -8.11152475e-01,  4.28382670e-01,\n",
       "       -8.45026269e-02,  1.99517077e+00,  1.01617836e+00,  1.35027563e+00,\n",
       "        6.98695709e-01, -8.08682308e-02, -4.88944575e-01,  8.20773277e-01,\n",
       "       -7.74195858e-01, -1.30828770e+00,  1.18060970e+00,  1.18060970e+00,\n",
       "       -1.15810817e+00,  4.24171145e-01,  1.96130219e+00,  9.65790114e-01,\n",
       "       -1.52732455e+00, -1.52732455e+00,  6.82197287e-01,  1.48072706e+00,\n",
       "        1.41381959e+00, -1.06046360e+00,  6.68973850e-02, -1.82544801e-01,\n",
       "       -1.31802744e+00,  2.73193550e-01, -6.12955717e-01, -6.12955717e-01,\n",
       "        1.05919918e+00,  1.76067148e+00,  3.30878066e+00, -8.91380377e-01,\n",
       "       -8.91380377e-01, -1.27866011e+00, -1.80787337e+00, -1.65824154e-01,\n",
       "       -2.06299168e-03, -5.87400424e-01, -3.07138797e-01, -1.30539567e+00,\n",
       "       -1.46297097e+00, -8.71215378e-01, -7.22642524e-01,  2.22171229e+00,\n",
       "        1.19299040e-02, -1.59464826e-01,  3.86711190e-01, -1.38305931e+00,\n",
       "       -1.38305931e+00,  1.28383926e+00,  5.58295149e-01,  3.75447910e-01,\n",
       "       -1.75926137e+00,  2.15188251e+00, -5.41232187e-01, -5.41232187e-01,\n",
       "       -1.34946935e+00, -1.34946935e+00, -8.36199331e-01, -1.61166121e+00,\n",
       "        1.21950966e-01,  6.51720991e-01, -1.17434140e+00, -3.82441675e-01,\n",
       "       -9.55349553e-01, -3.11081112e+00, -9.35326445e-01,  2.26474934e+00,\n",
       "       -9.61828314e-01, -1.42547065e+00, -9.61828314e-01, -1.42547065e+00,\n",
       "       -9.61828314e-01,  6.00714430e-02,  1.17215686e+00,  7.37759764e-02,\n",
       "        9.27196260e-02, -1.58516019e+00,  4.87747267e+00,  9.27196260e-02,\n",
       "        1.05576174e+00,  5.43226000e-02,  5.43226000e-02,  1.59169471e+00,\n",
       "       -3.25945396e-01, -2.67357471e-01,  4.14514282e-01,  3.85530262e-01,\n",
       "       -9.05125508e-01,  4.99987724e-01,  1.03497161e-01, -1.29711710e+00,\n",
       "       -1.35603352e+00,  3.83557176e-01, -2.68109505e-01,  3.17151405e-01,\n",
       "        3.17151405e-01, -1.51297699e+00, -7.78304399e-01, -1.10654516e+00,\n",
       "        5.50428308e-01, -1.73814458e+00, -2.78384002e+00, -1.30514377e-01,\n",
       "       -1.77879713e+00, -1.73220389e+00,  1.71453298e+00, -1.31990897e+00,\n",
       "        1.20206491e+00, -1.75453685e+00, -8.96934022e-01, -9.06964682e-01,\n",
       "       -5.35757363e-01, -2.23714743e+00, -9.52801472e-01,  1.22707296e+00,\n",
       "        5.44713294e-01, -2.00727312e+00, -1.01040895e+00, -6.37689693e-03,\n",
       "       -5.33338912e-01, -1.27934021e+00, -5.33338912e-01, -1.16342536e+00,\n",
       "        2.24163657e-01,  1.64980523e+00, -4.02865877e-02,  2.55099216e-01,\n",
       "       -4.83105854e-01,  7.03503233e-01,  1.19291279e-03, -1.44059899e+00,\n",
       "       -1.29380324e+00, -1.23047117e+00, -1.67970017e+00, -1.67970017e+00,\n",
       "       -1.35491821e+00, -1.17142834e+00,  7.25066409e-01, -1.81892053e+00,\n",
       "       -9.28633613e-01, -1.14882634e+00, -8.58882280e-01, -4.64263085e-01,\n",
       "       -5.19222865e-01, -9.40910600e-01, -1.03894755e+00,  9.45548319e-02,\n",
       "       -1.13706465e+00, -8.31510454e-01, -1.26082715e+00, -9.24747966e-01,\n",
       "       -1.31000098e+00, -5.43931846e-01, -1.31000098e+00, -1.29163834e+00,\n",
       "       -1.70920990e+00, -1.27206937e+00, -1.70920990e+00, -2.68054747e+00,\n",
       "       -2.37170181e+00, -1.28968368e-01, -1.10602295e+00, -2.85111334e-01,\n",
       "        3.69142318e-01, -1.24108376e+00, -7.04487119e-01, -6.86280581e-01,\n",
       "       -2.94980866e-01, -2.94980866e-01, -5.15943913e-01, -2.01062320e+00,\n",
       "       -1.54928045e+00,  5.09196681e-01,  2.76755685e+00, -1.72997777e+00,\n",
       "        1.93904008e+00, -4.60418465e-01,  3.36126575e+00,  3.30311752e+00,\n",
       "        3.36126575e+00,  4.16773265e-01,  1.02385745e+00,  1.05540582e+00,\n",
       "       -1.31692642e+00, -1.40520951e+00, -6.64970366e-01, -6.83487146e-01,\n",
       "        4.48621982e-01,  4.72470181e-01,  4.72470181e-01,  2.51298325e+00,\n",
       "        8.80142801e-01,  3.53001718e-01,  8.80142801e-01,  3.99190116e-01,\n",
       "        2.52061665e-01, -1.15223686e+00, -1.38330401e+00,  1.34831306e+00,\n",
       "        1.98296600e+00, -2.82858124e-01,  2.19375464e+00, -1.98228485e+00,\n",
       "        1.84971815e+00, -8.42312946e-01, -8.42312946e-01, -8.54916448e-01,\n",
       "       -3.54293824e-01, -3.54293824e-01,  1.26527957e+00,  1.02231590e+00,\n",
       "        1.26527957e+00, -1.94289177e+00,  3.88370243e-01, -1.72572508e+00,\n",
       "       -1.94289177e+00, -1.80286746e+00,  1.61776422e+00,  1.53254790e+00,\n",
       "        2.93924739e-01,  1.98831674e+00, -1.88181512e+00, -1.06488425e-01,\n",
       "       -2.96177871e-01, -4.72158873e-01,  6.22022692e-01, -1.84089069e+00,\n",
       "       -1.83971826e-01, -1.84089069e+00,  3.73347813e-01,  2.91318046e+00,\n",
       "        3.73347813e-01,  2.91318046e+00, -8.14941896e-01,  1.37814423e-01,\n",
       "        1.18214626e-01,  9.25822419e-01,  1.63782835e+00,  2.38065456e+00,\n",
       "        1.95638921e+00,  2.51277033e+00, -7.66051705e-01,  3.87151843e-01,\n",
       "        1.13280467e+00,  6.90368877e-01,  1.13280467e+00,  1.81360735e+00,\n",
       "        1.96146242e+00,  1.26423026e+00, -1.73952267e+00,  1.81360735e+00,\n",
       "       -1.67503806e-01, -6.92992395e-01, -6.35876086e-01,  1.66614032e+00,\n",
       "        3.13872579e+00,  1.01390718e+00,  2.76393249e+00,  2.91083121e+00,\n",
       "       -4.88104956e-02, -5.42782159e-01,  1.70457255e+00,  2.92897243e+00,\n",
       "        2.85146663e+00,  2.85146663e+00,  2.85146663e+00,  2.92897243e+00,\n",
       "        1.88585146e+00,  2.70811594e+00,  1.95306309e+00,  1.59006796e+00,\n",
       "        1.14528284e+00, -2.98904872e-01, -5.27924673e-01,  1.78221697e+00,\n",
       "        1.68301963e+00, -1.10203802e-01,  1.95557509e+00,  8.16664062e-01,\n",
       "       -8.18387833e-01, -8.18387833e-01,  1.27777308e+00,  7.94180283e-01,\n",
       "        6.93933467e-01, -8.59816171e-01,  3.10953306e+00,  6.93933467e-01,\n",
       "        9.59116847e-01,  6.06695572e-02, -7.30074248e-01, -2.44191007e-01,\n",
       "        1.68611729e+00,  1.69477138e+00,  1.47042222e+00,  5.16273815e-01,\n",
       "        2.63017716e+00,  2.60887727e+00,  9.53048355e-01,  2.75411730e+00,\n",
       "       -1.48871960e+00,  2.95133927e+00,  3.00536838e+00,  3.00536838e+00,\n",
       "        1.27305531e-01,  1.98973972e+00,  5.00596599e-01,  2.58431260e+00,\n",
       "        3.99668131e-01,  2.53233234e+00,  3.10242070e-01,  3.84403941e-01,\n",
       "        1.09540887e+00,  9.08287747e-01, -1.29202033e+00,  1.15899657e+00,\n",
       "        3.02111756e+00, -1.29815768e+00,  1.41452807e+00,  1.79032145e+00,\n",
       "        2.02532419e-01,  2.16566552e+00, -1.74328378e+00,  2.06872656e+00,\n",
       "        2.06872656e+00,  1.70150269e+00,  2.25681731e+00,  1.16115669e+00,\n",
       "        2.44306806e+00,  2.17607250e+00,  2.17607250e+00,  2.15101068e+00,\n",
       "       -1.85122615e+00, -4.61512940e-01,  2.03242524e-01, -1.85122615e+00,\n",
       "        1.16274721e+00,  1.29101333e+00, -4.52215332e-01,  2.31930647e+00,\n",
       "       -6.24065703e-01, -5.28653322e-01,  2.21950199e+00,  2.67725415e+00,\n",
       "        1.26397858e+00,  2.62294419e+00,  4.61898894e-02,  7.11815373e-01,\n",
       "       -5.85823502e-01,  1.02719053e+00,  2.50301466e+00,  2.94647579e+00,\n",
       "       -1.37805910e+00,  8.37523695e-01,  1.45171309e+00,  1.36506518e+00,\n",
       "        6.24237663e-01,  2.95181114e+00,  8.08754485e-01,  8.08754485e-01,\n",
       "        2.06316025e+00,  3.17429436e+00,  2.10426275e+00,  2.10918518e+00,\n",
       "        8.05784361e-01,  2.17777039e+00,  3.66037979e+00,  4.58911618e-01,\n",
       "        5.73826860e-01, -4.57917806e-01,  3.99310544e+00,  2.55170830e+00,\n",
       "        2.11113194e+00,  1.61704754e+00,  1.61704754e+00, -1.25138024e+00,\n",
       "        1.77183334e+00,  1.18805752e+00,  1.32895717e+00,  1.09306104e+00,\n",
       "       -5.32456481e-01,  1.95013476e+00,  1.46161882e+00,  1.04502200e+00,\n",
       "        1.69657238e+00,  2.70598142e+00,  6.76963953e-01,  7.34297168e-01,\n",
       "        3.13882690e+00,  6.14440262e-01, -5.44606555e-01,  2.31975638e+00,\n",
       "       -7.32097055e-01,  1.44229276e+00,  1.44229276e+00,  1.52830690e+00,\n",
       "        1.35071500e+00,  8.74831300e-01,  1.35071500e+00, -1.82868123e+00,\n",
       "        2.38813535e+00, -7.27751439e-01,  2.64096365e+00, -1.38925880e+00,\n",
       "       -7.54547722e-01, -1.27780988e+00, -2.29759946e-02,  1.54090121e+00,\n",
       "       -2.29759946e-02,  1.92375181e+00, -1.34362341e+00,  1.58890572e+00,\n",
       "        1.58890572e+00, -3.59730078e-01,  1.58890572e+00,  1.78936201e+00,\n",
       "        1.84406702e-01, -4.94064602e-01,  1.33417991e+00, -1.25973931e+00,\n",
       "        2.69832158e+00,  1.07665573e+00,  1.62645988e+00,  1.82763853e+00,\n",
       "        1.82763853e+00,  2.47585107e+00,  1.19079277e+00, -9.74289165e-01,\n",
       "       -2.96567567e-01, -7.47295108e-01, -3.20527163e-01, -1.14055177e-01,\n",
       "       -3.24204464e-01,  1.60207849e+00,  1.11736063e+00,  2.23036643e+00,\n",
       "        6.24992742e-02,  1.78296598e-01,  1.78296598e-01,  1.46873227e+00,\n",
       "        6.46221043e-01, -4.55622707e-01, -8.67796832e-01, -9.33200212e-01,\n",
       "        1.60728188e-01,  7.09726460e-01,  7.09726460e-01, -1.53947494e-01,\n",
       "       -1.34797376e+00,  1.99596874e+00,  3.65580536e-02,  2.33143439e+00,\n",
       "       -6.83682583e-01,  3.54381396e+00, -6.49768238e-01,  4.54891721e-01,\n",
       "        7.02431802e-01,  2.97506791e+00,  2.38077524e+00, -6.84888454e-02,\n",
       "        3.56390880e-01,  5.93718023e-01,  5.93718023e-01, -6.65271011e-01,\n",
       "        1.90133688e+00,  1.72539488e+00,  1.31136520e+00,  1.16514286e-01,\n",
       "        1.38205008e+00, -1.21763399e+00, -1.20363745e+00,  3.57073719e-01,\n",
       "       -1.07220790e+00, -1.21763399e+00,  2.57657957e+00, -1.24750595e-01,\n",
       "       -1.20226178e-01, -1.31654644e+00,  3.70408100e-01, -1.31654644e+00,\n",
       "       -3.07648049e-01, -1.17188770e+00,  1.86779035e+00,  1.63709735e+00,\n",
       "        6.29793739e-01,  6.29793739e-01,  6.29793739e-01, -8.71134291e-01,\n",
       "       -1.31711181e+00, -2.08376262e+00,  9.02071178e-02, -1.04350593e+00,\n",
       "        2.22109428e+00, -5.03459225e-01, -5.03459225e-01,  3.10680430e-01,\n",
       "        3.10680430e-01,  1.21943283e+00,  3.15743179e-01,  8.48447606e-01,\n",
       "       -1.03435703e+00,  3.40065969e-01, -6.76944107e-01,  8.80305117e-01,\n",
       "       -7.96741995e-01, -7.96741995e-01, -4.09893972e-01,  9.56584807e-02,\n",
       "        8.38728632e-02, -1.19131732e+00,  3.02164615e-01,  4.97642374e-01,\n",
       "       -1.41411408e+00, -1.10330918e+00,  2.99731008e-01, -1.65381588e+00,\n",
       "       -8.36552512e-01,  2.14789150e+00, -1.93022051e+00, -1.15459714e+00,\n",
       "       -1.35568741e+00,  9.75494997e-01, -2.90771823e-02,  4.63704145e-01,\n",
       "       -1.64735383e+00, -1.43489141e+00, -6.73541510e-01, -5.97261048e-01,\n",
       "        1.95171886e+00, -2.42833517e-01, -3.83545906e-01, -1.38321580e+00,\n",
       "       -7.21802098e-01, -6.60291324e-01,  7.12310074e-01, -1.93972992e+00,\n",
       "       -1.93972992e+00,  2.37037749e+00,  1.62608388e+00,  1.51570836e-01,\n",
       "        2.44453089e+00,  2.32031273e+00,  3.66119950e+00,  5.31275750e-01,\n",
       "        5.11980705e-01, -4.90538957e-01,  5.11980705e-01, -1.90253570e-01,\n",
       "       -1.83327754e+00, -4.93126521e-01,  1.74262773e+00,  7.11137751e-01,\n",
       "        5.46108179e-01,  1.27398378e+00,  5.81916112e-01,  2.56677383e+00,\n",
       "        4.34882396e-01, -7.91677515e-01, -6.78255087e-01,  1.58066520e-01,\n",
       "        2.02110774e+00, -1.92464519e+00,  1.09374697e+00, -6.78120967e-02,\n",
       "        1.72778646e+00, -1.62329575e+00,  1.00927624e+00, -2.70006901e-01,\n",
       "       -2.27736521e-03,  2.01593844e-01, -3.42981378e-01, -7.76472573e-01,\n",
       "        2.16972191e-01, -1.69385718e+00,  3.35233629e-01,  2.72558952e+00,\n",
       "       -8.27354215e-01,  2.75533664e+00, -9.95549575e-01, -5.16038934e-01,\n",
       "        1.15874996e+00, -3.83525126e-01, -8.22693189e-01,  8.63582675e-01,\n",
       "        2.79651787e+00,  6.85407410e-01,  9.78823588e-01, -1.89974805e+00,\n",
       "        1.24902964e+00, -1.89974805e+00,  7.36920641e-01, -5.00869984e-01,\n",
       "        7.36920641e-01, -7.76542664e-01,  1.43173508e+00, -1.36589481e-01,\n",
       "        1.38221407e+00, -9.06410733e-02, -2.16523643e+00,  1.39999975e+00,\n",
       "        7.64773953e-01,  5.48497723e-01, -4.57282610e-01,  7.64773953e-01,\n",
       "       -1.14270311e+00,  1.39999975e+00,  4.64891342e-01,  1.09258790e-02,\n",
       "       -4.60426882e-02,  1.03513954e+00,  1.54168436e+00,  4.94782730e-01,\n",
       "       -1.14600062e+00,  1.34023891e+00, -2.50600581e-02,  1.24780034e+00,\n",
       "        3.00257291e-01,  1.07107163e+00,  6.08851676e-01,  2.17521964e+00,\n",
       "        5.67026150e-01,  2.15683376e+00, -1.05785752e+00,  6.02733383e-01,\n",
       "       -1.09385824e+00, -1.68965635e-01, -1.30158044e+00, -1.68965635e-01,\n",
       "       -9.94733276e-01, -1.50127135e+00, -1.50127135e+00, -2.89165115e-01,\n",
       "       -2.89165115e-01,  2.95729461e+00,  1.52052515e+00, -1.62011889e-01,\n",
       "        1.86425643e+00,  1.59380435e+00,  9.24149057e-01,  8.55497436e-01,\n",
       "        9.61568098e-01, -6.32506066e-01,  2.53353290e+00,  2.02123383e+00,\n",
       "        4.95497497e-01,  1.83010284e+00,  2.00658924e+00,  1.26504983e+00,\n",
       "        2.15879496e-01,  1.25506816e+00,  1.35557677e+00])"
      ]
     },
     "execution_count": 127,
     "metadata": {},
     "output_type": "execute_result"
    }
   ],
   "source": [
    "d_func"
   ]
  },
  {
   "cell_type": "code",
   "execution_count": 126,
   "metadata": {},
   "outputs": [
    {
     "data": {
      "text/plain": [
       "array([ 5.87747267e+00,  4.87747267e+00,  3.45813120e+00,  3.36126575e+00,\n",
       "        3.02111756e+00,  3.00536838e+00,  2.94647579e+00,  2.91318046e+00,\n",
       "        2.85650362e+00,  2.85146663e+00,  2.57657957e+00,  2.56677383e+00,\n",
       "        2.38813535e+00,  2.38077524e+00,  2.28719867e+00,  2.27946668e+00,\n",
       "        2.17777039e+00,  2.17607250e+00,  2.17521964e+00,  2.16566552e+00,\n",
       "        2.10426275e+00,  2.08786530e+00,  2.06872656e+00,  2.06316025e+00,\n",
       "        1.89960987e+00,  1.89612701e+00,  1.88585146e+00,  1.86779035e+00,\n",
       "        1.83010284e+00,  1.82763853e+00,  1.81360735e+00,  1.66614032e+00,\n",
       "        1.64980523e+00,  1.61776422e+00,  1.61704754e+00,  1.59006796e+00,\n",
       "        1.58890572e+00,  1.53254790e+00,  1.52830690e+00,  1.52052515e+00,\n",
       "        1.48514573e+00,  1.48072706e+00,  1.47420350e+00,  1.45171309e+00,\n",
       "        1.44229276e+00,  1.41381959e+00,  1.39999975e+00,  1.38221407e+00,\n",
       "        1.38205008e+00,  1.38146824e+00,  1.37323865e+00,  1.36008105e+00,\n",
       "        1.36007796e+00,  1.35557677e+00,  1.35071500e+00,  1.29256026e+00,\n",
       "        1.29101333e+00,  1.27777308e+00,  1.27398378e+00,  1.26527957e+00,\n",
       "        1.24902964e+00,  1.24780034e+00,  1.22707296e+00,  1.21943283e+00,\n",
       "        1.18805752e+00,  1.18060970e+00,  1.17982405e+00,  1.15899657e+00,\n",
       "        1.15874996e+00,  1.14528284e+00,  1.14161267e+00,  1.13280467e+00,\n",
       "        1.12750974e+00,  1.11736063e+00,  1.11379933e+00,  1.09540887e+00,\n",
       "        1.09374697e+00,  1.05576174e+00,  1.04502200e+00,  1.02231590e+00,\n",
       "        1.01390718e+00,  9.86272353e-01,  9.78823588e-01,  9.72225510e-01,\n",
       "        9.66154414e-01,  9.61568098e-01,  9.59116847e-01,  9.29598180e-01,\n",
       "        8.80305117e-01,  8.80142801e-01,  8.74831300e-01,  8.55497436e-01,\n",
       "        8.48447606e-01,  8.42889742e-01,  8.17035965e-01,  8.16664062e-01,\n",
       "        8.08754485e-01,  7.94180283e-01,  7.85824813e-01,  7.84203001e-01,\n",
       "        7.77721107e-01,  7.36920641e-01,  7.34297168e-01,  7.12310074e-01,\n",
       "        7.11137751e-01,  7.09726460e-01,  7.03503233e-01,  7.00267098e-01,\n",
       "        6.98695709e-01,  6.93933467e-01,  6.85407410e-01,  6.82029984e-01,\n",
       "        6.76963953e-01,  6.46221043e-01,  6.29793739e-01,  6.25643466e-01,\n",
       "        6.24630612e-01,  6.22022692e-01,  6.17046160e-01,  6.02733383e-01,\n",
       "        5.93718023e-01,  5.81916112e-01,  5.72162140e-01,  5.67026150e-01,\n",
       "        5.63106381e-01,  5.58295149e-01,  5.57172306e-01,  5.48497723e-01,\n",
       "        5.31275750e-01,  5.16273815e-01,  5.11980705e-01,  5.09196681e-01,\n",
       "        5.09132276e-01,  4.97642374e-01,  4.94782730e-01,  4.72806546e-01,\n",
       "        4.72470181e-01,  4.58911618e-01,  4.58564912e-01,  4.54406807e-01,\n",
       "        4.28382670e-01,  4.27681283e-01,  4.24171145e-01,  4.14514282e-01,\n",
       "        4.12316562e-01,  4.03666518e-01,  3.99668131e-01,  3.99190116e-01,\n",
       "        3.97883851e-01,  3.88370243e-01,  3.83557176e-01,  3.75447910e-01,\n",
       "        3.73347813e-01,  3.70408100e-01,  3.69142318e-01,  3.58840781e-01,\n",
       "        3.35233629e-01,  3.19228335e-01,  3.17151405e-01,  3.15743179e-01,\n",
       "        3.10680430e-01,  3.10242070e-01,  3.02164615e-01,  3.00257291e-01,\n",
       "        2.99731008e-01,  2.81342452e-01,  2.80848786e-01,  2.74093544e-01,\n",
       "        2.52824138e-01,  2.52061665e-01,  2.43545081e-01,  2.28668203e-01,\n",
       "        2.24163657e-01,  2.16972191e-01,  2.15879496e-01,  1.84406702e-01,\n",
       "        1.82343795e-01,  1.78296598e-01,  1.71781705e-01,  1.60728188e-01,\n",
       "        1.51570836e-01,  1.41589801e-01,  1.37814423e-01,  1.21950966e-01,\n",
       "        1.21437049e-01,  1.18214626e-01,  1.16514286e-01,  1.08191552e-01,\n",
       "        1.03497161e-01,  9.56584807e-02,  9.45548319e-02,  9.27196260e-02,\n",
       "        9.02071178e-02,  8.38728632e-02,  6.24992742e-02,  6.00714430e-02,\n",
       "        5.61696423e-02,  5.43226000e-02,  3.65580536e-02,  1.19291279e-03,\n",
       "       -2.27736521e-03, -2.07092357e-02, -2.29759946e-02, -2.44137579e-02,\n",
       "       -2.90771823e-02, -4.02865877e-02, -4.88104956e-02, -7.10253930e-02,\n",
       "       -9.06410733e-02, -9.07050327e-02, -1.02651148e-01, -1.14055177e-01,\n",
       "       -1.24750595e-01, -1.28749465e-01, -1.28968368e-01, -1.30514377e-01,\n",
       "       -1.36589481e-01, -1.57610800e-01, -1.65824154e-01, -1.67503806e-01,\n",
       "       -1.68965635e-01, -1.82544801e-01, -1.83971826e-01, -2.07383020e-01,\n",
       "       -2.16492013e-01, -2.29312303e-01, -2.42791492e-01, -2.42833517e-01,\n",
       "       -2.56675240e-01, -2.63075367e-01, -2.67357471e-01, -2.68109505e-01,\n",
       "       -2.70006901e-01, -2.75219957e-01, -2.82858124e-01, -2.85111334e-01,\n",
       "       -2.88254369e-01, -2.89165115e-01, -2.94980866e-01, -3.00046892e-01,\n",
       "       -3.07648049e-01, -3.16924930e-01, -3.17596976e-01, -3.20527163e-01,\n",
       "       -3.24204464e-01, -3.25945396e-01, -3.28951346e-01, -3.40829097e-01,\n",
       "       -3.49055329e-01, -3.54293824e-01, -4.09893972e-01, -4.13021631e-01,\n",
       "       -4.24127707e-01, -4.52215332e-01, -4.57917806e-01, -4.72158873e-01,\n",
       "       -4.83105854e-01, -4.89823486e-01, -4.94064602e-01, -5.00869984e-01,\n",
       "       -5.03459225e-01, -5.15943913e-01, -5.16038934e-01, -5.19222865e-01,\n",
       "       -5.27924673e-01, -5.28653322e-01, -5.32456481e-01, -5.33338912e-01,\n",
       "       -5.35757363e-01, -5.36774407e-01, -5.39426356e-01, -5.41232187e-01,\n",
       "       -5.44606555e-01, -5.46340903e-01, -5.85823502e-01, -5.93743856e-01,\n",
       "       -5.97261048e-01, -5.97979030e-01, -5.99511998e-01, -6.04753853e-01,\n",
       "       -6.12955717e-01, -6.20741617e-01, -6.32021090e-01, -6.32619962e-01,\n",
       "       -6.49768238e-01, -6.83487146e-01, -6.83682583e-01, -6.84341911e-01,\n",
       "       -6.84537046e-01, -6.92992395e-01, -6.98243752e-01, -7.12791302e-01,\n",
       "       -7.15006810e-01, -7.15784528e-01, -7.22642524e-01, -7.47295108e-01,\n",
       "       -7.54547722e-01, -7.66051705e-01, -7.74195858e-01, -7.78304399e-01,\n",
       "       -7.91677515e-01, -7.96741995e-01, -8.14941896e-01, -8.18387833e-01,\n",
       "       -8.20145762e-01, -8.27354215e-01, -8.36199331e-01, -8.36552512e-01,\n",
       "       -8.42312946e-01, -8.71134291e-01, -8.71215378e-01, -8.84247214e-01,\n",
       "       -8.91380377e-01, -8.93440003e-01, -8.96934022e-01, -9.05125508e-01,\n",
       "       -9.06964682e-01, -9.33200212e-01, -9.40313501e-01, -9.60277508e-01,\n",
       "       -9.61828314e-01, -9.69853870e-01, -9.71477412e-01, -1.01618507e+00,\n",
       "       -1.02237223e+00, -1.04350593e+00, -1.04653104e+00, -1.05785752e+00,\n",
       "       -1.05962180e+00, -1.10553754e+00, -1.10602295e+00, -1.12188288e+00,\n",
       "       -1.13706465e+00, -1.14600062e+00, -1.14882634e+00, -1.20687611e+00,\n",
       "       -1.21763399e+00, -1.23047117e+00, -1.23750480e+00, -1.25081651e+00,\n",
       "       -1.25138024e+00, -1.25913428e+00, -1.25973931e+00, -1.27206937e+00,\n",
       "       -1.27780988e+00, -1.28092866e+00, -1.29163834e+00, -1.30158044e+00,\n",
       "       -1.30325243e+00, -1.30828770e+00, -1.31000098e+00, -1.31208789e+00,\n",
       "       -1.31654644e+00, -1.31692642e+00, -1.31711181e+00, -1.34362341e+00,\n",
       "       -1.34750925e+00, -1.34797376e+00, -1.34946935e+00, -1.35491821e+00,\n",
       "       -1.38070244e+00, -1.38305931e+00, -1.38330401e+00, -1.38925880e+00,\n",
       "       -1.41411408e+00, -1.42547065e+00, -1.49415644e+00, -1.50127135e+00,\n",
       "       -1.51297699e+00, -1.52732455e+00, -1.53338627e+00, -1.54928045e+00,\n",
       "       -1.58800272e+00, -1.59120499e+00, -1.65079517e+00, -1.65381588e+00,\n",
       "       -1.66682079e+00, -1.67970017e+00, -1.70578952e+00, -1.70920990e+00,\n",
       "       -1.73952267e+00, -1.74328378e+00, -1.74534704e+00, -1.75453685e+00,\n",
       "       -1.81892053e+00, -1.82336623e+00, -1.83327754e+00, -1.85122615e+00,\n",
       "       -1.87157581e+00, -1.88040227e+00, -1.88181512e+00, -1.89974805e+00,\n",
       "       -1.90738923e+00, -1.92464519e+00, -1.93022051e+00, -1.94289177e+00,\n",
       "       -2.01075038e+00, -2.02709814e+00, -2.15046012e+00, -2.16523643e+00,\n",
       "       -2.47575423e+00, -2.53540213e+00, -3.45886357e+00])"
      ]
     },
     "execution_count": 126,
     "metadata": {},
     "output_type": "execute_result"
    }
   ],
   "source": [
    "thresholds"
   ]
  },
  {
   "cell_type": "code",
   "execution_count": 120,
   "metadata": {},
   "outputs": [
    {
     "data": {
      "text/plain": [
       "0.8206203882043569"
      ]
     },
     "execution_count": 120,
     "metadata": {},
     "output_type": "execute_result"
    }
   ],
   "source": [
    "\n",
    "## AUC\n",
    "auc(fpr,tpr)"
   ]
  },
  {
   "cell_type": "markdown",
   "metadata": {},
   "source": [
    "#### 변수중요도"
   ]
  },
  {
   "cell_type": "code",
   "execution_count": 121,
   "metadata": {},
   "outputs": [],
   "source": [
    "from statsmodels.api import OLS"
   ]
  },
  {
   "cell_type": "code",
   "execution_count": 125,
   "metadata": {},
   "outputs": [
    {
     "data": {
      "text/html": [
       "<table class=\"simpletable\">\n",
       "<caption>OLS Regression Results</caption>\n",
       "<tr>\n",
       "  <th>Dep. Variable:</th>            <td>y</td>        <th>  R-squared (uncentered):</th>      <td>   0.668</td> \n",
       "</tr>\n",
       "<tr>\n",
       "  <th>Model:</th>                   <td>OLS</td>       <th>  Adj. R-squared (uncentered):</th> <td>   0.664</td> \n",
       "</tr>\n",
       "<tr>\n",
       "  <th>Method:</th>             <td>Least Squares</td>  <th>  F-statistic:       </th>          <td>   172.4</td> \n",
       "</tr>\n",
       "<tr>\n",
       "  <th>Date:</th>             <td>Thu, 06 Aug 2020</td> <th>  Prob (F-statistic):</th>          <td>5.12e-217</td>\n",
       "</tr>\n",
       "<tr>\n",
       "  <th>Time:</th>                 <td>14:46:21</td>     <th>  Log-Likelihood:    </th>          <td> -521.95</td> \n",
       "</tr>\n",
       "<tr>\n",
       "  <th>No. Observations:</th>      <td>   955</td>      <th>  AIC:               </th>          <td>   1066.</td> \n",
       "</tr>\n",
       "<tr>\n",
       "  <th>Df Residuals:</th>          <td>   944</td>      <th>  BIC:               </th>          <td>   1119.</td> \n",
       "</tr>\n",
       "<tr>\n",
       "  <th>Df Model:</th>              <td>    11</td>      <th>                     </th>              <td> </td>    \n",
       "</tr>\n",
       "<tr>\n",
       "  <th>Covariance Type:</th>      <td>nonrobust</td>    <th>                     </th>              <td> </td>    \n",
       "</tr>\n",
       "</table>\n",
       "<table class=\"simpletable\">\n",
       "<tr>\n",
       "   <td></td>      <th>coef</th>     <th>std err</th>      <th>t</th>      <th>P>|t|</th>  <th>[0.025</th>    <th>0.975]</th>  \n",
       "</tr>\n",
       "<tr>\n",
       "  <th>x1</th>  <td>    0.0080</td> <td>    0.014</td> <td>    0.571</td> <td> 0.568</td> <td>   -0.019</td> <td>    0.035</td>\n",
       "</tr>\n",
       "<tr>\n",
       "  <th>x2</th>  <td>   -0.5694</td> <td>    0.106</td> <td>   -5.363</td> <td> 0.000</td> <td>   -0.778</td> <td>   -0.361</td>\n",
       "</tr>\n",
       "<tr>\n",
       "  <th>x3</th>  <td>   -0.0941</td> <td>    0.126</td> <td>   -0.750</td> <td> 0.454</td> <td>   -0.340</td> <td>    0.152</td>\n",
       "</tr>\n",
       "<tr>\n",
       "  <th>x4</th>  <td>    0.0016</td> <td>    0.010</td> <td>    0.154</td> <td> 0.877</td> <td>   -0.018</td> <td>    0.022</td>\n",
       "</tr>\n",
       "<tr>\n",
       "  <th>x5</th>  <td>   -0.6551</td> <td>    0.346</td> <td>   -1.894</td> <td> 0.059</td> <td>   -1.334</td> <td>    0.024</td>\n",
       "</tr>\n",
       "<tr>\n",
       "  <th>x6</th>  <td>    0.0036</td> <td>    0.002</td> <td>    1.941</td> <td> 0.053</td> <td>-4.06e-05</td> <td>    0.007</td>\n",
       "</tr>\n",
       "<tr>\n",
       "  <th>x7</th>  <td>   -0.0027</td> <td>    0.001</td> <td>   -4.572</td> <td> 0.000</td> <td>   -0.004</td> <td>   -0.002</td>\n",
       "</tr>\n",
       "<tr>\n",
       "  <th>x8</th>  <td>   -0.7029</td> <td>    0.522</td> <td>   -1.346</td> <td> 0.179</td> <td>   -1.728</td> <td>    0.322</td>\n",
       "</tr>\n",
       "<tr>\n",
       "  <th>x9</th>  <td>   -0.1283</td> <td>    0.133</td> <td>   -0.965</td> <td> 0.335</td> <td>   -0.389</td> <td>    0.133</td>\n",
       "</tr>\n",
       "<tr>\n",
       "  <th>x10</th> <td>    0.5204</td> <td>    0.094</td> <td>    5.516</td> <td> 0.000</td> <td>    0.335</td> <td>    0.706</td>\n",
       "</tr>\n",
       "<tr>\n",
       "  <th>x11</th> <td>    0.1625</td> <td>    0.014</td> <td>   11.421</td> <td> 0.000</td> <td>    0.135</td> <td>    0.190</td>\n",
       "</tr>\n",
       "</table>\n",
       "<table class=\"simpletable\">\n",
       "<tr>\n",
       "  <th>Omnibus:</th>       <td>79.363</td> <th>  Durbin-Watson:     </th> <td>   1.809</td>\n",
       "</tr>\n",
       "<tr>\n",
       "  <th>Prob(Omnibus):</th> <td> 0.000</td> <th>  Jarque-Bera (JB):  </th> <td>  26.124</td>\n",
       "</tr>\n",
       "<tr>\n",
       "  <th>Skew:</th>          <td> 0.048</td> <th>  Prob(JB):          </th> <td>2.12e-06</td>\n",
       "</tr>\n",
       "<tr>\n",
       "  <th>Kurtosis:</th>      <td> 2.195</td> <th>  Cond. No.          </th> <td>2.50e+03</td>\n",
       "</tr>\n",
       "</table><br/><br/>Warnings:<br/>[1] Standard Errors assume that the covariance matrix of the errors is correctly specified.<br/>[2] The condition number is large, 2.5e+03. This might indicate that there are<br/>strong multicollinearity or other numerical problems."
      ],
      "text/plain": [
       "<class 'statsmodels.iolib.summary.Summary'>\n",
       "\"\"\"\n",
       "                                 OLS Regression Results                                \n",
       "=======================================================================================\n",
       "Dep. Variable:                      y   R-squared (uncentered):                   0.668\n",
       "Model:                            OLS   Adj. R-squared (uncentered):              0.664\n",
       "Method:                 Least Squares   F-statistic:                              172.4\n",
       "Date:                Thu, 06 Aug 2020   Prob (F-statistic):                   5.12e-217\n",
       "Time:                        14:46:21   Log-Likelihood:                         -521.95\n",
       "No. Observations:                 955   AIC:                                      1066.\n",
       "Df Residuals:                     944   BIC:                                      1119.\n",
       "Df Model:                          11                                                  \n",
       "Covariance Type:            nonrobust                                                  \n",
       "==============================================================================\n",
       "                 coef    std err          t      P>|t|      [0.025      0.975]\n",
       "------------------------------------------------------------------------------\n",
       "x1             0.0080      0.014      0.571      0.568      -0.019       0.035\n",
       "x2            -0.5694      0.106     -5.363      0.000      -0.778      -0.361\n",
       "x3            -0.0941      0.126     -0.750      0.454      -0.340       0.152\n",
       "x4             0.0016      0.010      0.154      0.877      -0.018       0.022\n",
       "x5            -0.6551      0.346     -1.894      0.059      -1.334       0.024\n",
       "x6             0.0036      0.002      1.941      0.053   -4.06e-05       0.007\n",
       "x7            -0.0027      0.001     -4.572      0.000      -0.004      -0.002\n",
       "x8            -0.7029      0.522     -1.346      0.179      -1.728       0.322\n",
       "x9            -0.1283      0.133     -0.965      0.335      -0.389       0.133\n",
       "x10            0.5204      0.094      5.516      0.000       0.335       0.706\n",
       "x11            0.1625      0.014     11.421      0.000       0.135       0.190\n",
       "==============================================================================\n",
       "Omnibus:                       79.363   Durbin-Watson:                   1.809\n",
       "Prob(Omnibus):                  0.000   Jarque-Bera (JB):               26.124\n",
       "Skew:                           0.048   Prob(JB):                     2.12e-06\n",
       "Kurtosis:                       2.195   Cond. No.                     2.50e+03\n",
       "==============================================================================\n",
       "\n",
       "Warnings:\n",
       "[1] Standard Errors assume that the covariance matrix of the errors is correctly specified.\n",
       "[2] The condition number is large, 2.5e+03. This might indicate that there are\n",
       "strong multicollinearity or other numerical problems.\n",
       "\"\"\""
      ]
     },
     "execution_count": 125,
     "metadata": {},
     "output_type": "execute_result"
    }
   ],
   "source": [
    "## 유의확률 (p-value) 확인 \n",
    "# p-value : 0.05 기준 이하면 유의\n",
    "\n",
    "y_arr = y_test_fac\n",
    "x_arr = x_test.to_numpy()\n",
    "OLS(y_arr,x_arr).fit().summary()"
   ]
  },
  {
   "cell_type": "markdown",
   "metadata": {},
   "source": [
    "### 4-2. 결정트리"
   ]
  },
  {
   "cell_type": "code",
   "execution_count": 129,
   "metadata": {},
   "outputs": [
    {
     "data": {
      "text/html": [
       "<div>\n",
       "<style scoped>\n",
       "    .dataframe tbody tr th:only-of-type {\n",
       "        vertical-align: middle;\n",
       "    }\n",
       "\n",
       "    .dataframe tbody tr th {\n",
       "        vertical-align: top;\n",
       "    }\n",
       "\n",
       "    .dataframe thead th {\n",
       "        text-align: right;\n",
       "    }\n",
       "</style>\n",
       "<table border=\"1\" class=\"dataframe\">\n",
       "  <thead>\n",
       "    <tr style=\"text-align: right;\">\n",
       "      <th></th>\n",
       "      <th>fixed.acidity</th>\n",
       "      <th>volatile.acidity</th>\n",
       "      <th>citric.acid</th>\n",
       "      <th>residual.sugar</th>\n",
       "      <th>chlorides</th>\n",
       "      <th>free.sulfur.dioxide</th>\n",
       "      <th>total.sulfur.dioxide</th>\n",
       "      <th>density</th>\n",
       "      <th>pH</th>\n",
       "      <th>sulphates</th>\n",
       "      <th>alcohol</th>\n",
       "      <th>quality</th>\n",
       "    </tr>\n",
       "  </thead>\n",
       "  <tbody>\n",
       "    <tr>\n",
       "      <th>0</th>\n",
       "      <td>7.4</td>\n",
       "      <td>0.700</td>\n",
       "      <td>0.00</td>\n",
       "      <td>1.9</td>\n",
       "      <td>0.076</td>\n",
       "      <td>11</td>\n",
       "      <td>34.0</td>\n",
       "      <td>0.9978</td>\n",
       "      <td>3.51</td>\n",
       "      <td>0.56</td>\n",
       "      <td>9.4</td>\n",
       "      <td>Bad</td>\n",
       "    </tr>\n",
       "    <tr>\n",
       "      <th>1</th>\n",
       "      <td>5.6</td>\n",
       "      <td>0.615</td>\n",
       "      <td>0.00</td>\n",
       "      <td>1.6</td>\n",
       "      <td>0.089</td>\n",
       "      <td>16</td>\n",
       "      <td>59.0</td>\n",
       "      <td>0.9943</td>\n",
       "      <td>3.58</td>\n",
       "      <td>0.52</td>\n",
       "      <td>9.9</td>\n",
       "      <td>Bad</td>\n",
       "    </tr>\n",
       "    <tr>\n",
       "      <th>2</th>\n",
       "      <td>7.8</td>\n",
       "      <td>0.610</td>\n",
       "      <td>0.29</td>\n",
       "      <td>1.6</td>\n",
       "      <td>0.114</td>\n",
       "      <td>9</td>\n",
       "      <td>29.0</td>\n",
       "      <td>0.9974</td>\n",
       "      <td>3.26</td>\n",
       "      <td>1.56</td>\n",
       "      <td>9.1</td>\n",
       "      <td>Bad</td>\n",
       "    </tr>\n",
       "    <tr>\n",
       "      <th>3</th>\n",
       "      <td>8.1</td>\n",
       "      <td>0.560</td>\n",
       "      <td>0.28</td>\n",
       "      <td>1.7</td>\n",
       "      <td>0.368</td>\n",
       "      <td>16</td>\n",
       "      <td>56.0</td>\n",
       "      <td>0.9968</td>\n",
       "      <td>3.11</td>\n",
       "      <td>1.28</td>\n",
       "      <td>9.3</td>\n",
       "      <td>Bad</td>\n",
       "    </tr>\n",
       "    <tr>\n",
       "      <th>4</th>\n",
       "      <td>7.4</td>\n",
       "      <td>0.590</td>\n",
       "      <td>0.08</td>\n",
       "      <td>4.4</td>\n",
       "      <td>0.086</td>\n",
       "      <td>6</td>\n",
       "      <td>29.0</td>\n",
       "      <td>0.9974</td>\n",
       "      <td>3.38</td>\n",
       "      <td>0.50</td>\n",
       "      <td>9.0</td>\n",
       "      <td>Bad</td>\n",
       "    </tr>\n",
       "  </tbody>\n",
       "</table>\n",
       "</div>"
      ],
      "text/plain": [
       "   fixed.acidity  volatile.acidity  citric.acid  residual.sugar  chlorides  \\\n",
       "0            7.4             0.700         0.00             1.9      0.076   \n",
       "1            5.6             0.615         0.00             1.6      0.089   \n",
       "2            7.8             0.610         0.29             1.6      0.114   \n",
       "3            8.1             0.560         0.28             1.7      0.368   \n",
       "4            7.4             0.590         0.08             4.4      0.086   \n",
       "\n",
       "   free.sulfur.dioxide  total.sulfur.dioxide  density    pH  sulphates  \\\n",
       "0                   11                  34.0   0.9978  3.51       0.56   \n",
       "1                   16                  59.0   0.9943  3.58       0.52   \n",
       "2                    9                  29.0   0.9974  3.26       1.56   \n",
       "3                   16                  56.0   0.9968  3.11       1.28   \n",
       "4                    6                  29.0   0.9974  3.38       0.50   \n",
       "\n",
       "   alcohol quality  \n",
       "0      9.4     Bad  \n",
       "1      9.9     Bad  \n",
       "2      9.1     Bad  \n",
       "3      9.3     Bad  \n",
       "4      9.0     Bad  "
      ]
     },
     "execution_count": 129,
     "metadata": {},
     "output_type": "execute_result"
    }
   ],
   "source": [
    "data_test.head()"
   ]
  },
  {
   "cell_type": "code",
   "execution_count": 131,
   "metadata": {},
   "outputs": [],
   "source": [
    "from sklearn import tree\n",
    "import matplotlib.pyplot as plt"
   ]
  },
  {
   "cell_type": "markdown",
   "metadata": {},
   "source": [
    "#### 모형적합\n"
   ]
  },
  {
   "cell_type": "code",
   "execution_count": 132,
   "metadata": {},
   "outputs": [],
   "source": [
    "dtree = tree.DecisionTreeClassifier(max_depth=3, min_samples_leaf = 50) \n",
    "# 최대 깊이 3, 샘플이 최소 얼마여야 잎노드를 만들거냐 50\n",
    "\n",
    "fit_dtree = dtree.fit(x_train, y_train)"
   ]
  },
  {
   "cell_type": "code",
   "execution_count": 135,
   "metadata": {},
   "outputs": [
    {
     "data": {
      "image/png": "[encoded data removed]",
      "text/plain": [
       "<Figure size 1440x720 with 1 Axes>"
      ]
     },
     "metadata": {
      "needs_background": "light"
     },
     "output_type": "display_data"
    }
   ],
   "source": [
    "## 출력 변수 범주화\n",
    "\n",
    "y_test_fac, y_test_levels = pd.factorize(y_test)\n",
    "\n",
    "# 모형확인 \n",
    "plt.figure(figsize=(20,10))\n",
    "tree_plot = tree.plot_tree(fit_dtree, filled = True, feature_names = x_test.columns, class_names = y_test_levels)"
   ]
  },
  {
   "cell_type": "markdown",
   "metadata": {},
   "source": [
    "#### 정오 분류표"
   ]
  },
  {
   "cell_type": "code",
   "execution_count": 137,
   "metadata": {},
   "outputs": [
    {
     "data": {
      "text/html": [
       "<div>\n",
       "<style scoped>\n",
       "    .dataframe tbody tr th:only-of-type {\n",
       "        vertical-align: middle;\n",
       "    }\n",
       "\n",
       "    .dataframe tbody tr th {\n",
       "        vertical-align: top;\n",
       "    }\n",
       "\n",
       "    .dataframe thead th {\n",
       "        text-align: right;\n",
       "    }\n",
       "</style>\n",
       "<table border=\"1\" class=\"dataframe\">\n",
       "  <thead>\n",
       "    <tr style=\"text-align: right;\">\n",
       "      <th>col_0</th>\n",
       "      <th>Bad</th>\n",
       "      <th>Good</th>\n",
       "    </tr>\n",
       "    <tr>\n",
       "      <th>quality</th>\n",
       "      <th></th>\n",
       "      <th></th>\n",
       "    </tr>\n",
       "  </thead>\n",
       "  <tbody>\n",
       "    <tr>\n",
       "      <th>Bad</th>\n",
       "      <td>334</td>\n",
       "      <td>119</td>\n",
       "    </tr>\n",
       "    <tr>\n",
       "      <th>Good</th>\n",
       "      <td>117</td>\n",
       "      <td>385</td>\n",
       "    </tr>\n",
       "  </tbody>\n",
       "</table>\n",
       "</div>"
      ],
      "text/plain": [
       "col_0    Bad  Good\n",
       "quality           \n",
       "Bad      334   119\n",
       "Good     117   385"
      ]
     },
     "execution_count": 137,
     "metadata": {},
     "output_type": "execute_result"
    }
   ],
   "source": [
    "## 검정자료 예측 \n",
    "pred_dtree = fit_dtree.predict(x_test)\n",
    "## 정오분류표\n",
    "pd.crosstab(y_test, pred_dtree)"
   ]
  },
  {
   "cell_type": "code",
   "execution_count": 140,
   "metadata": {},
   "outputs": [
    {
     "name": "stdout",
     "output_type": "stream",
     "text": [
      "              precision    recall  f1-score   support\n",
      "\n",
      "         Bad       0.74      0.74      0.74       453\n",
      "        Good       0.76      0.77      0.77       502\n",
      "\n",
      "    accuracy                           0.75       955\n",
      "   macro avg       0.75      0.75      0.75       955\n",
      "weighted avg       0.75      0.75      0.75       955\n",
      "\n"
     ]
    }
   ],
   "source": [
    "### confusion Matrix and \n",
    "from sklearn.metrics import classification_report\n",
    "print(classification_report(y_test,pred_dtree))"
   ]
  },
  {
   "cell_type": "code",
   "execution_count": 141,
   "metadata": {},
   "outputs": [
    {
     "data": {
      "text/plain": [
       "array([[0.91919192, 0.08080808],\n",
       "       [0.7654321 , 0.2345679 ],\n",
       "       [0.7654321 , 0.2345679 ],\n",
       "       ...,\n",
       "       [0.609375  , 0.390625  ],\n",
       "       [0.14527027, 0.85472973],\n",
       "       [0.14527027, 0.85472973]])"
      ]
     },
     "execution_count": 141,
     "metadata": {},
     "output_type": "execute_result"
    }
   ],
   "source": [
    "## ROC AUC\n",
    "\n",
    "fit_dtree.predict_proba(x_test)"
   ]
  },
  {
   "cell_type": "code",
   "execution_count": 142,
   "metadata": {},
   "outputs": [
    {
     "data": {
      "text/plain": [
       "array([[0.91919192, 0.08080808],\n",
       "       [0.7654321 , 0.2345679 ],\n",
       "       [0.7654321 , 0.2345679 ],\n",
       "       ...,\n",
       "       [0.609375  , 0.390625  ],\n",
       "       [0.14527027, 0.85472973],\n",
       "       [0.14527027, 0.85472973]])"
      ]
     },
     "execution_count": 142,
     "metadata": {},
     "output_type": "execute_result"
    }
   ],
   "source": [
    "###예측확률\n",
    "fit_dtree.predict_proba(x_test)"
   ]
  },
  {
   "cell_type": "code",
   "execution_count": 143,
   "metadata": {},
   "outputs": [
    {
     "data": {
      "text/plain": [
       "array([[0.91919192, 0.08080808],\n",
       "       [0.7654321 , 0.2345679 ],\n",
       "       [0.7654321 , 0.2345679 ],\n",
       "       ...,\n",
       "       [0.609375  , 0.390625  ],\n",
       "       [0.14527027, 0.85472973],\n",
       "       [0.14527027, 0.85472973]])"
      ]
     },
     "execution_count": 143,
     "metadata": {},
     "output_type": "execute_result"
    }
   ],
   "source": [
    "fit_dtree.predict_proba(x_test)"
   ]
  },
  {
   "cell_type": "code",
   "execution_count": 144,
   "metadata": {},
   "outputs": [
    {
     "data": {
      "image/png": "[encoded data removed]",
      "text/plain": [
       "<Figure size 432x288 with 1 Axes>"
      ]
     },
     "metadata": {
      "needs_background": "light"
     },
     "output_type": "display_data"
    }
   ],
   "source": [
    "### roc \n",
    "d_func = fit_dtree.predict_proba(x_test)[:,1]\n",
    "fpr, tpr, thresholds = roc_curve(y_test_fac,d_func)\n",
    "\n",
    "plt.plot(fpr,tpr,'o-')\n",
    "plt.plot([0,1],[0,1],'k--')\n",
    "plt.show()"
   ]
  },
  {
   "cell_type": "code",
   "execution_count": 145,
   "metadata": {},
   "outputs": [
    {
     "data": {
      "text/plain": [
       "0.8138065838192484"
      ]
     },
     "execution_count": 145,
     "metadata": {},
     "output_type": "execute_result"
    }
   ],
   "source": [
    "# auc\n",
    "auc(fpr,tpr)"
   ]
  },
  {
   "cell_type": "markdown",
   "metadata": {},
   "source": [
    "#### 변수중요도"
   ]
  },
  {
   "cell_type": "code",
   "execution_count": 176,
   "metadata": {},
   "outputs": [
    {
     "data": {
      "image/png": "[encoded data removed]",
      "text/plain": [
       "<Figure size 432x288 with 1 Axes>"
      ]
     },
     "metadata": {
      "needs_background": "light"
     },
     "output_type": "display_data"
    }
   ],
   "source": [
    "importances = fit_dtree.feature_importances_\n",
    "idx = x_train.columns\n",
    "\n",
    "plt.barh(idx,importances)\n",
    "plt.show()"
   ]
  },
  {
   "cell_type": "markdown",
   "metadata": {},
   "source": [
    "### 4-3. SVM"
   ]
  },
  {
   "cell_type": "markdown",
   "metadata": {},
   "source": [
    "    *R에서는 Scale 해주지만, Python scykit learn 은 Scale 안해줌"
   ]
  },
  {
   "cell_type": "markdown",
   "metadata": {},
   "source": [
    "출력변수도 scale 변환을 하면 나중에 실제값을 알려고 할때 다시 변환 해줘야함\n",
    "그래서 출력변수 y는 변환 하지 않음"
   ]
  },
  {
   "cell_type": "code",
   "execution_count": 147,
   "metadata": {},
   "outputs": [],
   "source": [
    "from sklearn.svm import SVC"
   ]
  },
  {
   "cell_type": "code",
   "execution_count": 172,
   "metadata": {},
   "outputs": [],
   "source": [
    "data_file = easygui.fileopenbox(\"Training data\")\n",
    "data_train = pd.read_csv(data_file)"
   ]
  },
  {
   "cell_type": "code",
   "execution_count": 173,
   "metadata": {},
   "outputs": [],
   "source": [
    "data_file = easygui.fileopenbox(\"Test data\")\n",
    "data_test = pd.read_csv(data_file)"
   ]
  },
  {
   "cell_type": "code",
   "execution_count": 201,
   "metadata": {},
   "outputs": [],
   "source": [
    "x_train = data_train.iloc[:,0:11]\n",
    "y_train = data_train.quality\n",
    "\n",
    "x_test = data_test.iloc[:,0:11]\n",
    "y_test = data_test.quality\n",
    "\n"
   ]
  },
  {
   "cell_type": "code",
   "execution_count": 175,
   "metadata": {},
   "outputs": [],
   "source": [
    "x_train_columns = x_train.columns"
   ]
  },
  {
   "cell_type": "markdown",
   "metadata": {},
   "source": [
    "\n",
    "#### 스케일 조정\n"
   ]
  },
  {
   "cell_type": "code",
   "execution_count": 178,
   "metadata": {},
   "outputs": [],
   "source": [
    "## 표준화 변환\n",
    "#  반드시 x_train 기준으로 x_test도 스케일 조정 : \n",
    "scaler = StandardScaler()\n",
    "scaler.fit(x_train)\n",
    "x_train = scaler.transform(x_train)\n",
    "x_test = scaler.transform(x_test)"
   ]
  },
  {
   "cell_type": "markdown",
   "metadata": {},
   "source": [
    "#### 모형적합\n"
   ]
  },
  {
   "cell_type": "code",
   "execution_count": 179,
   "metadata": {},
   "outputs": [],
   "source": [
    "svc = SVC(kernel= 'rbf',gamma='auto',C=1)\n",
    "fit_svc = svc.fit(x_train, y_train)"
   ]
  },
  {
   "cell_type": "markdown",
   "metadata": {},
   "source": [
    "#### 정오분류표"
   ]
  },
  {
   "cell_type": "code",
   "execution_count": 180,
   "metadata": {},
   "outputs": [],
   "source": [
    "### 검정자료 예측\n",
    "pred_svc = fit_svc.predict(x_test)"
   ]
  },
  {
   "cell_type": "code",
   "execution_count": 181,
   "metadata": {},
   "outputs": [
    {
     "data": {
      "text/html": [
       "<div>\n",
       "<style scoped>\n",
       "    .dataframe tbody tr th:only-of-type {\n",
       "        vertical-align: middle;\n",
       "    }\n",
       "\n",
       "    .dataframe tbody tr th {\n",
       "        vertical-align: top;\n",
       "    }\n",
       "\n",
       "    .dataframe thead th {\n",
       "        text-align: right;\n",
       "    }\n",
       "</style>\n",
       "<table border=\"1\" class=\"dataframe\">\n",
       "  <thead>\n",
       "    <tr style=\"text-align: right;\">\n",
       "      <th>col_0</th>\n",
       "      <th>Bad</th>\n",
       "      <th>Good</th>\n",
       "    </tr>\n",
       "    <tr>\n",
       "      <th>quality</th>\n",
       "      <th></th>\n",
       "      <th></th>\n",
       "    </tr>\n",
       "  </thead>\n",
       "  <tbody>\n",
       "    <tr>\n",
       "      <th>Bad</th>\n",
       "      <td>224</td>\n",
       "      <td>67</td>\n",
       "    </tr>\n",
       "    <tr>\n",
       "      <th>Good</th>\n",
       "      <td>86</td>\n",
       "      <td>267</td>\n",
       "    </tr>\n",
       "  </tbody>\n",
       "</table>\n",
       "</div>"
      ],
      "text/plain": [
       "col_0    Bad  Good\n",
       "quality           \n",
       "Bad      224    67\n",
       "Good      86   267"
      ]
     },
     "execution_count": 181,
     "metadata": {},
     "output_type": "execute_result"
    }
   ],
   "source": [
    "### 정오분류표\n",
    "pd.crosstab(y_test, pred_svc)"
   ]
  },
  {
   "cell_type": "code",
   "execution_count": 182,
   "metadata": {},
   "outputs": [
    {
     "name": "stdout",
     "output_type": "stream",
     "text": [
      "              precision    recall  f1-score   support\n",
      "\n",
      "         Bad       0.72      0.77      0.75       291\n",
      "        Good       0.80      0.76      0.78       353\n",
      "\n",
      "    accuracy                           0.76       644\n",
      "   macro avg       0.76      0.76      0.76       644\n",
      "weighted avg       0.76      0.76      0.76       644\n",
      "\n"
     ]
    }
   ],
   "source": [
    "# confusion Matrix\n",
    "print(classification_report(y_test,pred_svc))"
   ]
  },
  {
   "cell_type": "markdown",
   "metadata": {},
   "source": [
    "#### 매개변수 최적화 "
   ]
  },
  {
   "cell_type": "markdown",
   "metadata": {},
   "source": [
    "    * gamma와 c에 뭘 넣을까"
   ]
  },
  {
   "cell_type": "code",
   "execution_count": 154,
   "metadata": {},
   "outputs": [],
   "source": [
    "from sklearn.model_selection import GridSearchCV"
   ]
  },
  {
   "cell_type": "code",
   "execution_count": 183,
   "metadata": {},
   "outputs": [],
   "source": [
    "# Set the param by cross-validation 5번\n",
    "tuned_parameters = {'kernel':['rbf'], # 커널은 1개 2갠가 3갠가 \n",
    "                   'gamma':[0.01,0.05, 0.1, 0.5,1],\n",
    "                   'C': [1,10,50,100,150]}\n",
    "\n",
    "# kernel 1 * gamma 5 * C 5 * CV 5 = 125번"
   ]
  },
  {
   "cell_type": "code",
   "execution_count": 184,
   "metadata": {},
   "outputs": [
    {
     "name": "stdout",
     "output_type": "stream",
     "text": [
      "Wall time: 10.8 s\n"
     ]
    },
    {
     "data": {
      "text/plain": [
       "GridSearchCV(estimator=SVC(),\n",
       "             param_grid={'C': [1, 10, 50, 100, 150],\n",
       "                         'gamma': [0.01, 0.05, 0.1, 0.5, 1],\n",
       "                         'kernel': ['rbf']})"
      ]
     },
     "execution_count": 184,
     "metadata": {},
     "output_type": "execute_result"
    }
   ],
   "source": [
    "## parameter tuning\n",
    "grid = GridSearchCV(SVC(), tuned_parameters)\n",
    "%time grid.fit(x_train, y_train)"
   ]
  },
  {
   "cell_type": "code",
   "execution_count": 185,
   "metadata": {},
   "outputs": [
    {
     "data": {
      "text/plain": [
       "{'C': 10, 'gamma': 0.05, 'kernel': 'rbf'}"
      ]
     },
     "execution_count": 185,
     "metadata": {},
     "output_type": "execute_result"
    }
   ],
   "source": [
    "grid.best_params_"
   ]
  },
  {
   "cell_type": "markdown",
   "metadata": {},
   "source": [
    "#### Tuned 모형 적합"
   ]
  },
  {
   "cell_type": "code",
   "execution_count": 186,
   "metadata": {},
   "outputs": [],
   "source": [
    "svc = SVC(kernel= 'rbf',gamma=grid.best_params_['gamma'],C=grid.best_params_['C'])\n",
    "fit_svc_tune = svc.fit(x_train, y_train)"
   ]
  },
  {
   "cell_type": "markdown",
   "metadata": {},
   "source": [
    "#### 정오분류표"
   ]
  },
  {
   "cell_type": "code",
   "execution_count": 187,
   "metadata": {},
   "outputs": [],
   "source": [
    "## 검정자료 예측\n",
    "pred_svc_tune = fit_svc_tune.predict(x_test)"
   ]
  },
  {
   "cell_type": "code",
   "execution_count": 188,
   "metadata": {},
   "outputs": [
    {
     "data": {
      "text/html": [
       "<div>\n",
       "<style scoped>\n",
       "    .dataframe tbody tr th:only-of-type {\n",
       "        vertical-align: middle;\n",
       "    }\n",
       "\n",
       "    .dataframe tbody tr th {\n",
       "        vertical-align: top;\n",
       "    }\n",
       "\n",
       "    .dataframe thead th {\n",
       "        text-align: right;\n",
       "    }\n",
       "</style>\n",
       "<table border=\"1\" class=\"dataframe\">\n",
       "  <thead>\n",
       "    <tr style=\"text-align: right;\">\n",
       "      <th>col_0</th>\n",
       "      <th>Bad</th>\n",
       "      <th>Good</th>\n",
       "    </tr>\n",
       "    <tr>\n",
       "      <th>quality</th>\n",
       "      <th></th>\n",
       "      <th></th>\n",
       "    </tr>\n",
       "  </thead>\n",
       "  <tbody>\n",
       "    <tr>\n",
       "      <th>Bad</th>\n",
       "      <td>224</td>\n",
       "      <td>67</td>\n",
       "    </tr>\n",
       "    <tr>\n",
       "      <th>Good</th>\n",
       "      <td>90</td>\n",
       "      <td>263</td>\n",
       "    </tr>\n",
       "  </tbody>\n",
       "</table>\n",
       "</div>"
      ],
      "text/plain": [
       "col_0    Bad  Good\n",
       "quality           \n",
       "Bad      224    67\n",
       "Good      90   263"
      ]
     },
     "execution_count": 188,
     "metadata": {},
     "output_type": "execute_result"
    }
   ],
   "source": [
    "## 정오분류표\n",
    "pd.crosstab(y_test, pred_svc_tune)"
   ]
  },
  {
   "cell_type": "code",
   "execution_count": 189,
   "metadata": {},
   "outputs": [
    {
     "name": "stdout",
     "output_type": "stream",
     "text": [
      "              precision    recall  f1-score   support\n",
      "\n",
      "         Bad       0.71      0.77      0.74       291\n",
      "        Good       0.80      0.75      0.77       353\n",
      "\n",
      "    accuracy                           0.76       644\n",
      "   macro avg       0.76      0.76      0.76       644\n",
      "weighted avg       0.76      0.76      0.76       644\n",
      "\n"
     ]
    }
   ],
   "source": [
    "## confusion Matrix\n",
    "print(classification_report(y_test,pred_svc_tune))"
   ]
  },
  {
   "cell_type": "markdown",
   "metadata": {},
   "source": [
    "#### ROC AUC"
   ]
  },
  {
   "cell_type": "code",
   "execution_count": 190,
   "metadata": {},
   "outputs": [
    {
     "data": {
      "image/png": "[encoded data removed]",
      "text/plain": [
       "<Figure size 432x288 with 1 Axes>"
      ]
     },
     "metadata": {
      "needs_background": "light"
     },
     "output_type": "display_data"
    }
   ],
   "source": [
    "y_test_fac, y_test_levels = pd.factorize(y_test)\n",
    "d_func = fit_svc_tune.decision_function(x_test)\n",
    "fpr, tpr, thresholds = roc_curve(y_test_fac,d_func)\n",
    "\n",
    "plt.plot(fpr, tpr, 'o-')\n",
    "plt.plot([0,1],[0,1],'k--')\n",
    "plt.show()\n"
   ]
  },
  {
   "cell_type": "code",
   "execution_count": 191,
   "metadata": {},
   "outputs": [
    {
     "data": {
      "text/plain": [
       "0.8260662169134467"
      ]
     },
     "execution_count": 191,
     "metadata": {},
     "output_type": "execute_result"
    }
   ],
   "source": [
    "auc(fpr,tpr)"
   ]
  },
  {
   "cell_type": "markdown",
   "metadata": {},
   "source": [
    "#### 변수 중요도\n"
   ]
  },
  {
   "cell_type": "code",
   "execution_count": 193,
   "metadata": {},
   "outputs": [
    {
     "data": {
      "text/plain": [
       "Index(['fixed.acidity', 'volatile.acidity', 'citric.acid', 'residual.sugar',\n",
       "       'chlorides', 'free.sulfur.dioxide', 'total.sulfur.dioxide', 'density',\n",
       "       'pH', 'sulphates', 'alcohol'],\n",
       "      dtype='object')"
      ]
     },
     "execution_count": 193,
     "metadata": {},
     "output_type": "execute_result"
    }
   ],
   "source": [
    "x_train_columns"
   ]
  },
  {
   "cell_type": "code",
   "execution_count": 194,
   "metadata": {
    "scrolled": true
   },
   "outputs": [
    {
     "data": {
      "image/png": "[encoded data removed]",
      "text/plain": [
       "<Figure size 432x288 with 1 Axes>"
      ]
     },
     "metadata": {
      "needs_background": "light"
     },
     "output_type": "display_data"
    }
   ],
   "source": [
    "## 변수 중요도 ( kernel linear)\n",
    "## 손수 변수를 넣고 빼고 하며 변수를 정하는게 좋음\n",
    "def f_importances(coef,names):\n",
    "    imp = list(map(abs,coef))\n",
    "    imp,names = zip(*sorted(zip(imp,names)))\n",
    "    plt.barh(range(len(names)),imp,align='center')\n",
    "    plt.yticks(range(len(names)),names)\n",
    "    plt.show()\n",
    "# 선형 커널 사용\n",
    "fit_svc_linear = SVC(kernel='linear').fit(x_train,y_train)\n",
    "importances = fit_svc_linear.coef_.tolist()[0]\n",
    "idx = x_train_columns\n",
    "f_importances(importances, idx)"
   ]
  },
  {
   "cell_type": "markdown",
   "metadata": {},
   "source": [
    "### 4-4. NN 신경망"
   ]
  },
  {
   "cell_type": "code",
   "execution_count": 198,
   "metadata": {},
   "outputs": [],
   "source": [
    "from sklearn.neural_network import MLPClassifier\n",
    "from sklearn.preprocessing import StandardScaler"
   ]
  },
  {
   "cell_type": "markdown",
   "metadata": {},
   "source": [
    "#### 표준화"
   ]
  },
  {
   "cell_type": "code",
   "execution_count": 202,
   "metadata": {},
   "outputs": [],
   "source": [
    "scaler = StandardScaler()\n",
    "scaler.fit(x_train)\n",
    "x_train  = scaler.transform(x_train)\n",
    "x_test  = scaler.transform(x_test)"
   ]
  },
  {
   "cell_type": "markdown",
   "metadata": {},
   "source": [
    "#### 모형적합\n"
   ]
  },
  {
   "cell_type": "code",
   "execution_count": 203,
   "metadata": {},
   "outputs": [
    {
     "name": "stderr",
     "output_type": "stream",
     "text": [
      "C:\\Users\\gkrxo\\anaconda3\\envs\\DataCampus\\lib\\site-packages\\sklearn\\neural_network\\_multilayer_perceptron.py:471: ConvergenceWarning: lbfgs failed to converge (status=1):\n",
      "STOP: TOTAL NO. of ITERATIONS REACHED LIMIT.\n",
      "\n",
      "Increase the number of iterations (max_iter) or scale the data as shown in:\n",
      "    https://scikit-learn.org/stable/modules/preprocessing.html\n",
      "  self.n_iter_ = _check_optimize_result(\"lbfgs\", opt_res, self.max_iter)\n"
     ]
    }
   ],
   "source": [
    "mlp = MLPClassifier(solver='lbfgs',hidden_layer_sizes=(10,))\n",
    "#(5,5,4) #layer 3개 노드 5,5,4개씩\n",
    "fit_mlp = mlp.fit(x_train,y_train)"
   ]
  },
  {
   "cell_type": "markdown",
   "metadata": {},
   "source": [
    "#### 정오분류표"
   ]
  },
  {
   "cell_type": "code",
   "execution_count": 204,
   "metadata": {},
   "outputs": [
    {
     "data": {
      "text/html": [
       "<div>\n",
       "<style scoped>\n",
       "    .dataframe tbody tr th:only-of-type {\n",
       "        vertical-align: middle;\n",
       "    }\n",
       "\n",
       "    .dataframe tbody tr th {\n",
       "        vertical-align: top;\n",
       "    }\n",
       "\n",
       "    .dataframe thead th {\n",
       "        text-align: right;\n",
       "    }\n",
       "</style>\n",
       "<table border=\"1\" class=\"dataframe\">\n",
       "  <thead>\n",
       "    <tr style=\"text-align: right;\">\n",
       "      <th>col_0</th>\n",
       "      <th>Bad</th>\n",
       "      <th>Good</th>\n",
       "    </tr>\n",
       "    <tr>\n",
       "      <th>quality</th>\n",
       "      <th></th>\n",
       "      <th></th>\n",
       "    </tr>\n",
       "  </thead>\n",
       "  <tbody>\n",
       "    <tr>\n",
       "      <th>Bad</th>\n",
       "      <td>207</td>\n",
       "      <td>84</td>\n",
       "    </tr>\n",
       "    <tr>\n",
       "      <th>Good</th>\n",
       "      <td>87</td>\n",
       "      <td>266</td>\n",
       "    </tr>\n",
       "  </tbody>\n",
       "</table>\n",
       "</div>"
      ],
      "text/plain": [
       "col_0    Bad  Good\n",
       "quality           \n",
       "Bad      207    84\n",
       "Good      87   266"
      ]
     },
     "execution_count": 204,
     "metadata": {},
     "output_type": "execute_result"
    }
   ],
   "source": [
    "## 검정자료 예측\n",
    "pred_mlp = fit_mlp.predict(x_test)\n",
    "### 정오분류표\n",
    "pd.crosstab(y_test,pred_mlp)"
   ]
  },
  {
   "cell_type": "code",
   "execution_count": 205,
   "metadata": {},
   "outputs": [
    {
     "name": "stdout",
     "output_type": "stream",
     "text": [
      "              precision    recall  f1-score   support\n",
      "\n",
      "         Bad       0.70      0.71      0.71       291\n",
      "        Good       0.76      0.75      0.76       353\n",
      "\n",
      "    accuracy                           0.73       644\n",
      "   macro avg       0.73      0.73      0.73       644\n",
      "weighted avg       0.73      0.73      0.73       644\n",
      "\n"
     ]
    }
   ],
   "source": [
    "## Confusion Matrix\n",
    "print(classification_report(y_test,pred_mlp))"
   ]
  },
  {
   "cell_type": "markdown",
   "metadata": {},
   "source": [
    "#### ROC AUC"
   ]
  },
  {
   "cell_type": "code",
   "execution_count": 207,
   "metadata": {},
   "outputs": [
    {
     "data": {
      "image/png": "[encoded data removed]",
      "text/plain": [
       "<Figure size 432x288 with 1 Axes>"
      ]
     },
     "metadata": {
      "needs_background": "light"
     },
     "output_type": "display_data"
    }
   ],
   "source": [
    "y_test_fac, y_test_levels = pd.factorize(y_test)\n",
    "d_func = fit_mlp.predict_proba(x_test)[:,1]\n",
    "fpr, tpr, thresholds = roc_curve(y_test_fac,d_func)\n",
    "\n",
    "plt.plot(fpr, tpr, 'o-')\n",
    "plt.plot([0,1],[0,1],'k--')\n",
    "plt.show()\n"
   ]
  },
  {
   "cell_type": "code",
   "execution_count": 208,
   "metadata": {},
   "outputs": [
    {
     "data": {
      "text/plain": [
       "0.7983314350242885"
      ]
     },
     "execution_count": 208,
     "metadata": {},
     "output_type": "execute_result"
    }
   ],
   "source": [
    "auc(fpr,tpr)"
   ]
  },
  {
   "cell_type": "markdown",
   "metadata": {},
   "source": [
    "#### 변수중요도 (weights)"
   ]
  },
  {
   "cell_type": "markdown",
   "metadata": {},
   "source": [
    " 절대값이 0 근처는 중요도 낮다\n",
    " 레이어가 1개일때만."
   ]
  },
  {
   "cell_type": "code",
   "execution_count": 209,
   "metadata": {},
   "outputs": [
    {
     "data": {
      "image/png": "[encoded data removed]",
      "text/plain": [
       "<Figure size 432x288 with 2 Axes>"
      ]
     },
     "metadata": {
      "needs_background": "light"
     },
     "output_type": "display_data"
    }
   ],
   "source": [
    "plt.imshow(fit_mlp.coefs_[0])\n",
    "plt.yticks(range(len(x_train_columns)),x_train_columns)\n",
    "plt.colorbar()\n",
    "plt.show()"
   ]
  },
  {
   "cell_type": "markdown",
   "metadata": {},
   "source": [
    "------------------------------\n"
   ]
  },
  {
   "cell_type": "markdown",
   "metadata": {},
   "source": [
    "## 5. 비지도학습"
   ]
  },
  {
   "cell_type": "markdown",
   "metadata": {},
   "source": [
    "### 5-1. 계층적 군집(Hierarchical Clustering)"
   ]
  },
  {
   "cell_type": "markdown",
   "metadata": {},
   "source": [
    " 왜 사용할까? 군집별로 모델 학습 -> 잡음 감소"
   ]
  },
  {
   "cell_type": "markdown",
   "metadata": {},
   "source": [
    "* 유사성 - 범주형, 유사성\n",
    "* 거리 - 연속형"
   ]
  },
  {
   "cell_type": "markdown",
   "metadata": {},
   "source": [
    "* 중심 (Centroid linkage)\n",
    "* 각각 (Single likage)\n",
    "* 먼것 (Complete linkage)\n",
    "\n",
    "* 평균 (Average linkage)\n",
    "* MSE (Ward's method)\n"
   ]
  },
  {
   "cell_type": "markdown",
   "metadata": {},
   "source": [
    "library : scipy"
   ]
  },
  {
   "cell_type": "code",
   "execution_count": 210,
   "metadata": {},
   "outputs": [],
   "source": [
    "import easygui\n",
    "import pandas as pd"
   ]
  },
  {
   "cell_type": "code",
   "execution_count": 211,
   "metadata": {},
   "outputs": [],
   "source": [
    "data_file = easygui.fileopenbox(\"Data file\")"
   ]
  },
  {
   "cell_type": "code",
   "execution_count": 213,
   "metadata": {},
   "outputs": [],
   "source": [
    "data_raw = pd.read_csv(data_file,encoding='cp949')\n"
   ]
  },
  {
   "cell_type": "code",
   "execution_count": 214,
   "metadata": {},
   "outputs": [
    {
     "data": {
      "text/plain": [
       "(22, 6)"
      ]
     },
     "execution_count": 214,
     "metadata": {},
     "output_type": "execute_result"
    }
   ],
   "source": [
    "data_raw.shape"
   ]
  },
  {
   "cell_type": "code",
   "execution_count": 215,
   "metadata": {},
   "outputs": [
    {
     "data": {
      "text/html": [
       "<div>\n",
       "<style scoped>\n",
       "    .dataframe tbody tr th:only-of-type {\n",
       "        vertical-align: middle;\n",
       "    }\n",
       "\n",
       "    .dataframe tbody tr th {\n",
       "        vertical-align: top;\n",
       "    }\n",
       "\n",
       "    .dataframe thead th {\n",
       "        text-align: right;\n",
       "    }\n",
       "</style>\n",
       "<table border=\"1\" class=\"dataframe\">\n",
       "  <thead>\n",
       "    <tr style=\"text-align: right;\">\n",
       "      <th></th>\n",
       "      <th>역명</th>\n",
       "      <th>X18.19시</th>\n",
       "      <th>X08.09시</th>\n",
       "      <th>X17.18시</th>\n",
       "      <th>X16.17시</th>\n",
       "      <th>X15.16시</th>\n",
       "    </tr>\n",
       "  </thead>\n",
       "  <tbody>\n",
       "    <tr>\n",
       "      <th>0</th>\n",
       "      <td>갈마</td>\n",
       "      <td>149.684211</td>\n",
       "      <td>301.578947</td>\n",
       "      <td>130.703947</td>\n",
       "      <td>118.506579</td>\n",
       "      <td>112.519737</td>\n",
       "    </tr>\n",
       "    <tr>\n",
       "      <th>1</th>\n",
       "      <td>갑천</td>\n",
       "      <td>64.059211</td>\n",
       "      <td>116.302632</td>\n",
       "      <td>49.921053</td>\n",
       "      <td>44.282895</td>\n",
       "      <td>38.539474</td>\n",
       "    </tr>\n",
       "    <tr>\n",
       "      <th>2</th>\n",
       "      <td>구암</td>\n",
       "      <td>140.750000</td>\n",
       "      <td>218.875000</td>\n",
       "      <td>127.526316</td>\n",
       "      <td>115.144737</td>\n",
       "      <td>112.407895</td>\n",
       "    </tr>\n",
       "    <tr>\n",
       "      <th>3</th>\n",
       "      <td>노은</td>\n",
       "      <td>251.750000</td>\n",
       "      <td>263.901316</td>\n",
       "      <td>215.302632</td>\n",
       "      <td>193.000000</td>\n",
       "      <td>180.592105</td>\n",
       "    </tr>\n",
       "    <tr>\n",
       "      <th>4</th>\n",
       "      <td>대동</td>\n",
       "      <td>247.282895</td>\n",
       "      <td>434.157895</td>\n",
       "      <td>199.282895</td>\n",
       "      <td>191.250000</td>\n",
       "      <td>162.289474</td>\n",
       "    </tr>\n",
       "  </tbody>\n",
       "</table>\n",
       "</div>"
      ],
      "text/plain": [
       "   역명     X18.19시     X08.09시     X17.18시     X16.17시     X15.16시\n",
       "0  갈마  149.684211  301.578947  130.703947  118.506579  112.519737\n",
       "1  갑천   64.059211  116.302632   49.921053   44.282895   38.539474\n",
       "2  구암  140.750000  218.875000  127.526316  115.144737  112.407895\n",
       "3  노은  251.750000  263.901316  215.302632  193.000000  180.592105\n",
       "4  대동  247.282895  434.157895  199.282895  191.250000  162.289474"
      ]
     },
     "execution_count": 215,
     "metadata": {},
     "output_type": "execute_result"
    }
   ],
   "source": [
    "data_raw.head()"
   ]
  },
  {
   "cell_type": "code",
   "execution_count": 216,
   "metadata": {},
   "outputs": [
    {
     "data": {
      "text/html": [
       "<div>\n",
       "<style scoped>\n",
       "    .dataframe tbody tr th:only-of-type {\n",
       "        vertical-align: middle;\n",
       "    }\n",
       "\n",
       "    .dataframe tbody tr th {\n",
       "        vertical-align: top;\n",
       "    }\n",
       "\n",
       "    .dataframe thead th {\n",
       "        text-align: right;\n",
       "    }\n",
       "</style>\n",
       "<table border=\"1\" class=\"dataframe\">\n",
       "  <thead>\n",
       "    <tr style=\"text-align: right;\">\n",
       "      <th></th>\n",
       "      <th>X18.19시</th>\n",
       "      <th>X08.09시</th>\n",
       "      <th>X17.18시</th>\n",
       "      <th>X16.17시</th>\n",
       "      <th>X15.16시</th>\n",
       "    </tr>\n",
       "  </thead>\n",
       "  <tbody>\n",
       "    <tr>\n",
       "      <th>count</th>\n",
       "      <td>22.000000</td>\n",
       "      <td>22.000000</td>\n",
       "      <td>22.000000</td>\n",
       "      <td>22.000000</td>\n",
       "      <td>22.000000</td>\n",
       "    </tr>\n",
       "    <tr>\n",
       "      <th>mean</th>\n",
       "      <td>378.079246</td>\n",
       "      <td>340.858852</td>\n",
       "      <td>258.989533</td>\n",
       "      <td>219.628589</td>\n",
       "      <td>205.677931</td>\n",
       "    </tr>\n",
       "    <tr>\n",
       "      <th>std</th>\n",
       "      <td>248.895650</td>\n",
       "      <td>190.149642</td>\n",
       "      <td>158.627703</td>\n",
       "      <td>136.004752</td>\n",
       "      <td>130.761985</td>\n",
       "    </tr>\n",
       "    <tr>\n",
       "      <th>min</th>\n",
       "      <td>64.059211</td>\n",
       "      <td>116.302632</td>\n",
       "      <td>49.921053</td>\n",
       "      <td>44.282895</td>\n",
       "      <td>38.539474</td>\n",
       "    </tr>\n",
       "    <tr>\n",
       "      <th>25%</th>\n",
       "      <td>199.939145</td>\n",
       "      <td>222.856908</td>\n",
       "      <td>135.498355</td>\n",
       "      <td>113.570724</td>\n",
       "      <td>110.833882</td>\n",
       "    </tr>\n",
       "    <tr>\n",
       "      <th>50%</th>\n",
       "      <td>308.243421</td>\n",
       "      <td>272.121711</td>\n",
       "      <td>204.657895</td>\n",
       "      <td>183.328947</td>\n",
       "      <td>165.921053</td>\n",
       "    </tr>\n",
       "    <tr>\n",
       "      <th>75%</th>\n",
       "      <td>520.695724</td>\n",
       "      <td>425.845395</td>\n",
       "      <td>380.180921</td>\n",
       "      <td>306.156250</td>\n",
       "      <td>275.044408</td>\n",
       "    </tr>\n",
       "    <tr>\n",
       "      <th>max</th>\n",
       "      <td>1008.072368</td>\n",
       "      <td>809.947368</td>\n",
       "      <td>648.401316</td>\n",
       "      <td>597.664474</td>\n",
       "      <td>603.815789</td>\n",
       "    </tr>\n",
       "  </tbody>\n",
       "</table>\n",
       "</div>"
      ],
      "text/plain": [
       "           X18.19시     X08.09시     X17.18시     X16.17시     X15.16시\n",
       "count    22.000000   22.000000   22.000000   22.000000   22.000000\n",
       "mean    378.079246  340.858852  258.989533  219.628589  205.677931\n",
       "std     248.895650  190.149642  158.627703  136.004752  130.761985\n",
       "min      64.059211  116.302632   49.921053   44.282895   38.539474\n",
       "25%     199.939145  222.856908  135.498355  113.570724  110.833882\n",
       "50%     308.243421  272.121711  204.657895  183.328947  165.921053\n",
       "75%     520.695724  425.845395  380.180921  306.156250  275.044408\n",
       "max    1008.072368  809.947368  648.401316  597.664474  603.815789"
      ]
     },
     "execution_count": 216,
     "metadata": {},
     "output_type": "execute_result"
    }
   ],
   "source": [
    "data_raw.describe()"
   ]
  },
  {
   "cell_type": "markdown",
   "metadata": {},
   "source": [
    "#### 모형적합"
   ]
  },
  {
   "cell_type": "code",
   "execution_count": 217,
   "metadata": {},
   "outputs": [],
   "source": [
    "from scipy.cluster.hierarchy import linkage, dendrogram"
   ]
  },
  {
   "cell_type": "code",
   "execution_count": 230,
   "metadata": {},
   "outputs": [
    {
     "data": {
      "text/html": [
       "<div>\n",
       "<style scoped>\n",
       "    .dataframe tbody tr th:only-of-type {\n",
       "        vertical-align: middle;\n",
       "    }\n",
       "\n",
       "    .dataframe tbody tr th {\n",
       "        vertical-align: top;\n",
       "    }\n",
       "\n",
       "    .dataframe thead th {\n",
       "        text-align: right;\n",
       "    }\n",
       "</style>\n",
       "<table border=\"1\" class=\"dataframe\">\n",
       "  <thead>\n",
       "    <tr style=\"text-align: right;\">\n",
       "      <th></th>\n",
       "      <th>X18.19시</th>\n",
       "      <th>X08.09시</th>\n",
       "      <th>X17.18시</th>\n",
       "      <th>X16.17시</th>\n",
       "      <th>X15.16시</th>\n",
       "    </tr>\n",
       "  </thead>\n",
       "  <tbody>\n",
       "    <tr>\n",
       "      <th>갈마</th>\n",
       "      <td>149.684211</td>\n",
       "      <td>301.578947</td>\n",
       "      <td>130.703947</td>\n",
       "      <td>118.506579</td>\n",
       "      <td>112.519737</td>\n",
       "    </tr>\n",
       "    <tr>\n",
       "      <th>갑천</th>\n",
       "      <td>64.059211</td>\n",
       "      <td>116.302632</td>\n",
       "      <td>49.921053</td>\n",
       "      <td>44.282895</td>\n",
       "      <td>38.539474</td>\n",
       "    </tr>\n",
       "    <tr>\n",
       "      <th>구암</th>\n",
       "      <td>140.750000</td>\n",
       "      <td>218.875000</td>\n",
       "      <td>127.526316</td>\n",
       "      <td>115.144737</td>\n",
       "      <td>112.407895</td>\n",
       "    </tr>\n",
       "    <tr>\n",
       "      <th>노은</th>\n",
       "      <td>251.750000</td>\n",
       "      <td>263.901316</td>\n",
       "      <td>215.302632</td>\n",
       "      <td>193.000000</td>\n",
       "      <td>180.592105</td>\n",
       "    </tr>\n",
       "    <tr>\n",
       "      <th>대동</th>\n",
       "      <td>247.282895</td>\n",
       "      <td>434.157895</td>\n",
       "      <td>199.282895</td>\n",
       "      <td>191.250000</td>\n",
       "      <td>162.289474</td>\n",
       "    </tr>\n",
       "  </tbody>\n",
       "</table>\n",
       "</div>"
      ],
      "text/plain": [
       "       X18.19시     X08.09시     X17.18시     X16.17시     X15.16시\n",
       "갈마  149.684211  301.578947  130.703947  118.506579  112.519737\n",
       "갑천   64.059211  116.302632   49.921053   44.282895   38.539474\n",
       "구암  140.750000  218.875000  127.526316  115.144737  112.407895\n",
       "노은  251.750000  263.901316  215.302632  193.000000  180.592105\n",
       "대동  247.282895  434.157895  199.282895  191.250000  162.289474"
      ]
     },
     "execution_count": 230,
     "metadata": {},
     "output_type": "execute_result"
    }
   ],
   "source": [
    "#연속형 자료 선택\n",
    "data_use = data_raw.iloc[:,1:] # 0번째 열을 제외한 나머지는 data_use로\n",
    "data_use.index = data_raw.iloc[:,0].tolist() # 0번째 열은 index로\n",
    "data_use.head()"
   ]
  },
  {
   "cell_type": "code",
   "execution_count": 231,
   "metadata": {},
   "outputs": [],
   "source": [
    "# 평균연결법, euclidean 거리\n",
    "d = linkage(data_use, method = 'average', metric = 'euclidean')"
   ]
  },
  {
   "cell_type": "code",
   "execution_count": 257,
   "metadata": {},
   "outputs": [],
   "source": [
    "import matplotlib.pyplot as plt\n",
    "# 그래프에 굴림\n",
    "plt.rcParams['font.family']='Gulim'"
   ]
  },
  {
   "cell_type": "code",
   "execution_count": 259,
   "metadata": {
    "scrolled": true
   },
   "outputs": [
    {
     "data": {
      "image/png": "[encoded data removed]",
      "text/plain": [
       "<Figure size 576x576 with 1 Axes>"
      ]
     },
     "metadata": {
      "needs_background": "light"
     },
     "output_type": "display_data"
    }
   ],
   "source": [
    "### Dendrogram\n",
    "plt.figure(figsize = (8,8))\n",
    "#labels = data_use.index,\n",
    "dn = dendrogram(d,  leaf_font_size = 12, leaf_rotation=0, orientation='right')"
   ]
  },
  {
   "cell_type": "markdown",
   "metadata": {},
   "source": [
    "군집별 특성 파악 필요"
   ]
  },
  {
   "cell_type": "markdown",
   "metadata": {},
   "source": [
    "#### 군집저장"
   ]
  },
  {
   "cell_type": "code",
   "execution_count": 234,
   "metadata": {},
   "outputs": [],
   "source": [
    "from scipy.cluster.hierarchy import fcluster"
   ]
  },
  {
   "cell_type": "code",
   "execution_count": 235,
   "metadata": {},
   "outputs": [
    {
     "data": {
      "text/html": [
       "<div>\n",
       "<style scoped>\n",
       "    .dataframe tbody tr th:only-of-type {\n",
       "        vertical-align: middle;\n",
       "    }\n",
       "\n",
       "    .dataframe tbody tr th {\n",
       "        vertical-align: top;\n",
       "    }\n",
       "\n",
       "    .dataframe thead th {\n",
       "        text-align: right;\n",
       "    }\n",
       "</style>\n",
       "<table border=\"1\" class=\"dataframe\">\n",
       "  <thead>\n",
       "    <tr style=\"text-align: right;\">\n",
       "      <th></th>\n",
       "      <th>X18.19시</th>\n",
       "      <th>X08.09시</th>\n",
       "      <th>X17.18시</th>\n",
       "      <th>X16.17시</th>\n",
       "      <th>X15.16시</th>\n",
       "      <th>cluster</th>\n",
       "    </tr>\n",
       "  </thead>\n",
       "  <tbody>\n",
       "    <tr>\n",
       "      <th>갈마</th>\n",
       "      <td>149.684211</td>\n",
       "      <td>301.578947</td>\n",
       "      <td>130.703947</td>\n",
       "      <td>118.506579</td>\n",
       "      <td>112.519737</td>\n",
       "      <td>3</td>\n",
       "    </tr>\n",
       "    <tr>\n",
       "      <th>갑천</th>\n",
       "      <td>64.059211</td>\n",
       "      <td>116.302632</td>\n",
       "      <td>49.921053</td>\n",
       "      <td>44.282895</td>\n",
       "      <td>38.539474</td>\n",
       "      <td>3</td>\n",
       "    </tr>\n",
       "    <tr>\n",
       "      <th>구암</th>\n",
       "      <td>140.750000</td>\n",
       "      <td>218.875000</td>\n",
       "      <td>127.526316</td>\n",
       "      <td>115.144737</td>\n",
       "      <td>112.407895</td>\n",
       "      <td>3</td>\n",
       "    </tr>\n",
       "    <tr>\n",
       "      <th>노은</th>\n",
       "      <td>251.750000</td>\n",
       "      <td>263.901316</td>\n",
       "      <td>215.302632</td>\n",
       "      <td>193.000000</td>\n",
       "      <td>180.592105</td>\n",
       "      <td>3</td>\n",
       "    </tr>\n",
       "    <tr>\n",
       "      <th>대동</th>\n",
       "      <td>247.282895</td>\n",
       "      <td>434.157895</td>\n",
       "      <td>199.282895</td>\n",
       "      <td>191.250000</td>\n",
       "      <td>162.289474</td>\n",
       "      <td>3</td>\n",
       "    </tr>\n",
       "  </tbody>\n",
       "</table>\n",
       "</div>"
      ],
      "text/plain": [
       "       X18.19시     X08.09시     X17.18시     X16.17시     X15.16시  cluster\n",
       "갈마  149.684211  301.578947  130.703947  118.506579  112.519737        3\n",
       "갑천   64.059211  116.302632   49.921053   44.282895   38.539474        3\n",
       "구암  140.750000  218.875000  127.526316  115.144737  112.407895        3\n",
       "노은  251.750000  263.901316  215.302632  193.000000  180.592105        3\n",
       "대동  247.282895  434.157895  199.282895  191.250000  162.289474        3"
      ]
     },
     "execution_count": 235,
     "metadata": {},
     "output_type": "execute_result"
    }
   ],
   "source": [
    "## 군집저장 \n",
    "# 클러스터 나눔\n",
    "# python에서 a=1 b=a면 a=b=1 임. 각각하려면 .copy()\n",
    "data_cluster = data_use.copy() \n",
    "data_cluster['cluster'] = fcluster(d, t=550, criterion='distance')\n",
    "data_cluster.head()"
   ]
  },
  {
   "cell_type": "markdown",
   "metadata": {},
   "source": [
    "#### 군집평균"
   ]
  },
  {
   "cell_type": "code",
   "execution_count": 236,
   "metadata": {},
   "outputs": [
    {
     "data": {
      "text/html": [
       "<div>\n",
       "<style scoped>\n",
       "    .dataframe tbody tr th:only-of-type {\n",
       "        vertical-align: middle;\n",
       "    }\n",
       "\n",
       "    .dataframe tbody tr th {\n",
       "        vertical-align: top;\n",
       "    }\n",
       "\n",
       "    .dataframe thead th {\n",
       "        text-align: right;\n",
       "    }\n",
       "</style>\n",
       "<table border=\"1\" class=\"dataframe\">\n",
       "  <thead>\n",
       "    <tr style=\"text-align: right;\">\n",
       "      <th></th>\n",
       "      <th>X18.19시</th>\n",
       "      <th>X08.09시</th>\n",
       "      <th>X17.18시</th>\n",
       "      <th>X16.17시</th>\n",
       "      <th>X15.16시</th>\n",
       "    </tr>\n",
       "    <tr>\n",
       "      <th>cluster</th>\n",
       "      <th></th>\n",
       "      <th></th>\n",
       "      <th></th>\n",
       "      <th></th>\n",
       "      <th></th>\n",
       "    </tr>\n",
       "  </thead>\n",
       "  <tbody>\n",
       "    <tr>\n",
       "      <th>1</th>\n",
       "      <td>858.462719</td>\n",
       "      <td>300.482456</td>\n",
       "      <td>528.899123</td>\n",
       "      <td>437.228070</td>\n",
       "      <td>406.403509</td>\n",
       "    </tr>\n",
       "    <tr>\n",
       "      <th>2</th>\n",
       "      <td>462.069079</td>\n",
       "      <td>670.427632</td>\n",
       "      <td>376.297697</td>\n",
       "      <td>324.631579</td>\n",
       "      <td>307.870066</td>\n",
       "    </tr>\n",
       "    <tr>\n",
       "      <th>3</th>\n",
       "      <td>259.605263</td>\n",
       "      <td>261.049123</td>\n",
       "      <td>173.725439</td>\n",
       "      <td>148.107895</td>\n",
       "      <td>138.281579</td>\n",
       "    </tr>\n",
       "  </tbody>\n",
       "</table>\n",
       "</div>"
      ],
      "text/plain": [
       "            X18.19시     X08.09시     X17.18시     X16.17시     X15.16시\n",
       "cluster                                                            \n",
       "1        858.462719  300.482456  528.899123  437.228070  406.403509\n",
       "2        462.069079  670.427632  376.297697  324.631579  307.870066\n",
       "3        259.605263  261.049123  173.725439  148.107895  138.281579"
      ]
     },
     "execution_count": 236,
     "metadata": {},
     "output_type": "execute_result"
    }
   ],
   "source": [
    "cluster_mean = data_cluster.groupby('cluster').mean()\n",
    "cluster_mean "
   ]
  },
  {
   "cell_type": "markdown",
   "metadata": {},
   "source": [
    "* 1번 클러스터는 18-19\n",
    "* 2번은 8-9\n",
    "* 3번은 모두 낮음"
   ]
  },
  {
   "cell_type": "code",
   "execution_count": 251,
   "metadata": {},
   "outputs": [
    {
     "data": {
      "text/plain": [
       "갈마        3\n",
       "갑천        3\n",
       "구암        3\n",
       "노은        3\n",
       "대동        3\n",
       "대전        1\n",
       "반석        2\n",
       "서대전네거리    2\n",
       "시청        1\n",
       "신흥        3\n",
       "오룡        3\n",
       "용문        2\n",
       "월드컵경기장    3\n",
       "월평        3\n",
       "유성온천      2\n",
       "정부청사      1\n",
       "중구청       3\n",
       "중앙로       3\n",
       "지족        3\n",
       "탄방        3\n",
       "판암        3\n",
       "현충원       3\n",
       "Name: cluster, dtype: int32"
      ]
     },
     "execution_count": 251,
     "metadata": {},
     "output_type": "execute_result"
    }
   ],
   "source": [
    "data_cluster['cluster']"
   ]
  },
  {
   "cell_type": "code",
   "execution_count": 253,
   "metadata": {
    "scrolled": true
   },
   "outputs": [
    {
     "data": {
      "text/plain": [
       "0         갈마\n",
       "1         갑천\n",
       "2         구암\n",
       "3         노은\n",
       "4         대동\n",
       "5         대전\n",
       "6         반석\n",
       "7     서대전네거리\n",
       "8         시청\n",
       "9         신흥\n",
       "10        오룡\n",
       "11        용문\n",
       "12    월드컵경기장\n",
       "13        월평\n",
       "14      유성온천\n",
       "15      정부청사\n",
       "16       중구청\n",
       "17       중앙로\n",
       "18        지족\n",
       "19        탄방\n",
       "20        판암\n",
       "21       현충원\n",
       "dtype: object"
      ]
     },
     "execution_count": 253,
     "metadata": {},
     "output_type": "execute_result"
    }
   ],
   "source": [
    "pd.Series(data_use.index)"
   ]
  },
  {
   "cell_type": "code",
   "execution_count": 255,
   "metadata": {},
   "outputs": [
    {
     "data": {
      "text/plain": [
       "<matplotlib.collections.PathCollection at 0x1eff166af40>"
      ]
     },
     "execution_count": 255,
     "metadata": {},
     "output_type": "execute_result"
    },
    {
     "data": {
      "image/png": "[encoded data removed]",
      "text/plain": [
       "<Figure size 432x288 with 1 Axes>"
      ]
     },
     "metadata": {
      "needs_background": "light"
     },
     "output_type": "display_data"
    }
   ],
   "source": [
    "# 군집 산점도\n",
    "# 5변수-> 2변수 \n",
    "# 분산이 큰 2개 변수\n",
    "plt.scatter(data_cluster['X18.19시'], data_cluster['X08.09시'], c = data_cluster['cluster'])\n",
    "\n"
   ]
  },
  {
   "cell_type": "code",
   "execution_count": 264,
   "metadata": {},
   "outputs": [
    {
     "ename": "TypeError",
     "evalue": "Index(...) must be called with a collection of some kind, 2 was passed",
     "output_type": "error",
     "traceback": [
      "\u001b[1;31m---------------------------------------------------------------------------\u001b[0m",
      "\u001b[1;31mTypeError\u001b[0m                                 Traceback (most recent call last)",
      "\u001b[1;32m<ipython-input-264-534005d0592b>\u001b[0m in \u001b[0;36m<module>\u001b[1;34m\u001b[0m\n\u001b[0;32m      3\u001b[0m \u001b[1;31m# 분산이 큰 2개 변수\u001b[0m\u001b[1;33m\u001b[0m\u001b[1;33m\u001b[0m\u001b[1;33m\u001b[0m\u001b[0m\n\u001b[0;32m      4\u001b[0m \u001b[0mplt\u001b[0m\u001b[1;33m.\u001b[0m\u001b[0mscatter\u001b[0m\u001b[1;33m(\u001b[0m\u001b[0mdata_cluster\u001b[0m\u001b[1;33m[\u001b[0m\u001b[1;34m'X18.19시'\u001b[0m\u001b[1;33m]\u001b[0m\u001b[1;33m,\u001b[0m \u001b[0mdata_cluster\u001b[0m\u001b[1;33m[\u001b[0m\u001b[1;34m'X08.09시'\u001b[0m\u001b[1;33m]\u001b[0m\u001b[1;33m,\u001b[0m \u001b[0mc\u001b[0m \u001b[1;33m=\u001b[0m \u001b[0mdata_cluster\u001b[0m\u001b[1;33m[\u001b[0m\u001b[1;34m'cluster'\u001b[0m\u001b[1;33m]\u001b[0m\u001b[1;33m)\u001b[0m\u001b[1;33m\u001b[0m\u001b[1;33m\u001b[0m\u001b[0m\n\u001b[1;32m----> 5\u001b[1;33m \u001b[0mplt\u001b[0m\u001b[1;33m.\u001b[0m\u001b[0mscatter\u001b[0m\u001b[1;33m(\u001b[0m\u001b[0mdata_cluster\u001b[0m\u001b[1;33m[\u001b[0m\u001b[1;34m'X18.19시'\u001b[0m\u001b[1;33m]\u001b[0m\u001b[1;33m,\u001b[0m \u001b[0mdata_cluster\u001b[0m\u001b[1;33m[\u001b[0m\u001b[1;34m'X08.09시'\u001b[0m\u001b[1;33m]\u001b[0m\u001b[1;33m,\u001b[0m \u001b[0mc\u001b[0m \u001b[1;33m=\u001b[0m \u001b[0mpd\u001b[0m\u001b[1;33m.\u001b[0m\u001b[0mSeries\u001b[0m\u001b[1;33m(\u001b[0m\u001b[1;36m1\u001b[0m\u001b[1;33m,\u001b[0m\u001b[1;36m2\u001b[0m\u001b[1;33m,\u001b[0m\u001b[1;36m3\u001b[0m\u001b[1;33m)\u001b[0m\u001b[1;33m,\u001b[0m \u001b[0ms\u001b[0m\u001b[1;33m=\u001b[0m \u001b[1;36m200\u001b[0m\u001b[1;33m,\u001b[0m \u001b[0malpha\u001b[0m \u001b[1;33m=\u001b[0m \u001b[1;36m0.7\u001b[0m\u001b[1;33m)\u001b[0m\u001b[1;33m;\u001b[0m\u001b[1;33m\u001b[0m\u001b[1;33m\u001b[0m\u001b[0m\n\u001b[0m",
      "\u001b[1;32m~\\anaconda3\\envs\\DataCampus\\lib\\site-packages\\pandas\\core\\series.py\u001b[0m in \u001b[0;36m__init__\u001b[1;34m(self, data, index, dtype, name, copy, fastpath)\u001b[0m\n\u001b[0;32m    213\u001b[0m \u001b[1;33m\u001b[0m\u001b[0m\n\u001b[0;32m    214\u001b[0m             \u001b[1;32mif\u001b[0m \u001b[0mindex\u001b[0m \u001b[1;32mis\u001b[0m \u001b[1;32mnot\u001b[0m \u001b[1;32mNone\u001b[0m\u001b[1;33m:\u001b[0m\u001b[1;33m\u001b[0m\u001b[1;33m\u001b[0m\u001b[0m\n\u001b[1;32m--> 215\u001b[1;33m                 \u001b[0mindex\u001b[0m \u001b[1;33m=\u001b[0m \u001b[0mensure_index\u001b[0m\u001b[1;33m(\u001b[0m\u001b[0mindex\u001b[0m\u001b[1;33m)\u001b[0m\u001b[1;33m\u001b[0m\u001b[1;33m\u001b[0m\u001b[0m\n\u001b[0m\u001b[0;32m    216\u001b[0m \u001b[1;33m\u001b[0m\u001b[0m\n\u001b[0;32m    217\u001b[0m             \u001b[1;32mif\u001b[0m \u001b[0mdata\u001b[0m \u001b[1;32mis\u001b[0m \u001b[1;32mNone\u001b[0m\u001b[1;33m:\u001b[0m\u001b[1;33m\u001b[0m\u001b[1;33m\u001b[0m\u001b[0m\n",
      "\u001b[1;32m~\\anaconda3\\envs\\DataCampus\\lib\\site-packages\\pandas\\core\\indexes\\base.py\u001b[0m in \u001b[0;36mensure_index\u001b[1;34m(index_like, copy)\u001b[0m\n\u001b[0;32m   5356\u001b[0m             \u001b[0mindex_like\u001b[0m \u001b[1;33m=\u001b[0m \u001b[0mcopy\u001b[0m\u001b[1;33m(\u001b[0m\u001b[0mindex_like\u001b[0m\u001b[1;33m)\u001b[0m\u001b[1;33m\u001b[0m\u001b[1;33m\u001b[0m\u001b[0m\n\u001b[0;32m   5357\u001b[0m \u001b[1;33m\u001b[0m\u001b[0m\n\u001b[1;32m-> 5358\u001b[1;33m     \u001b[1;32mreturn\u001b[0m \u001b[0mIndex\u001b[0m\u001b[1;33m(\u001b[0m\u001b[0mindex_like\u001b[0m\u001b[1;33m)\u001b[0m\u001b[1;33m\u001b[0m\u001b[1;33m\u001b[0m\u001b[0m\n\u001b[0m\u001b[0;32m   5359\u001b[0m \u001b[1;33m\u001b[0m\u001b[0m\n\u001b[0;32m   5360\u001b[0m \u001b[1;33m\u001b[0m\u001b[0m\n",
      "\u001b[1;32m~\\anaconda3\\envs\\DataCampus\\lib\\site-packages\\pandas\\core\\indexes\\base.py\u001b[0m in \u001b[0;36m__new__\u001b[1;34m(cls, data, dtype, copy, name, tupleize_cols, **kwargs)\u001b[0m\n\u001b[0;32m    420\u001b[0m             \u001b[1;32mreturn\u001b[0m \u001b[0mIndex\u001b[0m\u001b[1;33m(\u001b[0m\u001b[0mnp\u001b[0m\u001b[1;33m.\u001b[0m\u001b[0masarray\u001b[0m\u001b[1;33m(\u001b[0m\u001b[0mdata\u001b[0m\u001b[1;33m)\u001b[0m\u001b[1;33m,\u001b[0m \u001b[0mdtype\u001b[0m\u001b[1;33m=\u001b[0m\u001b[0mdtype\u001b[0m\u001b[1;33m,\u001b[0m \u001b[0mcopy\u001b[0m\u001b[1;33m=\u001b[0m\u001b[0mcopy\u001b[0m\u001b[1;33m,\u001b[0m \u001b[0mname\u001b[0m\u001b[1;33m=\u001b[0m\u001b[0mname\u001b[0m\u001b[1;33m,\u001b[0m \u001b[1;33m**\u001b[0m\u001b[0mkwargs\u001b[0m\u001b[1;33m)\u001b[0m\u001b[1;33m\u001b[0m\u001b[1;33m\u001b[0m\u001b[0m\n\u001b[0;32m    421\u001b[0m         \u001b[1;32melif\u001b[0m \u001b[0mdata\u001b[0m \u001b[1;32mis\u001b[0m \u001b[1;32mNone\u001b[0m \u001b[1;32mor\u001b[0m \u001b[0mis_scalar\u001b[0m\u001b[1;33m(\u001b[0m\u001b[0mdata\u001b[0m\u001b[1;33m)\u001b[0m\u001b[1;33m:\u001b[0m\u001b[1;33m\u001b[0m\u001b[1;33m\u001b[0m\u001b[0m\n\u001b[1;32m--> 422\u001b[1;33m             \u001b[1;32mraise\u001b[0m \u001b[0mcls\u001b[0m\u001b[1;33m.\u001b[0m\u001b[0m_scalar_data_error\u001b[0m\u001b[1;33m(\u001b[0m\u001b[0mdata\u001b[0m\u001b[1;33m)\u001b[0m\u001b[1;33m\u001b[0m\u001b[1;33m\u001b[0m\u001b[0m\n\u001b[0m\u001b[0;32m    423\u001b[0m         \u001b[1;32melse\u001b[0m\u001b[1;33m:\u001b[0m\u001b[1;33m\u001b[0m\u001b[1;33m\u001b[0m\u001b[0m\n\u001b[0;32m    424\u001b[0m             \u001b[1;32mif\u001b[0m \u001b[0mtupleize_cols\u001b[0m \u001b[1;32mand\u001b[0m \u001b[0mis_list_like\u001b[0m\u001b[1;33m(\u001b[0m\u001b[0mdata\u001b[0m\u001b[1;33m)\u001b[0m\u001b[1;33m:\u001b[0m\u001b[1;33m\u001b[0m\u001b[1;33m\u001b[0m\u001b[0m\n",
      "\u001b[1;31mTypeError\u001b[0m: Index(...) must be called with a collection of some kind, 2 was passed"
     ]
    },
    {
     "data": {
      "image/png": "[encoded data removed]",
      "text/plain": [
       "<Figure size 432x288 with 1 Axes>"
      ]
     },
     "metadata": {
      "needs_background": "light"
     },
     "output_type": "display_data"
    }
   ],
   "source": [
    "# 군집 산점도\n",
    "# 5변수-> 2변수 \n",
    "# 분산이 큰 2개 변수\n",
    "plt.scatter(data_cluster['X18.19시'], data_cluster['X08.09시'], c = data_cluster['cluster'])\n",
    "plt.scatter(data_cluster['X18.19시'], data_cluster['X08.09시'], c = cluster_mean.index, s= 200, alpha = 0.7);"
   ]
  },
  {
   "cell_type": "markdown",
   "metadata": {},
   "source": [
    "### 5-2. K-means 군집"
   ]
  },
  {
   "cell_type": "markdown",
   "metadata": {},
   "source": [
    "* 장: 적절한 K 잡으면 군집 속도 빠름, 성능 좋음 (유전자 군집)\n",
    "* 단: 뭉쳐있는 데이터는 매번 달라짐"
   ]
  },
  {
   "cell_type": "code",
   "execution_count": 265,
   "metadata": {},
   "outputs": [
    {
     "data": {
      "text/html": [
       "<div>\n",
       "<style scoped>\n",
       "    .dataframe tbody tr th:only-of-type {\n",
       "        vertical-align: middle;\n",
       "    }\n",
       "\n",
       "    .dataframe tbody tr th {\n",
       "        vertical-align: top;\n",
       "    }\n",
       "\n",
       "    .dataframe thead th {\n",
       "        text-align: right;\n",
       "    }\n",
       "</style>\n",
       "<table border=\"1\" class=\"dataframe\">\n",
       "  <thead>\n",
       "    <tr style=\"text-align: right;\">\n",
       "      <th></th>\n",
       "      <th>역명</th>\n",
       "      <th>X18.19시</th>\n",
       "      <th>X08.09시</th>\n",
       "      <th>X17.18시</th>\n",
       "      <th>X16.17시</th>\n",
       "      <th>X15.16시</th>\n",
       "    </tr>\n",
       "  </thead>\n",
       "  <tbody>\n",
       "    <tr>\n",
       "      <th>0</th>\n",
       "      <td>갈마</td>\n",
       "      <td>149.684211</td>\n",
       "      <td>301.578947</td>\n",
       "      <td>130.703947</td>\n",
       "      <td>118.506579</td>\n",
       "      <td>112.519737</td>\n",
       "    </tr>\n",
       "    <tr>\n",
       "      <th>1</th>\n",
       "      <td>갑천</td>\n",
       "      <td>64.059211</td>\n",
       "      <td>116.302632</td>\n",
       "      <td>49.921053</td>\n",
       "      <td>44.282895</td>\n",
       "      <td>38.539474</td>\n",
       "    </tr>\n",
       "    <tr>\n",
       "      <th>2</th>\n",
       "      <td>구암</td>\n",
       "      <td>140.750000</td>\n",
       "      <td>218.875000</td>\n",
       "      <td>127.526316</td>\n",
       "      <td>115.144737</td>\n",
       "      <td>112.407895</td>\n",
       "    </tr>\n",
       "    <tr>\n",
       "      <th>3</th>\n",
       "      <td>노은</td>\n",
       "      <td>251.750000</td>\n",
       "      <td>263.901316</td>\n",
       "      <td>215.302632</td>\n",
       "      <td>193.000000</td>\n",
       "      <td>180.592105</td>\n",
       "    </tr>\n",
       "    <tr>\n",
       "      <th>4</th>\n",
       "      <td>대동</td>\n",
       "      <td>247.282895</td>\n",
       "      <td>434.157895</td>\n",
       "      <td>199.282895</td>\n",
       "      <td>191.250000</td>\n",
       "      <td>162.289474</td>\n",
       "    </tr>\n",
       "  </tbody>\n",
       "</table>\n",
       "</div>"
      ],
      "text/plain": [
       "   역명     X18.19시     X08.09시     X17.18시     X16.17시     X15.16시\n",
       "0  갈마  149.684211  301.578947  130.703947  118.506579  112.519737\n",
       "1  갑천   64.059211  116.302632   49.921053   44.282895   38.539474\n",
       "2  구암  140.750000  218.875000  127.526316  115.144737  112.407895\n",
       "3  노은  251.750000  263.901316  215.302632  193.000000  180.592105\n",
       "4  대동  247.282895  434.157895  199.282895  191.250000  162.289474"
      ]
     },
     "execution_count": 265,
     "metadata": {},
     "output_type": "execute_result"
    }
   ],
   "source": [
    "data_raw.head()"
   ]
  },
  {
   "cell_type": "markdown",
   "metadata": {},
   "source": [
    "#### 모형적합"
   ]
  },
  {
   "cell_type": "code",
   "execution_count": 266,
   "metadata": {},
   "outputs": [],
   "source": [
    "from sklearn.cluster import KMeans"
   ]
  },
  {
   "cell_type": "code",
   "execution_count": 267,
   "metadata": {},
   "outputs": [
    {
     "data": {
      "text/html": [
       "<div>\n",
       "<style scoped>\n",
       "    .dataframe tbody tr th:only-of-type {\n",
       "        vertical-align: middle;\n",
       "    }\n",
       "\n",
       "    .dataframe tbody tr th {\n",
       "        vertical-align: top;\n",
       "    }\n",
       "\n",
       "    .dataframe thead th {\n",
       "        text-align: right;\n",
       "    }\n",
       "</style>\n",
       "<table border=\"1\" class=\"dataframe\">\n",
       "  <thead>\n",
       "    <tr style=\"text-align: right;\">\n",
       "      <th></th>\n",
       "      <th>X18.19시</th>\n",
       "      <th>X08.09시</th>\n",
       "      <th>X17.18시</th>\n",
       "      <th>X16.17시</th>\n",
       "      <th>X15.16시</th>\n",
       "    </tr>\n",
       "  </thead>\n",
       "  <tbody>\n",
       "    <tr>\n",
       "      <th>갈마</th>\n",
       "      <td>149.684211</td>\n",
       "      <td>301.578947</td>\n",
       "      <td>130.703947</td>\n",
       "      <td>118.506579</td>\n",
       "      <td>112.519737</td>\n",
       "    </tr>\n",
       "    <tr>\n",
       "      <th>갑천</th>\n",
       "      <td>64.059211</td>\n",
       "      <td>116.302632</td>\n",
       "      <td>49.921053</td>\n",
       "      <td>44.282895</td>\n",
       "      <td>38.539474</td>\n",
       "    </tr>\n",
       "    <tr>\n",
       "      <th>구암</th>\n",
       "      <td>140.750000</td>\n",
       "      <td>218.875000</td>\n",
       "      <td>127.526316</td>\n",
       "      <td>115.144737</td>\n",
       "      <td>112.407895</td>\n",
       "    </tr>\n",
       "    <tr>\n",
       "      <th>노은</th>\n",
       "      <td>251.750000</td>\n",
       "      <td>263.901316</td>\n",
       "      <td>215.302632</td>\n",
       "      <td>193.000000</td>\n",
       "      <td>180.592105</td>\n",
       "    </tr>\n",
       "    <tr>\n",
       "      <th>대동</th>\n",
       "      <td>247.282895</td>\n",
       "      <td>434.157895</td>\n",
       "      <td>199.282895</td>\n",
       "      <td>191.250000</td>\n",
       "      <td>162.289474</td>\n",
       "    </tr>\n",
       "  </tbody>\n",
       "</table>\n",
       "</div>"
      ],
      "text/plain": [
       "       X18.19시     X08.09시     X17.18시     X16.17시     X15.16시\n",
       "갈마  149.684211  301.578947  130.703947  118.506579  112.519737\n",
       "갑천   64.059211  116.302632   49.921053   44.282895   38.539474\n",
       "구암  140.750000  218.875000  127.526316  115.144737  112.407895\n",
       "노은  251.750000  263.901316  215.302632  193.000000  180.592105\n",
       "대동  247.282895  434.157895  199.282895  191.250000  162.289474"
      ]
     },
     "execution_count": 267,
     "metadata": {},
     "output_type": "execute_result"
    }
   ],
   "source": [
    "data_use.head()"
   ]
  },
  {
   "cell_type": "code",
   "execution_count": 268,
   "metadata": {},
   "outputs": [
    {
     "data": {
      "text/plain": [
       "KMeans(n_clusters=3)"
      ]
     },
     "execution_count": 268,
     "metadata": {},
     "output_type": "execute_result"
    }
   ],
   "source": [
    "kmeans = KMeans(n_clusters=3)\n",
    "kmeans.fit(data_use)"
   ]
  },
  {
   "cell_type": "markdown",
   "metadata": {},
   "source": [
    "#### 군집저장"
   ]
  },
  {
   "cell_type": "code",
   "execution_count": 269,
   "metadata": {},
   "outputs": [
    {
     "data": {
      "text/html": [
       "<div>\n",
       "<style scoped>\n",
       "    .dataframe tbody tr th:only-of-type {\n",
       "        vertical-align: middle;\n",
       "    }\n",
       "\n",
       "    .dataframe tbody tr th {\n",
       "        vertical-align: top;\n",
       "    }\n",
       "\n",
       "    .dataframe thead th {\n",
       "        text-align: right;\n",
       "    }\n",
       "</style>\n",
       "<table border=\"1\" class=\"dataframe\">\n",
       "  <thead>\n",
       "    <tr style=\"text-align: right;\">\n",
       "      <th></th>\n",
       "      <th>X18.19시</th>\n",
       "      <th>X08.09시</th>\n",
       "      <th>X17.18시</th>\n",
       "      <th>X16.17시</th>\n",
       "      <th>X15.16시</th>\n",
       "      <th>cluster</th>\n",
       "    </tr>\n",
       "  </thead>\n",
       "  <tbody>\n",
       "    <tr>\n",
       "      <th>갈마</th>\n",
       "      <td>149.684211</td>\n",
       "      <td>301.578947</td>\n",
       "      <td>130.703947</td>\n",
       "      <td>118.506579</td>\n",
       "      <td>112.519737</td>\n",
       "      <td>0</td>\n",
       "    </tr>\n",
       "    <tr>\n",
       "      <th>갑천</th>\n",
       "      <td>64.059211</td>\n",
       "      <td>116.302632</td>\n",
       "      <td>49.921053</td>\n",
       "      <td>44.282895</td>\n",
       "      <td>38.539474</td>\n",
       "      <td>0</td>\n",
       "    </tr>\n",
       "    <tr>\n",
       "      <th>구암</th>\n",
       "      <td>140.750000</td>\n",
       "      <td>218.875000</td>\n",
       "      <td>127.526316</td>\n",
       "      <td>115.144737</td>\n",
       "      <td>112.407895</td>\n",
       "      <td>0</td>\n",
       "    </tr>\n",
       "    <tr>\n",
       "      <th>노은</th>\n",
       "      <td>251.750000</td>\n",
       "      <td>263.901316</td>\n",
       "      <td>215.302632</td>\n",
       "      <td>193.000000</td>\n",
       "      <td>180.592105</td>\n",
       "      <td>0</td>\n",
       "    </tr>\n",
       "    <tr>\n",
       "      <th>대동</th>\n",
       "      <td>247.282895</td>\n",
       "      <td>434.157895</td>\n",
       "      <td>199.282895</td>\n",
       "      <td>191.250000</td>\n",
       "      <td>162.289474</td>\n",
       "      <td>0</td>\n",
       "    </tr>\n",
       "  </tbody>\n",
       "</table>\n",
       "</div>"
      ],
      "text/plain": [
       "       X18.19시     X08.09시     X17.18시     X16.17시     X15.16시  cluster\n",
       "갈마  149.684211  301.578947  130.703947  118.506579  112.519737        0\n",
       "갑천   64.059211  116.302632   49.921053   44.282895   38.539474        0\n",
       "구암  140.750000  218.875000  127.526316  115.144737  112.407895        0\n",
       "노은  251.750000  263.901316  215.302632  193.000000  180.592105        0\n",
       "대동  247.282895  434.157895  199.282895  191.250000  162.289474        0"
      ]
     },
     "execution_count": 269,
     "metadata": {},
     "output_type": "execute_result"
    }
   ],
   "source": [
    "data_cluster = data_use.copy()\n",
    "data_cluster['cluster'] = kmeans.labels_\n",
    "data_cluster.head()"
   ]
  },
  {
   "cell_type": "markdown",
   "metadata": {},
   "source": [
    "#### 군집평균"
   ]
  },
  {
   "cell_type": "code",
   "execution_count": 270,
   "metadata": {},
   "outputs": [
    {
     "data": {
      "text/html": [
       "<div>\n",
       "<style scoped>\n",
       "    .dataframe tbody tr th:only-of-type {\n",
       "        vertical-align: middle;\n",
       "    }\n",
       "\n",
       "    .dataframe tbody tr th {\n",
       "        vertical-align: top;\n",
       "    }\n",
       "\n",
       "    .dataframe thead th {\n",
       "        text-align: right;\n",
       "    }\n",
       "</style>\n",
       "<table border=\"1\" class=\"dataframe\">\n",
       "  <thead>\n",
       "    <tr style=\"text-align: right;\">\n",
       "      <th></th>\n",
       "      <th>X18.19시</th>\n",
       "      <th>X08.09시</th>\n",
       "      <th>X17.18시</th>\n",
       "      <th>X16.17시</th>\n",
       "      <th>X15.16시</th>\n",
       "    </tr>\n",
       "    <tr>\n",
       "      <th>cluster</th>\n",
       "      <th></th>\n",
       "      <th></th>\n",
       "      <th></th>\n",
       "      <th></th>\n",
       "      <th></th>\n",
       "    </tr>\n",
       "  </thead>\n",
       "  <tbody>\n",
       "    <tr>\n",
       "      <th>0</th>\n",
       "      <td>240.729323</td>\n",
       "      <td>267.420583</td>\n",
       "      <td>156.047932</td>\n",
       "      <td>134.074718</td>\n",
       "      <td>126.731673</td>\n",
       "    </tr>\n",
       "    <tr>\n",
       "      <th>1</th>\n",
       "      <td>774.814145</td>\n",
       "      <td>268.324013</td>\n",
       "      <td>501.976974</td>\n",
       "      <td>414.064145</td>\n",
       "      <td>379.797697</td>\n",
       "    </tr>\n",
       "    <tr>\n",
       "      <th>2</th>\n",
       "      <td>462.069079</td>\n",
       "      <td>670.427632</td>\n",
       "      <td>376.297697</td>\n",
       "      <td>324.631579</td>\n",
       "      <td>307.870066</td>\n",
       "    </tr>\n",
       "  </tbody>\n",
       "</table>\n",
       "</div>"
      ],
      "text/plain": [
       "            X18.19시     X08.09시     X17.18시     X16.17시     X15.16시\n",
       "cluster                                                            \n",
       "0        240.729323  267.420583  156.047932  134.074718  126.731673\n",
       "1        774.814145  268.324013  501.976974  414.064145  379.797697\n",
       "2        462.069079  670.427632  376.297697  324.631579  307.870066"
      ]
     },
     "execution_count": 270,
     "metadata": {},
     "output_type": "execute_result"
    }
   ],
   "source": [
    "cluster_mean = data_cluster.groupby('cluster').mean()\n",
    "cluster_mean"
   ]
  },
  {
   "cell_type": "markdown",
   "metadata": {},
   "source": [
    "* 1변수는 2번\n",
    "* 2변수는 1번\n",
    "* 모든 변수 적은 0번"
   ]
  },
  {
   "cell_type": "code",
   "execution_count": 271,
   "metadata": {},
   "outputs": [],
   "source": [
    "import matplotlib.pyplot as plt"
   ]
  },
  {
   "cell_type": "code",
   "execution_count": 272,
   "metadata": {},
   "outputs": [
    {
     "name": "stderr",
     "output_type": "stream",
     "text": [
      "*c* argument looks like a single numeric RGB or RGBA sequence, which should be avoided as value-mapping will have precedence in case its length matches with *x* & *y*.  Please use the *color* keyword-argument or provide a 2-D array with a single row if you intend to specify the same RGB or RGBA value for all points.\n"
     ]
    },
    {
     "ename": "ValueError",
     "evalue": "'c' argument has 3 elements, which is inconsistent with 'x' and 'y' with size 22.",
     "output_type": "error",
     "traceback": [
      "\u001b[1;31m---------------------------------------------------------------------------\u001b[0m",
      "\u001b[1;31mValueError\u001b[0m                                Traceback (most recent call last)",
      "\u001b[1;32m~\\anaconda3\\envs\\DataCampus\\lib\\site-packages\\matplotlib\\axes\\_axes.py\u001b[0m in \u001b[0;36m_parse_scatter_color_args\u001b[1;34m(c, edgecolors, kwargs, xsize, get_next_color_func)\u001b[0m\n\u001b[0;32m   4238\u001b[0m             \u001b[1;32mtry\u001b[0m\u001b[1;33m:\u001b[0m  \u001b[1;31m# Is 'c' acceptable as PathCollection facecolors?\u001b[0m\u001b[1;33m\u001b[0m\u001b[1;33m\u001b[0m\u001b[0m\n\u001b[1;32m-> 4239\u001b[1;33m                 \u001b[0mcolors\u001b[0m \u001b[1;33m=\u001b[0m \u001b[0mmcolors\u001b[0m\u001b[1;33m.\u001b[0m\u001b[0mto_rgba_array\u001b[0m\u001b[1;33m(\u001b[0m\u001b[0mc\u001b[0m\u001b[1;33m)\u001b[0m\u001b[1;33m\u001b[0m\u001b[1;33m\u001b[0m\u001b[0m\n\u001b[0m\u001b[0;32m   4240\u001b[0m             \u001b[1;32mexcept\u001b[0m \u001b[0mValueError\u001b[0m\u001b[1;33m:\u001b[0m\u001b[1;33m\u001b[0m\u001b[1;33m\u001b[0m\u001b[0m\n",
      "\u001b[1;32m~\\anaconda3\\envs\\DataCampus\\lib\\site-packages\\matplotlib\\colors.py\u001b[0m in \u001b[0;36mto_rgba_array\u001b[1;34m(c, alpha)\u001b[0m\n\u001b[0;32m    339\u001b[0m     \u001b[1;32melse\u001b[0m\u001b[1;33m:\u001b[0m\u001b[1;33m\u001b[0m\u001b[1;33m\u001b[0m\u001b[0m\n\u001b[1;32m--> 340\u001b[1;33m         \u001b[1;32mreturn\u001b[0m \u001b[0mnp\u001b[0m\u001b[1;33m.\u001b[0m\u001b[0marray\u001b[0m\u001b[1;33m(\u001b[0m\u001b[1;33m[\u001b[0m\u001b[0mto_rgba\u001b[0m\u001b[1;33m(\u001b[0m\u001b[0mcc\u001b[0m\u001b[1;33m,\u001b[0m \u001b[0malpha\u001b[0m\u001b[1;33m)\u001b[0m \u001b[1;32mfor\u001b[0m \u001b[0mcc\u001b[0m \u001b[1;32min\u001b[0m \u001b[0mc\u001b[0m\u001b[1;33m]\u001b[0m\u001b[1;33m)\u001b[0m\u001b[1;33m\u001b[0m\u001b[1;33m\u001b[0m\u001b[0m\n\u001b[0m\u001b[0;32m    341\u001b[0m \u001b[1;33m\u001b[0m\u001b[0m\n",
      "\u001b[1;32m~\\anaconda3\\envs\\DataCampus\\lib\\site-packages\\matplotlib\\colors.py\u001b[0m in \u001b[0;36m<listcomp>\u001b[1;34m(.0)\u001b[0m\n\u001b[0;32m    339\u001b[0m     \u001b[1;32melse\u001b[0m\u001b[1;33m:\u001b[0m\u001b[1;33m\u001b[0m\u001b[1;33m\u001b[0m\u001b[0m\n\u001b[1;32m--> 340\u001b[1;33m         \u001b[1;32mreturn\u001b[0m \u001b[0mnp\u001b[0m\u001b[1;33m.\u001b[0m\u001b[0marray\u001b[0m\u001b[1;33m(\u001b[0m\u001b[1;33m[\u001b[0m\u001b[0mto_rgba\u001b[0m\u001b[1;33m(\u001b[0m\u001b[0mcc\u001b[0m\u001b[1;33m,\u001b[0m \u001b[0malpha\u001b[0m\u001b[1;33m)\u001b[0m \u001b[1;32mfor\u001b[0m \u001b[0mcc\u001b[0m \u001b[1;32min\u001b[0m \u001b[0mc\u001b[0m\u001b[1;33m]\u001b[0m\u001b[1;33m)\u001b[0m\u001b[1;33m\u001b[0m\u001b[1;33m\u001b[0m\u001b[0m\n\u001b[0m\u001b[0;32m    341\u001b[0m \u001b[1;33m\u001b[0m\u001b[0m\n",
      "\u001b[1;32m~\\anaconda3\\envs\\DataCampus\\lib\\site-packages\\matplotlib\\colors.py\u001b[0m in \u001b[0;36mto_rgba\u001b[1;34m(c, alpha)\u001b[0m\n\u001b[0;32m    184\u001b[0m     \u001b[1;32mif\u001b[0m \u001b[0mrgba\u001b[0m \u001b[1;32mis\u001b[0m \u001b[1;32mNone\u001b[0m\u001b[1;33m:\u001b[0m  \u001b[1;31m# Suppress exception chaining of cache lookup failure.\u001b[0m\u001b[1;33m\u001b[0m\u001b[1;33m\u001b[0m\u001b[0m\n\u001b[1;32m--> 185\u001b[1;33m         \u001b[0mrgba\u001b[0m \u001b[1;33m=\u001b[0m \u001b[0m_to_rgba_no_colorcycle\u001b[0m\u001b[1;33m(\u001b[0m\u001b[0mc\u001b[0m\u001b[1;33m,\u001b[0m \u001b[0malpha\u001b[0m\u001b[1;33m)\u001b[0m\u001b[1;33m\u001b[0m\u001b[1;33m\u001b[0m\u001b[0m\n\u001b[0m\u001b[0;32m    186\u001b[0m         \u001b[1;32mtry\u001b[0m\u001b[1;33m:\u001b[0m\u001b[1;33m\u001b[0m\u001b[1;33m\u001b[0m\u001b[0m\n",
      "\u001b[1;32m~\\anaconda3\\envs\\DataCampus\\lib\\site-packages\\matplotlib\\colors.py\u001b[0m in \u001b[0;36m_to_rgba_no_colorcycle\u001b[1;34m(c, alpha)\u001b[0m\n\u001b[0;32m    267\u001b[0m         \u001b[1;31m# Test dimensionality to reject single floats.\u001b[0m\u001b[1;33m\u001b[0m\u001b[1;33m\u001b[0m\u001b[1;33m\u001b[0m\u001b[0m\n\u001b[1;32m--> 268\u001b[1;33m         \u001b[1;32mraise\u001b[0m \u001b[0mValueError\u001b[0m\u001b[1;33m(\u001b[0m\u001b[1;34mf\"Invalid RGBA argument: {orig_c!r}\"\u001b[0m\u001b[1;33m)\u001b[0m\u001b[1;33m\u001b[0m\u001b[1;33m\u001b[0m\u001b[0m\n\u001b[0m\u001b[0;32m    269\u001b[0m     \u001b[1;31m# Return a tuple to prevent the cached value from being modified.\u001b[0m\u001b[1;33m\u001b[0m\u001b[1;33m\u001b[0m\u001b[1;33m\u001b[0m\u001b[0m\n",
      "\u001b[1;31mValueError\u001b[0m: Invalid RGBA argument: 0.0",
      "\nDuring handling of the above exception, another exception occurred:\n",
      "\u001b[1;31mValueError\u001b[0m                                Traceback (most recent call last)",
      "\u001b[1;32m<ipython-input-272-11f00403c924>\u001b[0m in \u001b[0;36m<module>\u001b[1;34m\u001b[0m\n\u001b[0;32m      2\u001b[0m \u001b[0mplt\u001b[0m\u001b[1;33m.\u001b[0m\u001b[0mscatter\u001b[0m\u001b[1;33m(\u001b[0m\u001b[0mdata_cluster\u001b[0m\u001b[1;33m[\u001b[0m\u001b[1;34m'X18.19시'\u001b[0m\u001b[1;33m]\u001b[0m\u001b[1;33m,\u001b[0m \u001b[0mdata_cluster\u001b[0m\u001b[1;33m[\u001b[0m\u001b[1;34m'X08.09시'\u001b[0m\u001b[1;33m]\u001b[0m\u001b[1;33m,\u001b[0m \u001b[0mc\u001b[0m \u001b[1;33m=\u001b[0m \u001b[0mdata_cluster\u001b[0m\u001b[1;33m[\u001b[0m\u001b[1;34m'cluster'\u001b[0m\u001b[1;33m]\u001b[0m\u001b[1;33m)\u001b[0m\u001b[1;33m\u001b[0m\u001b[1;33m\u001b[0m\u001b[0m\n\u001b[0;32m      3\u001b[0m \u001b[1;31m# 군집 평균\u001b[0m\u001b[1;33m\u001b[0m\u001b[1;33m\u001b[0m\u001b[1;33m\u001b[0m\u001b[0m\n\u001b[1;32m----> 4\u001b[1;33m \u001b[0mplt\u001b[0m\u001b[1;33m.\u001b[0m\u001b[0mscatter\u001b[0m\u001b[1;33m(\u001b[0m\u001b[0mdata_cluster\u001b[0m\u001b[1;33m[\u001b[0m\u001b[1;34m'X18.19시'\u001b[0m\u001b[1;33m]\u001b[0m\u001b[1;33m,\u001b[0m \u001b[0mdata_cluster\u001b[0m\u001b[1;33m[\u001b[0m\u001b[1;34m'X08.09시'\u001b[0m\u001b[1;33m]\u001b[0m\u001b[1;33m,\u001b[0m \u001b[0mc\u001b[0m \u001b[1;33m=\u001b[0m \u001b[0mcluster_mean\u001b[0m\u001b[1;33m.\u001b[0m\u001b[0mindex\u001b[0m\u001b[1;33m,\u001b[0m \u001b[0ms\u001b[0m\u001b[1;33m=\u001b[0m \u001b[1;36m200\u001b[0m\u001b[1;33m,\u001b[0m \u001b[0malpha\u001b[0m \u001b[1;33m=\u001b[0m \u001b[1;36m0.7\u001b[0m\u001b[1;33m)\u001b[0m\u001b[1;33m;\u001b[0m\u001b[1;33m\u001b[0m\u001b[1;33m\u001b[0m\u001b[0m\n\u001b[0m",
      "\u001b[1;32m~\\anaconda3\\envs\\DataCampus\\lib\\site-packages\\matplotlib\\pyplot.py\u001b[0m in \u001b[0;36mscatter\u001b[1;34m(x, y, s, c, marker, cmap, norm, vmin, vmax, alpha, linewidths, verts, edgecolors, plotnonfinite, data, **kwargs)\u001b[0m\n\u001b[0;32m   2809\u001b[0m         \u001b[0mverts\u001b[0m\u001b[1;33m=\u001b[0m\u001b[0mcbook\u001b[0m\u001b[1;33m.\u001b[0m\u001b[0mdeprecation\u001b[0m\u001b[1;33m.\u001b[0m\u001b[0m_deprecated_parameter\u001b[0m\u001b[1;33m,\u001b[0m\u001b[1;33m\u001b[0m\u001b[1;33m\u001b[0m\u001b[0m\n\u001b[0;32m   2810\u001b[0m         edgecolors=None, *, plotnonfinite=False, data=None, **kwargs):\n\u001b[1;32m-> 2811\u001b[1;33m     __ret = gca().scatter(\n\u001b[0m\u001b[0;32m   2812\u001b[0m         \u001b[0mx\u001b[0m\u001b[1;33m,\u001b[0m \u001b[0my\u001b[0m\u001b[1;33m,\u001b[0m \u001b[0ms\u001b[0m\u001b[1;33m=\u001b[0m\u001b[0ms\u001b[0m\u001b[1;33m,\u001b[0m \u001b[0mc\u001b[0m\u001b[1;33m=\u001b[0m\u001b[0mc\u001b[0m\u001b[1;33m,\u001b[0m \u001b[0mmarker\u001b[0m\u001b[1;33m=\u001b[0m\u001b[0mmarker\u001b[0m\u001b[1;33m,\u001b[0m \u001b[0mcmap\u001b[0m\u001b[1;33m=\u001b[0m\u001b[0mcmap\u001b[0m\u001b[1;33m,\u001b[0m \u001b[0mnorm\u001b[0m\u001b[1;33m=\u001b[0m\u001b[0mnorm\u001b[0m\u001b[1;33m,\u001b[0m\u001b[1;33m\u001b[0m\u001b[1;33m\u001b[0m\u001b[0m\n\u001b[0;32m   2813\u001b[0m         \u001b[0mvmin\u001b[0m\u001b[1;33m=\u001b[0m\u001b[0mvmin\u001b[0m\u001b[1;33m,\u001b[0m \u001b[0mvmax\u001b[0m\u001b[1;33m=\u001b[0m\u001b[0mvmax\u001b[0m\u001b[1;33m,\u001b[0m \u001b[0malpha\u001b[0m\u001b[1;33m=\u001b[0m\u001b[0malpha\u001b[0m\u001b[1;33m,\u001b[0m \u001b[0mlinewidths\u001b[0m\u001b[1;33m=\u001b[0m\u001b[0mlinewidths\u001b[0m\u001b[1;33m,\u001b[0m\u001b[1;33m\u001b[0m\u001b[1;33m\u001b[0m\u001b[0m\n",
      "\u001b[1;32m~\\anaconda3\\envs\\DataCampus\\lib\\site-packages\\matplotlib\\__init__.py\u001b[0m in \u001b[0;36minner\u001b[1;34m(ax, data, *args, **kwargs)\u001b[0m\n\u001b[0;32m   1563\u001b[0m     \u001b[1;32mdef\u001b[0m \u001b[0minner\u001b[0m\u001b[1;33m(\u001b[0m\u001b[0max\u001b[0m\u001b[1;33m,\u001b[0m \u001b[1;33m*\u001b[0m\u001b[0margs\u001b[0m\u001b[1;33m,\u001b[0m \u001b[0mdata\u001b[0m\u001b[1;33m=\u001b[0m\u001b[1;32mNone\u001b[0m\u001b[1;33m,\u001b[0m \u001b[1;33m**\u001b[0m\u001b[0mkwargs\u001b[0m\u001b[1;33m)\u001b[0m\u001b[1;33m:\u001b[0m\u001b[1;33m\u001b[0m\u001b[1;33m\u001b[0m\u001b[0m\n\u001b[0;32m   1564\u001b[0m         \u001b[1;32mif\u001b[0m \u001b[0mdata\u001b[0m \u001b[1;32mis\u001b[0m \u001b[1;32mNone\u001b[0m\u001b[1;33m:\u001b[0m\u001b[1;33m\u001b[0m\u001b[1;33m\u001b[0m\u001b[0m\n\u001b[1;32m-> 1565\u001b[1;33m             \u001b[1;32mreturn\u001b[0m \u001b[0mfunc\u001b[0m\u001b[1;33m(\u001b[0m\u001b[0max\u001b[0m\u001b[1;33m,\u001b[0m \u001b[1;33m*\u001b[0m\u001b[0mmap\u001b[0m\u001b[1;33m(\u001b[0m\u001b[0msanitize_sequence\u001b[0m\u001b[1;33m,\u001b[0m \u001b[0margs\u001b[0m\u001b[1;33m)\u001b[0m\u001b[1;33m,\u001b[0m \u001b[1;33m**\u001b[0m\u001b[0mkwargs\u001b[0m\u001b[1;33m)\u001b[0m\u001b[1;33m\u001b[0m\u001b[1;33m\u001b[0m\u001b[0m\n\u001b[0m\u001b[0;32m   1566\u001b[0m \u001b[1;33m\u001b[0m\u001b[0m\n\u001b[0;32m   1567\u001b[0m         \u001b[0mbound\u001b[0m \u001b[1;33m=\u001b[0m \u001b[0mnew_sig\u001b[0m\u001b[1;33m.\u001b[0m\u001b[0mbind\u001b[0m\u001b[1;33m(\u001b[0m\u001b[0max\u001b[0m\u001b[1;33m,\u001b[0m \u001b[1;33m*\u001b[0m\u001b[0margs\u001b[0m\u001b[1;33m,\u001b[0m \u001b[1;33m**\u001b[0m\u001b[0mkwargs\u001b[0m\u001b[1;33m)\u001b[0m\u001b[1;33m\u001b[0m\u001b[1;33m\u001b[0m\u001b[0m\n",
      "\u001b[1;32m~\\anaconda3\\envs\\DataCampus\\lib\\site-packages\\matplotlib\\cbook\\deprecation.py\u001b[0m in \u001b[0;36mwrapper\u001b[1;34m(*args, **kwargs)\u001b[0m\n\u001b[0;32m    356\u001b[0m                 \u001b[1;34mf\"%(removal)s.  If any parameter follows {name!r}, they \"\u001b[0m\u001b[1;33m\u001b[0m\u001b[1;33m\u001b[0m\u001b[0m\n\u001b[0;32m    357\u001b[0m                 f\"should be pass as keyword, not positionally.\")\n\u001b[1;32m--> 358\u001b[1;33m         \u001b[1;32mreturn\u001b[0m \u001b[0mfunc\u001b[0m\u001b[1;33m(\u001b[0m\u001b[1;33m*\u001b[0m\u001b[0margs\u001b[0m\u001b[1;33m,\u001b[0m \u001b[1;33m**\u001b[0m\u001b[0mkwargs\u001b[0m\u001b[1;33m)\u001b[0m\u001b[1;33m\u001b[0m\u001b[1;33m\u001b[0m\u001b[0m\n\u001b[0m\u001b[0;32m    359\u001b[0m \u001b[1;33m\u001b[0m\u001b[0m\n\u001b[0;32m    360\u001b[0m     \u001b[1;32mreturn\u001b[0m \u001b[0mwrapper\u001b[0m\u001b[1;33m\u001b[0m\u001b[1;33m\u001b[0m\u001b[0m\n",
      "\u001b[1;32m~\\anaconda3\\envs\\DataCampus\\lib\\site-packages\\matplotlib\\axes\\_axes.py\u001b[0m in \u001b[0;36mscatter\u001b[1;34m(self, x, y, s, c, marker, cmap, norm, vmin, vmax, alpha, linewidths, verts, edgecolors, plotnonfinite, **kwargs)\u001b[0m\n\u001b[0;32m   4399\u001b[0m \u001b[1;33m\u001b[0m\u001b[0m\n\u001b[0;32m   4400\u001b[0m         \u001b[0mc\u001b[0m\u001b[1;33m,\u001b[0m \u001b[0mcolors\u001b[0m\u001b[1;33m,\u001b[0m \u001b[0medgecolors\u001b[0m \u001b[1;33m=\u001b[0m\u001b[0;31m \u001b[0m\u001b[0;31m\\\u001b[0m\u001b[1;33m\u001b[0m\u001b[1;33m\u001b[0m\u001b[0m\n\u001b[1;32m-> 4401\u001b[1;33m             self._parse_scatter_color_args(\n\u001b[0m\u001b[0;32m   4402\u001b[0m                 \u001b[0mc\u001b[0m\u001b[1;33m,\u001b[0m \u001b[0medgecolors\u001b[0m\u001b[1;33m,\u001b[0m \u001b[0mkwargs\u001b[0m\u001b[1;33m,\u001b[0m \u001b[0mx\u001b[0m\u001b[1;33m.\u001b[0m\u001b[0msize\u001b[0m\u001b[1;33m,\u001b[0m\u001b[1;33m\u001b[0m\u001b[1;33m\u001b[0m\u001b[0m\n\u001b[0;32m   4403\u001b[0m                 get_next_color_func=self._get_patches_for_fill.get_next_color)\n",
      "\u001b[1;32m~\\anaconda3\\envs\\DataCampus\\lib\\site-packages\\matplotlib\\axes\\_axes.py\u001b[0m in \u001b[0;36m_parse_scatter_color_args\u001b[1;34m(c, edgecolors, kwargs, xsize, get_next_color_func)\u001b[0m\n\u001b[0;32m   4240\u001b[0m             \u001b[1;32mexcept\u001b[0m \u001b[0mValueError\u001b[0m\u001b[1;33m:\u001b[0m\u001b[1;33m\u001b[0m\u001b[1;33m\u001b[0m\u001b[0m\n\u001b[0;32m   4241\u001b[0m                 \u001b[1;32mif\u001b[0m \u001b[1;32mnot\u001b[0m \u001b[0mvalid_shape\u001b[0m\u001b[1;33m:\u001b[0m\u001b[1;33m\u001b[0m\u001b[1;33m\u001b[0m\u001b[0m\n\u001b[1;32m-> 4242\u001b[1;33m                     \u001b[1;32mraise\u001b[0m \u001b[0minvalid_shape_exception\u001b[0m\u001b[1;33m(\u001b[0m\u001b[0mc\u001b[0m\u001b[1;33m.\u001b[0m\u001b[0msize\u001b[0m\u001b[1;33m,\u001b[0m \u001b[0mxsize\u001b[0m\u001b[1;33m)\u001b[0m\u001b[1;33m\u001b[0m\u001b[1;33m\u001b[0m\u001b[0m\n\u001b[0m\u001b[0;32m   4243\u001b[0m                 \u001b[1;31m# Both the mapping *and* the RGBA conversion failed: pretty\u001b[0m\u001b[1;33m\u001b[0m\u001b[1;33m\u001b[0m\u001b[1;33m\u001b[0m\u001b[0m\n\u001b[0;32m   4244\u001b[0m                 \u001b[1;31m# severe failure => one may appreciate a verbose feedback.\u001b[0m\u001b[1;33m\u001b[0m\u001b[1;33m\u001b[0m\u001b[1;33m\u001b[0m\u001b[0m\n",
      "\u001b[1;31mValueError\u001b[0m: 'c' argument has 3 elements, which is inconsistent with 'x' and 'y' with size 22."
     ]
    },
    {
     "data": {
      "image/png": "[encoded data removed]",
      "text/plain": [
       "<Figure size 432x288 with 1 Axes>"
      ]
     },
     "metadata": {
      "needs_background": "light"
     },
     "output_type": "display_data"
    }
   ],
   "source": [
    "# 군집 산점도\n",
    "plt.scatter(data_cluster['X18.19시'], data_cluster['X08.09시'], c = data_cluster['cluster'])\n",
    "# 군집 평균\n",
    "plt.scatter(data_cluster['X18.19시'], data_cluster['X08.09시'], c = cluster_mean.index, s= 200, alpha = 0.7);"
   ]
  },
  {
   "cell_type": "markdown",
   "metadata": {},
   "source": [
    "### 5-3-1. 최적 군집수 K"
   ]
  },
  {
   "cell_type": "markdown",
   "metadata": {},
   "source": [
    "Inertia value"
   ]
  },
  {
   "cell_type": "code",
   "execution_count": 275,
   "metadata": {},
   "outputs": [
    {
     "data": {
      "text/plain": [
       "159443.44192528678"
      ]
     },
     "execution_count": 275,
     "metadata": {},
     "output_type": "execute_result"
    }
   ],
   "source": [
    "model.inertia_"
   ]
  },
  {
   "cell_type": "code",
   "execution_count": 280,
   "metadata": {},
   "outputs": [
    {
     "name": "stdout",
     "output_type": "stream",
     "text": [
      "[3336158.031620052]\n",
      "[3336158.031620052, 1460102.910084919]\n",
      "[3336158.031620052, 1460102.910084919, 895555.8247742194]\n",
      "[3336158.031620052, 1460102.910084919, 895555.8247742194, 649318.6965994124]\n",
      "[3336158.031620052, 1460102.910084919, 895555.8247742194, 649318.6965994124, 475784.0426773154]\n",
      "[3336158.031620052, 1460102.910084919, 895555.8247742194, 649318.6965994124, 475784.0426773154, 330780.18415257544]\n",
      "[3336158.031620052, 1460102.910084919, 895555.8247742194, 649318.6965994124, 475784.0426773154, 330780.18415257544, 260318.76372232908]\n",
      "[3336158.031620052, 1460102.910084919, 895555.8247742194, 649318.6965994124, 475784.0426773154, 330780.18415257544, 260318.76372232908, 189075.05638688247]\n",
      "[3336158.031620052, 1460102.910084919, 895555.8247742194, 649318.6965994124, 475784.0426773154, 330780.18415257544, 260318.76372232908, 189075.05638688247, 157657.8976291712]\n"
     ]
    },
    {
     "data": {
      "image/png": "[encoded data removed]",
      "text/plain": [
       "<Figure size 432x288 with 1 Axes>"
      ]
     },
     "metadata": {
      "needs_background": "light"
     },
     "output_type": "display_data"
    }
   ],
   "source": [
    "## 군집의 범위\n",
    "ks = range(1,10)\n",
    "inertias = []\n",
    "for k in ks:\n",
    "    model = KMeans(n_clusters=k).fit(data_use)\n",
    "    inertias.append(model.inertia_)\n",
    "    print(inertias)\n",
    "# plot of inertia values\n",
    "plt.plot(ks,inertias,'-o')\n",
    "plt.xlabel('number of clusters')\n",
    "plt.ylabel('inertia')\n",
    "# plt.xticks(ks)\n",
    "plt.show()"
   ]
  },
  {
   "cell_type": "markdown",
   "metadata": {},
   "source": [
    "### 5-3. DBSCAN 밀도기반 군집"
   ]
  },
  {
   "cell_type": "markdown",
   "metadata": {},
   "source": [
    "K-means 치명적 단점 선으로 분리 -> 밀도가 높은 data끼리 군집을 만들면?"
   ]
  },
  {
   "cell_type": "markdown",
   "metadata": {},
   "source": [
    "* MinPts : min points 최소 몇개 점이어야 군집인가?\n",
    "\n",
    "- 많음 : core points \n",
    "- 같음 : border points\n",
    "- 적음 : noise points\n"
   ]
  },
  {
   "cell_type": "markdown",
   "metadata": {},
   "source": [
    "데이터  수에 따라 군집 밀도가 다름 -> 표준화 필요"
   ]
  },
  {
   "cell_type": "code",
   "execution_count": 284,
   "metadata": {},
   "outputs": [],
   "source": [
    "from sklearn.preprocessing import StandardScaler"
   ]
  },
  {
   "cell_type": "code",
   "execution_count": 285,
   "metadata": {},
   "outputs": [
    {
     "data": {
      "text/html": [
       "<div>\n",
       "<style scoped>\n",
       "    .dataframe tbody tr th:only-of-type {\n",
       "        vertical-align: middle;\n",
       "    }\n",
       "\n",
       "    .dataframe tbody tr th {\n",
       "        vertical-align: top;\n",
       "    }\n",
       "\n",
       "    .dataframe thead th {\n",
       "        text-align: right;\n",
       "    }\n",
       "</style>\n",
       "<table border=\"1\" class=\"dataframe\">\n",
       "  <thead>\n",
       "    <tr style=\"text-align: right;\">\n",
       "      <th></th>\n",
       "      <th>X18.19시</th>\n",
       "      <th>X08.09시</th>\n",
       "      <th>X17.18시</th>\n",
       "      <th>X16.17시</th>\n",
       "      <th>X15.16시</th>\n",
       "    </tr>\n",
       "  </thead>\n",
       "  <tbody>\n",
       "    <tr>\n",
       "      <th>갈마</th>\n",
       "      <td>149.684211</td>\n",
       "      <td>301.578947</td>\n",
       "      <td>130.703947</td>\n",
       "      <td>118.506579</td>\n",
       "      <td>112.519737</td>\n",
       "    </tr>\n",
       "    <tr>\n",
       "      <th>갑천</th>\n",
       "      <td>64.059211</td>\n",
       "      <td>116.302632</td>\n",
       "      <td>49.921053</td>\n",
       "      <td>44.282895</td>\n",
       "      <td>38.539474</td>\n",
       "    </tr>\n",
       "    <tr>\n",
       "      <th>구암</th>\n",
       "      <td>140.750000</td>\n",
       "      <td>218.875000</td>\n",
       "      <td>127.526316</td>\n",
       "      <td>115.144737</td>\n",
       "      <td>112.407895</td>\n",
       "    </tr>\n",
       "    <tr>\n",
       "      <th>노은</th>\n",
       "      <td>251.750000</td>\n",
       "      <td>263.901316</td>\n",
       "      <td>215.302632</td>\n",
       "      <td>193.000000</td>\n",
       "      <td>180.592105</td>\n",
       "    </tr>\n",
       "    <tr>\n",
       "      <th>대동</th>\n",
       "      <td>247.282895</td>\n",
       "      <td>434.157895</td>\n",
       "      <td>199.282895</td>\n",
       "      <td>191.250000</td>\n",
       "      <td>162.289474</td>\n",
       "    </tr>\n",
       "  </tbody>\n",
       "</table>\n",
       "</div>"
      ],
      "text/plain": [
       "       X18.19시     X08.09시     X17.18시     X16.17시     X15.16시\n",
       "갈마  149.684211  301.578947  130.703947  118.506579  112.519737\n",
       "갑천   64.059211  116.302632   49.921053   44.282895   38.539474\n",
       "구암  140.750000  218.875000  127.526316  115.144737  112.407895\n",
       "노은  251.750000  263.901316  215.302632  193.000000  180.592105\n",
       "대동  247.282895  434.157895  199.282895  191.250000  162.289474"
      ]
     },
     "execution_count": 285,
     "metadata": {},
     "output_type": "execute_result"
    }
   ],
   "source": [
    "data_use.head()"
   ]
  },
  {
   "cell_type": "code",
   "execution_count": 286,
   "metadata": {},
   "outputs": [],
   "source": [
    "#표준화 변환\n",
    "scaler = StandardScaler()\n",
    "scaler.fit(data_use)\n",
    "data_std = scaler.transform(data_use)\n"
   ]
  },
  {
   "cell_type": "markdown",
   "metadata": {},
   "source": [
    "#### 모형적합"
   ]
  },
  {
   "cell_type": "code",
   "execution_count": 287,
   "metadata": {},
   "outputs": [],
   "source": [
    "from sklearn.cluster import DBSCAN"
   ]
  },
  {
   "cell_type": "code",
   "execution_count": 288,
   "metadata": {},
   "outputs": [],
   "source": [
    "# eps(입실론) 해당 거리내 , min_samples 개 있으면 군집\n",
    "dbscan = DBSCAN(eps=1.5,min_samples=3)\n",
    "fit_dbscan = dbscan.fit(data_std)"
   ]
  },
  {
   "cell_type": "markdown",
   "metadata": {},
   "source": [
    "#### 군집저장"
   ]
  },
  {
   "cell_type": "code",
   "execution_count": 290,
   "metadata": {},
   "outputs": [
    {
     "data": {
      "text/html": [
       "<div>\n",
       "<style scoped>\n",
       "    .dataframe tbody tr th:only-of-type {\n",
       "        vertical-align: middle;\n",
       "    }\n",
       "\n",
       "    .dataframe tbody tr th {\n",
       "        vertical-align: top;\n",
       "    }\n",
       "\n",
       "    .dataframe thead th {\n",
       "        text-align: right;\n",
       "    }\n",
       "</style>\n",
       "<table border=\"1\" class=\"dataframe\">\n",
       "  <thead>\n",
       "    <tr style=\"text-align: right;\">\n",
       "      <th></th>\n",
       "      <th>X18.19시</th>\n",
       "      <th>X08.09시</th>\n",
       "      <th>X17.18시</th>\n",
       "      <th>X16.17시</th>\n",
       "      <th>X15.16시</th>\n",
       "      <th>cluster</th>\n",
       "    </tr>\n",
       "  </thead>\n",
       "  <tbody>\n",
       "    <tr>\n",
       "      <th>갈마</th>\n",
       "      <td>149.684211</td>\n",
       "      <td>301.578947</td>\n",
       "      <td>130.703947</td>\n",
       "      <td>118.506579</td>\n",
       "      <td>112.519737</td>\n",
       "      <td>0</td>\n",
       "    </tr>\n",
       "    <tr>\n",
       "      <th>갑천</th>\n",
       "      <td>64.059211</td>\n",
       "      <td>116.302632</td>\n",
       "      <td>49.921053</td>\n",
       "      <td>44.282895</td>\n",
       "      <td>38.539474</td>\n",
       "      <td>0</td>\n",
       "    </tr>\n",
       "    <tr>\n",
       "      <th>구암</th>\n",
       "      <td>140.750000</td>\n",
       "      <td>218.875000</td>\n",
       "      <td>127.526316</td>\n",
       "      <td>115.144737</td>\n",
       "      <td>112.407895</td>\n",
       "      <td>0</td>\n",
       "    </tr>\n",
       "    <tr>\n",
       "      <th>노은</th>\n",
       "      <td>251.750000</td>\n",
       "      <td>263.901316</td>\n",
       "      <td>215.302632</td>\n",
       "      <td>193.000000</td>\n",
       "      <td>180.592105</td>\n",
       "      <td>0</td>\n",
       "    </tr>\n",
       "    <tr>\n",
       "      <th>대동</th>\n",
       "      <td>247.282895</td>\n",
       "      <td>434.157895</td>\n",
       "      <td>199.282895</td>\n",
       "      <td>191.250000</td>\n",
       "      <td>162.289474</td>\n",
       "      <td>0</td>\n",
       "    </tr>\n",
       "  </tbody>\n",
       "</table>\n",
       "</div>"
      ],
      "text/plain": [
       "       X18.19시     X08.09시     X17.18시     X16.17시     X15.16시  cluster\n",
       "갈마  149.684211  301.578947  130.703947  118.506579  112.519737        0\n",
       "갑천   64.059211  116.302632   49.921053   44.282895   38.539474        0\n",
       "구암  140.750000  218.875000  127.526316  115.144737  112.407895        0\n",
       "노은  251.750000  263.901316  215.302632  193.000000  180.592105        0\n",
       "대동  247.282895  434.157895  199.282895  191.250000  162.289474        0"
      ]
     },
     "execution_count": 290,
     "metadata": {},
     "output_type": "execute_result"
    }
   ],
   "source": [
    "data_cluster = data_use.copy()\n",
    "data_cluster['cluster'] = fit_dbscan.labels_\n",
    "data_cluster.head()"
   ]
  },
  {
   "cell_type": "markdown",
   "metadata": {},
   "source": [
    "#### 군집평균"
   ]
  },
  {
   "cell_type": "code",
   "execution_count": 292,
   "metadata": {},
   "outputs": [
    {
     "data": {
      "text/html": [
       "<div>\n",
       "<style scoped>\n",
       "    .dataframe tbody tr th:only-of-type {\n",
       "        vertical-align: middle;\n",
       "    }\n",
       "\n",
       "    .dataframe tbody tr th {\n",
       "        vertical-align: top;\n",
       "    }\n",
       "\n",
       "    .dataframe thead th {\n",
       "        text-align: right;\n",
       "    }\n",
       "</style>\n",
       "<table border=\"1\" class=\"dataframe\">\n",
       "  <thead>\n",
       "    <tr style=\"text-align: right;\">\n",
       "      <th></th>\n",
       "      <th>X18.19시</th>\n",
       "      <th>X08.09시</th>\n",
       "      <th>X17.18시</th>\n",
       "      <th>X16.17시</th>\n",
       "      <th>X15.16시</th>\n",
       "    </tr>\n",
       "    <tr>\n",
       "      <th>cluster</th>\n",
       "      <th></th>\n",
       "      <th></th>\n",
       "      <th></th>\n",
       "      <th></th>\n",
       "      <th></th>\n",
       "    </tr>\n",
       "  </thead>\n",
       "  <tbody>\n",
       "    <tr>\n",
       "      <th>-1</th>\n",
       "      <td>774.814145</td>\n",
       "      <td>268.324013</td>\n",
       "      <td>501.976974</td>\n",
       "      <td>414.064145</td>\n",
       "      <td>379.797697</td>\n",
       "    </tr>\n",
       "    <tr>\n",
       "      <th>0</th>\n",
       "      <td>240.729323</td>\n",
       "      <td>267.420583</td>\n",
       "      <td>156.047932</td>\n",
       "      <td>134.074718</td>\n",
       "      <td>126.731673</td>\n",
       "    </tr>\n",
       "    <tr>\n",
       "      <th>1</th>\n",
       "      <td>462.069079</td>\n",
       "      <td>670.427632</td>\n",
       "      <td>376.297697</td>\n",
       "      <td>324.631579</td>\n",
       "      <td>307.870066</td>\n",
       "    </tr>\n",
       "  </tbody>\n",
       "</table>\n",
       "</div>"
      ],
      "text/plain": [
       "            X18.19시     X08.09시     X17.18시     X16.17시     X15.16시\n",
       "cluster                                                            \n",
       "-1       774.814145  268.324013  501.976974  414.064145  379.797697\n",
       " 0       240.729323  267.420583  156.047932  134.074718  126.731673\n",
       " 1       462.069079  670.427632  376.297697  324.631579  307.870066"
      ]
     },
     "execution_count": 292,
     "metadata": {},
     "output_type": "execute_result"
    }
   ],
   "source": [
    "cluster_mean = data_cluster.groupby('cluster').mean()\n",
    "cluster_mean"
   ]
  },
  {
   "cell_type": "markdown",
   "metadata": {},
   "source": [
    "#### 군집산점도"
   ]
  },
  {
   "cell_type": "code",
   "execution_count": 293,
   "metadata": {},
   "outputs": [],
   "source": [
    "import matplotlib.pyplot as plt"
   ]
  },
  {
   "cell_type": "code",
   "execution_count": 294,
   "metadata": {},
   "outputs": [
    {
     "name": "stderr",
     "output_type": "stream",
     "text": [
      "*c* argument looks like a single numeric RGB or RGBA sequence, which should be avoided as value-mapping will have precedence in case its length matches with *x* & *y*.  Please use the *color* keyword-argument or provide a 2-D array with a single row if you intend to specify the same RGB or RGBA value for all points.\n"
     ]
    },
    {
     "ename": "ValueError",
     "evalue": "'c' argument has 3 elements, which is inconsistent with 'x' and 'y' with size 22.",
     "output_type": "error",
     "traceback": [
      "\u001b[1;31m---------------------------------------------------------------------------\u001b[0m",
      "\u001b[1;31mValueError\u001b[0m                                Traceback (most recent call last)",
      "\u001b[1;32m~\\anaconda3\\envs\\DataCampus\\lib\\site-packages\\matplotlib\\axes\\_axes.py\u001b[0m in \u001b[0;36m_parse_scatter_color_args\u001b[1;34m(c, edgecolors, kwargs, xsize, get_next_color_func)\u001b[0m\n\u001b[0;32m   4238\u001b[0m             \u001b[1;32mtry\u001b[0m\u001b[1;33m:\u001b[0m  \u001b[1;31m# Is 'c' acceptable as PathCollection facecolors?\u001b[0m\u001b[1;33m\u001b[0m\u001b[1;33m\u001b[0m\u001b[0m\n\u001b[1;32m-> 4239\u001b[1;33m                 \u001b[0mcolors\u001b[0m \u001b[1;33m=\u001b[0m \u001b[0mmcolors\u001b[0m\u001b[1;33m.\u001b[0m\u001b[0mto_rgba_array\u001b[0m\u001b[1;33m(\u001b[0m\u001b[0mc\u001b[0m\u001b[1;33m)\u001b[0m\u001b[1;33m\u001b[0m\u001b[1;33m\u001b[0m\u001b[0m\n\u001b[0m\u001b[0;32m   4240\u001b[0m             \u001b[1;32mexcept\u001b[0m \u001b[0mValueError\u001b[0m\u001b[1;33m:\u001b[0m\u001b[1;33m\u001b[0m\u001b[1;33m\u001b[0m\u001b[0m\n",
      "\u001b[1;32m~\\anaconda3\\envs\\DataCampus\\lib\\site-packages\\matplotlib\\colors.py\u001b[0m in \u001b[0;36mto_rgba_array\u001b[1;34m(c, alpha)\u001b[0m\n\u001b[0;32m    339\u001b[0m     \u001b[1;32melse\u001b[0m\u001b[1;33m:\u001b[0m\u001b[1;33m\u001b[0m\u001b[1;33m\u001b[0m\u001b[0m\n\u001b[1;32m--> 340\u001b[1;33m         \u001b[1;32mreturn\u001b[0m \u001b[0mnp\u001b[0m\u001b[1;33m.\u001b[0m\u001b[0marray\u001b[0m\u001b[1;33m(\u001b[0m\u001b[1;33m[\u001b[0m\u001b[0mto_rgba\u001b[0m\u001b[1;33m(\u001b[0m\u001b[0mcc\u001b[0m\u001b[1;33m,\u001b[0m \u001b[0malpha\u001b[0m\u001b[1;33m)\u001b[0m \u001b[1;32mfor\u001b[0m \u001b[0mcc\u001b[0m \u001b[1;32min\u001b[0m \u001b[0mc\u001b[0m\u001b[1;33m]\u001b[0m\u001b[1;33m)\u001b[0m\u001b[1;33m\u001b[0m\u001b[1;33m\u001b[0m\u001b[0m\n\u001b[0m\u001b[0;32m    341\u001b[0m \u001b[1;33m\u001b[0m\u001b[0m\n",
      "\u001b[1;32m~\\anaconda3\\envs\\DataCampus\\lib\\site-packages\\matplotlib\\colors.py\u001b[0m in \u001b[0;36m<listcomp>\u001b[1;34m(.0)\u001b[0m\n\u001b[0;32m    339\u001b[0m     \u001b[1;32melse\u001b[0m\u001b[1;33m:\u001b[0m\u001b[1;33m\u001b[0m\u001b[1;33m\u001b[0m\u001b[0m\n\u001b[1;32m--> 340\u001b[1;33m         \u001b[1;32mreturn\u001b[0m \u001b[0mnp\u001b[0m\u001b[1;33m.\u001b[0m\u001b[0marray\u001b[0m\u001b[1;33m(\u001b[0m\u001b[1;33m[\u001b[0m\u001b[0mto_rgba\u001b[0m\u001b[1;33m(\u001b[0m\u001b[0mcc\u001b[0m\u001b[1;33m,\u001b[0m \u001b[0malpha\u001b[0m\u001b[1;33m)\u001b[0m \u001b[1;32mfor\u001b[0m \u001b[0mcc\u001b[0m \u001b[1;32min\u001b[0m \u001b[0mc\u001b[0m\u001b[1;33m]\u001b[0m\u001b[1;33m)\u001b[0m\u001b[1;33m\u001b[0m\u001b[1;33m\u001b[0m\u001b[0m\n\u001b[0m\u001b[0;32m    341\u001b[0m \u001b[1;33m\u001b[0m\u001b[0m\n",
      "\u001b[1;32m~\\anaconda3\\envs\\DataCampus\\lib\\site-packages\\matplotlib\\colors.py\u001b[0m in \u001b[0;36mto_rgba\u001b[1;34m(c, alpha)\u001b[0m\n\u001b[0;32m    184\u001b[0m     \u001b[1;32mif\u001b[0m \u001b[0mrgba\u001b[0m \u001b[1;32mis\u001b[0m \u001b[1;32mNone\u001b[0m\u001b[1;33m:\u001b[0m  \u001b[1;31m# Suppress exception chaining of cache lookup failure.\u001b[0m\u001b[1;33m\u001b[0m\u001b[1;33m\u001b[0m\u001b[0m\n\u001b[1;32m--> 185\u001b[1;33m         \u001b[0mrgba\u001b[0m \u001b[1;33m=\u001b[0m \u001b[0m_to_rgba_no_colorcycle\u001b[0m\u001b[1;33m(\u001b[0m\u001b[0mc\u001b[0m\u001b[1;33m,\u001b[0m \u001b[0malpha\u001b[0m\u001b[1;33m)\u001b[0m\u001b[1;33m\u001b[0m\u001b[1;33m\u001b[0m\u001b[0m\n\u001b[0m\u001b[0;32m    186\u001b[0m         \u001b[1;32mtry\u001b[0m\u001b[1;33m:\u001b[0m\u001b[1;33m\u001b[0m\u001b[1;33m\u001b[0m\u001b[0m\n",
      "\u001b[1;32m~\\anaconda3\\envs\\DataCampus\\lib\\site-packages\\matplotlib\\colors.py\u001b[0m in \u001b[0;36m_to_rgba_no_colorcycle\u001b[1;34m(c, alpha)\u001b[0m\n\u001b[0;32m    267\u001b[0m         \u001b[1;31m# Test dimensionality to reject single floats.\u001b[0m\u001b[1;33m\u001b[0m\u001b[1;33m\u001b[0m\u001b[1;33m\u001b[0m\u001b[0m\n\u001b[1;32m--> 268\u001b[1;33m         \u001b[1;32mraise\u001b[0m \u001b[0mValueError\u001b[0m\u001b[1;33m(\u001b[0m\u001b[1;34mf\"Invalid RGBA argument: {orig_c!r}\"\u001b[0m\u001b[1;33m)\u001b[0m\u001b[1;33m\u001b[0m\u001b[1;33m\u001b[0m\u001b[0m\n\u001b[0m\u001b[0;32m    269\u001b[0m     \u001b[1;31m# Return a tuple to prevent the cached value from being modified.\u001b[0m\u001b[1;33m\u001b[0m\u001b[1;33m\u001b[0m\u001b[1;33m\u001b[0m\u001b[0m\n",
      "\u001b[1;31mValueError\u001b[0m: Invalid RGBA argument: -1.0",
      "\nDuring handling of the above exception, another exception occurred:\n",
      "\u001b[1;31mValueError\u001b[0m                                Traceback (most recent call last)",
      "\u001b[1;32m<ipython-input-294-8e22cc7095d0>\u001b[0m in \u001b[0;36m<module>\u001b[1;34m\u001b[0m\n\u001b[0;32m      3\u001b[0m \u001b[0mplt\u001b[0m\u001b[1;33m.\u001b[0m\u001b[0mscatter\u001b[0m\u001b[1;33m(\u001b[0m\u001b[0mdata_cluster\u001b[0m\u001b[1;33m[\u001b[0m\u001b[1;34m'X18.19시'\u001b[0m\u001b[1;33m]\u001b[0m\u001b[1;33m,\u001b[0m \u001b[0mdata_cluster\u001b[0m\u001b[1;33m[\u001b[0m\u001b[1;34m'X08.09시'\u001b[0m\u001b[1;33m]\u001b[0m\u001b[1;33m,\u001b[0m \u001b[0mc\u001b[0m \u001b[1;33m=\u001b[0m \u001b[0mdata_cluster\u001b[0m\u001b[1;33m[\u001b[0m\u001b[1;34m'cluster'\u001b[0m\u001b[1;33m]\u001b[0m\u001b[1;33m)\u001b[0m\u001b[1;33m\u001b[0m\u001b[1;33m\u001b[0m\u001b[0m\n\u001b[0;32m      4\u001b[0m \u001b[1;31m# 군집 평균\u001b[0m\u001b[1;33m\u001b[0m\u001b[1;33m\u001b[0m\u001b[1;33m\u001b[0m\u001b[0m\n\u001b[1;32m----> 5\u001b[1;33m \u001b[0mplt\u001b[0m\u001b[1;33m.\u001b[0m\u001b[0mscatter\u001b[0m\u001b[1;33m(\u001b[0m\u001b[0mdata_cluster\u001b[0m\u001b[1;33m[\u001b[0m\u001b[1;34m'X18.19시'\u001b[0m\u001b[1;33m]\u001b[0m\u001b[1;33m,\u001b[0m \u001b[0mdata_cluster\u001b[0m\u001b[1;33m[\u001b[0m\u001b[1;34m'X08.09시'\u001b[0m\u001b[1;33m]\u001b[0m\u001b[1;33m,\u001b[0m \u001b[0mc\u001b[0m \u001b[1;33m=\u001b[0m \u001b[0mcluster_mean\u001b[0m\u001b[1;33m.\u001b[0m\u001b[0mindex\u001b[0m\u001b[1;33m,\u001b[0m \u001b[0ms\u001b[0m\u001b[1;33m=\u001b[0m \u001b[1;36m200\u001b[0m\u001b[1;33m,\u001b[0m \u001b[0malpha\u001b[0m \u001b[1;33m=\u001b[0m \u001b[1;36m0.7\u001b[0m\u001b[1;33m)\u001b[0m\u001b[1;33m;\u001b[0m\u001b[1;33m\u001b[0m\u001b[1;33m\u001b[0m\u001b[0m\n\u001b[0m",
      "\u001b[1;32m~\\anaconda3\\envs\\DataCampus\\lib\\site-packages\\matplotlib\\pyplot.py\u001b[0m in \u001b[0;36mscatter\u001b[1;34m(x, y, s, c, marker, cmap, norm, vmin, vmax, alpha, linewidths, verts, edgecolors, plotnonfinite, data, **kwargs)\u001b[0m\n\u001b[0;32m   2809\u001b[0m         \u001b[0mverts\u001b[0m\u001b[1;33m=\u001b[0m\u001b[0mcbook\u001b[0m\u001b[1;33m.\u001b[0m\u001b[0mdeprecation\u001b[0m\u001b[1;33m.\u001b[0m\u001b[0m_deprecated_parameter\u001b[0m\u001b[1;33m,\u001b[0m\u001b[1;33m\u001b[0m\u001b[1;33m\u001b[0m\u001b[0m\n\u001b[0;32m   2810\u001b[0m         edgecolors=None, *, plotnonfinite=False, data=None, **kwargs):\n\u001b[1;32m-> 2811\u001b[1;33m     __ret = gca().scatter(\n\u001b[0m\u001b[0;32m   2812\u001b[0m         \u001b[0mx\u001b[0m\u001b[1;33m,\u001b[0m \u001b[0my\u001b[0m\u001b[1;33m,\u001b[0m \u001b[0ms\u001b[0m\u001b[1;33m=\u001b[0m\u001b[0ms\u001b[0m\u001b[1;33m,\u001b[0m \u001b[0mc\u001b[0m\u001b[1;33m=\u001b[0m\u001b[0mc\u001b[0m\u001b[1;33m,\u001b[0m \u001b[0mmarker\u001b[0m\u001b[1;33m=\u001b[0m\u001b[0mmarker\u001b[0m\u001b[1;33m,\u001b[0m \u001b[0mcmap\u001b[0m\u001b[1;33m=\u001b[0m\u001b[0mcmap\u001b[0m\u001b[1;33m,\u001b[0m \u001b[0mnorm\u001b[0m\u001b[1;33m=\u001b[0m\u001b[0mnorm\u001b[0m\u001b[1;33m,\u001b[0m\u001b[1;33m\u001b[0m\u001b[1;33m\u001b[0m\u001b[0m\n\u001b[0;32m   2813\u001b[0m         \u001b[0mvmin\u001b[0m\u001b[1;33m=\u001b[0m\u001b[0mvmin\u001b[0m\u001b[1;33m,\u001b[0m \u001b[0mvmax\u001b[0m\u001b[1;33m=\u001b[0m\u001b[0mvmax\u001b[0m\u001b[1;33m,\u001b[0m \u001b[0malpha\u001b[0m\u001b[1;33m=\u001b[0m\u001b[0malpha\u001b[0m\u001b[1;33m,\u001b[0m \u001b[0mlinewidths\u001b[0m\u001b[1;33m=\u001b[0m\u001b[0mlinewidths\u001b[0m\u001b[1;33m,\u001b[0m\u001b[1;33m\u001b[0m\u001b[1;33m\u001b[0m\u001b[0m\n",
      "\u001b[1;32m~\\anaconda3\\envs\\DataCampus\\lib\\site-packages\\matplotlib\\__init__.py\u001b[0m in \u001b[0;36minner\u001b[1;34m(ax, data, *args, **kwargs)\u001b[0m\n\u001b[0;32m   1563\u001b[0m     \u001b[1;32mdef\u001b[0m \u001b[0minner\u001b[0m\u001b[1;33m(\u001b[0m\u001b[0max\u001b[0m\u001b[1;33m,\u001b[0m \u001b[1;33m*\u001b[0m\u001b[0margs\u001b[0m\u001b[1;33m,\u001b[0m \u001b[0mdata\u001b[0m\u001b[1;33m=\u001b[0m\u001b[1;32mNone\u001b[0m\u001b[1;33m,\u001b[0m \u001b[1;33m**\u001b[0m\u001b[0mkwargs\u001b[0m\u001b[1;33m)\u001b[0m\u001b[1;33m:\u001b[0m\u001b[1;33m\u001b[0m\u001b[1;33m\u001b[0m\u001b[0m\n\u001b[0;32m   1564\u001b[0m         \u001b[1;32mif\u001b[0m \u001b[0mdata\u001b[0m \u001b[1;32mis\u001b[0m \u001b[1;32mNone\u001b[0m\u001b[1;33m:\u001b[0m\u001b[1;33m\u001b[0m\u001b[1;33m\u001b[0m\u001b[0m\n\u001b[1;32m-> 1565\u001b[1;33m             \u001b[1;32mreturn\u001b[0m \u001b[0mfunc\u001b[0m\u001b[1;33m(\u001b[0m\u001b[0max\u001b[0m\u001b[1;33m,\u001b[0m \u001b[1;33m*\u001b[0m\u001b[0mmap\u001b[0m\u001b[1;33m(\u001b[0m\u001b[0msanitize_sequence\u001b[0m\u001b[1;33m,\u001b[0m \u001b[0margs\u001b[0m\u001b[1;33m)\u001b[0m\u001b[1;33m,\u001b[0m \u001b[1;33m**\u001b[0m\u001b[0mkwargs\u001b[0m\u001b[1;33m)\u001b[0m\u001b[1;33m\u001b[0m\u001b[1;33m\u001b[0m\u001b[0m\n\u001b[0m\u001b[0;32m   1566\u001b[0m \u001b[1;33m\u001b[0m\u001b[0m\n\u001b[0;32m   1567\u001b[0m         \u001b[0mbound\u001b[0m \u001b[1;33m=\u001b[0m \u001b[0mnew_sig\u001b[0m\u001b[1;33m.\u001b[0m\u001b[0mbind\u001b[0m\u001b[1;33m(\u001b[0m\u001b[0max\u001b[0m\u001b[1;33m,\u001b[0m \u001b[1;33m*\u001b[0m\u001b[0margs\u001b[0m\u001b[1;33m,\u001b[0m \u001b[1;33m**\u001b[0m\u001b[0mkwargs\u001b[0m\u001b[1;33m)\u001b[0m\u001b[1;33m\u001b[0m\u001b[1;33m\u001b[0m\u001b[0m\n",
      "\u001b[1;32m~\\anaconda3\\envs\\DataCampus\\lib\\site-packages\\matplotlib\\cbook\\deprecation.py\u001b[0m in \u001b[0;36mwrapper\u001b[1;34m(*args, **kwargs)\u001b[0m\n\u001b[0;32m    356\u001b[0m                 \u001b[1;34mf\"%(removal)s.  If any parameter follows {name!r}, they \"\u001b[0m\u001b[1;33m\u001b[0m\u001b[1;33m\u001b[0m\u001b[0m\n\u001b[0;32m    357\u001b[0m                 f\"should be pass as keyword, not positionally.\")\n\u001b[1;32m--> 358\u001b[1;33m         \u001b[1;32mreturn\u001b[0m \u001b[0mfunc\u001b[0m\u001b[1;33m(\u001b[0m\u001b[1;33m*\u001b[0m\u001b[0margs\u001b[0m\u001b[1;33m,\u001b[0m \u001b[1;33m**\u001b[0m\u001b[0mkwargs\u001b[0m\u001b[1;33m)\u001b[0m\u001b[1;33m\u001b[0m\u001b[1;33m\u001b[0m\u001b[0m\n\u001b[0m\u001b[0;32m    359\u001b[0m \u001b[1;33m\u001b[0m\u001b[0m\n\u001b[0;32m    360\u001b[0m     \u001b[1;32mreturn\u001b[0m \u001b[0mwrapper\u001b[0m\u001b[1;33m\u001b[0m\u001b[1;33m\u001b[0m\u001b[0m\n",
      "\u001b[1;32m~\\anaconda3\\envs\\DataCampus\\lib\\site-packages\\matplotlib\\axes\\_axes.py\u001b[0m in \u001b[0;36mscatter\u001b[1;34m(self, x, y, s, c, marker, cmap, norm, vmin, vmax, alpha, linewidths, verts, edgecolors, plotnonfinite, **kwargs)\u001b[0m\n\u001b[0;32m   4399\u001b[0m \u001b[1;33m\u001b[0m\u001b[0m\n\u001b[0;32m   4400\u001b[0m         \u001b[0mc\u001b[0m\u001b[1;33m,\u001b[0m \u001b[0mcolors\u001b[0m\u001b[1;33m,\u001b[0m \u001b[0medgecolors\u001b[0m \u001b[1;33m=\u001b[0m\u001b[0;31m \u001b[0m\u001b[0;31m\\\u001b[0m\u001b[1;33m\u001b[0m\u001b[1;33m\u001b[0m\u001b[0m\n\u001b[1;32m-> 4401\u001b[1;33m             self._parse_scatter_color_args(\n\u001b[0m\u001b[0;32m   4402\u001b[0m                 \u001b[0mc\u001b[0m\u001b[1;33m,\u001b[0m \u001b[0medgecolors\u001b[0m\u001b[1;33m,\u001b[0m \u001b[0mkwargs\u001b[0m\u001b[1;33m,\u001b[0m \u001b[0mx\u001b[0m\u001b[1;33m.\u001b[0m\u001b[0msize\u001b[0m\u001b[1;33m,\u001b[0m\u001b[1;33m\u001b[0m\u001b[1;33m\u001b[0m\u001b[0m\n\u001b[0;32m   4403\u001b[0m                 get_next_color_func=self._get_patches_for_fill.get_next_color)\n",
      "\u001b[1;32m~\\anaconda3\\envs\\DataCampus\\lib\\site-packages\\matplotlib\\axes\\_axes.py\u001b[0m in \u001b[0;36m_parse_scatter_color_args\u001b[1;34m(c, edgecolors, kwargs, xsize, get_next_color_func)\u001b[0m\n\u001b[0;32m   4240\u001b[0m             \u001b[1;32mexcept\u001b[0m \u001b[0mValueError\u001b[0m\u001b[1;33m:\u001b[0m\u001b[1;33m\u001b[0m\u001b[1;33m\u001b[0m\u001b[0m\n\u001b[0;32m   4241\u001b[0m                 \u001b[1;32mif\u001b[0m \u001b[1;32mnot\u001b[0m \u001b[0mvalid_shape\u001b[0m\u001b[1;33m:\u001b[0m\u001b[1;33m\u001b[0m\u001b[1;33m\u001b[0m\u001b[0m\n\u001b[1;32m-> 4242\u001b[1;33m                     \u001b[1;32mraise\u001b[0m \u001b[0minvalid_shape_exception\u001b[0m\u001b[1;33m(\u001b[0m\u001b[0mc\u001b[0m\u001b[1;33m.\u001b[0m\u001b[0msize\u001b[0m\u001b[1;33m,\u001b[0m \u001b[0mxsize\u001b[0m\u001b[1;33m)\u001b[0m\u001b[1;33m\u001b[0m\u001b[1;33m\u001b[0m\u001b[0m\n\u001b[0m\u001b[0;32m   4243\u001b[0m                 \u001b[1;31m# Both the mapping *and* the RGBA conversion failed: pretty\u001b[0m\u001b[1;33m\u001b[0m\u001b[1;33m\u001b[0m\u001b[1;33m\u001b[0m\u001b[0m\n\u001b[0;32m   4244\u001b[0m                 \u001b[1;31m# severe failure => one may appreciate a verbose feedback.\u001b[0m\u001b[1;33m\u001b[0m\u001b[1;33m\u001b[0m\u001b[1;33m\u001b[0m\u001b[0m\n",
      "\u001b[1;31mValueError\u001b[0m: 'c' argument has 3 elements, which is inconsistent with 'x' and 'y' with size 22."
     ]
    },
    {
     "data": {
      "image/png": "[encoded data removed]",
      "text/plain": [
       "<Figure size 432x288 with 1 Axes>"
      ]
     },
     "metadata": {
      "needs_background": "light"
     },
     "output_type": "display_data"
    }
   ],
   "source": [
    "## 군집 산점도 \n",
    "\n",
    "plt.scatter(data_cluster['X18.19시'], data_cluster['X08.09시'], c = data_cluster['cluster'])\n",
    "# 군집 평균\n",
    "plt.scatter(data_cluster['X18.19시'], data_cluster['X08.09시'], c = cluster_mean.index, s= 200, alpha = 0.7);"
   ]
  },
  {
   "cell_type": "code",
   "execution_count": null,
   "metadata": {},
   "outputs": [],
   "source": [
    " "
   ]
  }
 ],
 "metadata": {
  "kernelspec": {
   "display_name": "Python 3",
   "language": "python",
   "name": "python3"
  },
  "language_info": {
   "codemirror_mode": {
    "name": "ipython",
    "version": 3
   },
   "file_extension": ".py",
   "mimetype": "text/x-python",
   "name": "python",
   "nbconvert_exporter": "python",
   "pygments_lexer": "ipython3",
   "version": "3.8.3"
  }
 },
 "nbformat": 4,
 "nbformat_minor": 4
}
